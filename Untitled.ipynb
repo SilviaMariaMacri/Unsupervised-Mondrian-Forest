{
 "cells": [
  {
   "cell_type": "code",
   "execution_count": 46,
   "id": "c5ad2188",
   "metadata": {},
   "outputs": [
    {
     "name": "stdout",
     "output_type": "stream",
     "text": [
      "C:\\Users\\silvi\\Desktop\\Fisica\\TESI\\Tesi\n"
     ]
    }
   ],
   "source": [
    "cd \"C:\\Users\\silvi\\Desktop\\Fisica\\TESI\\Tesi\""
   ]
  },
  {
   "cell_type": "code",
   "execution_count": 48,
   "id": "32c2a83b",
   "metadata": {},
   "outputs": [],
   "source": [
    "import json\n",
    "import pandas as pd\n",
    "import numpy as np\n",
    "import trova_partizioni_vicine"
   ]
  },
  {
   "cell_type": "markdown",
   "id": "be8241d4",
   "metadata": {},
   "source": [
    "# cerchi3D1"
   ]
  },
  {
   "cell_type": "code",
   "execution_count": 37,
   "id": "9e95e0be",
   "metadata": {},
   "outputs": [
    {
     "name": "stdout",
     "output_type": "stream",
     "text": [
      "C:\\Users\\silvi\\Desktop\\Fisica\\TESI\\Tesi\\grafici_assegnazione_classe\\dati_dimensione_generica\\SCORE ATTUALE 16 agosto\\24 agosto\\cerchi3D1\n"
     ]
    }
   ],
   "source": [
    "cd \"C:\\Users\\silvi\\Desktop\\Fisica\\TESI\\Tesi\\grafici_assegnazione_classe\\dati_dimensione_generica\\SCORE ATTUALE 16 agosto\\24 agosto\\cerchi3D1\""
   ]
  },
  {
   "cell_type": "code",
   "execution_count": null,
   "id": "e1115c45",
   "metadata": {},
   "outputs": [],
   "source": []
  },
  {
   "cell_type": "code",
   "execution_count": 38,
   "id": "c89cbfaf",
   "metadata": {},
   "outputs": [],
   "source": [
    "number_of_iterations = 10\n",
    "\n",
    "name = 'cerchi3D1_'\n",
    "\n",
    "list_part = []\n",
    "list_m = []\n",
    "\n",
    "list_p_tot = []\n",
    "list_m_leaf_tot = []\n",
    "\n",
    "for i in range(1,number_of_iterations):\n",
    "\n",
    "\tnamefile = name+str(i+1)\n",
    "\t\n",
    "\tpart = json.load(open(namefile+'_part.json','r'))\n",
    "\tpart = pd.DataFrame(part)\n",
    "\tm = json.load(open(namefile+'_m.json','r'))\n",
    "\tlist_part.append(part)\n",
    "\tlist_m.append(m)\n",
    "\t\n",
    "\tlist_p = json.load(open(namefile+'_p.json','r'))\n",
    "\tlist_m_leaf = json.load(open(namefile+'_m_leaf.json','r'))\n",
    "\tlist_p_tot.append(list_p)\n",
    "\tlist_m_leaf_tot.append(list_m_leaf)\t"
   ]
  },
  {
   "cell_type": "code",
   "execution_count": 41,
   "id": "e91f2f03",
   "metadata": {},
   "outputs": [],
   "source": [
    "class_data_tot = []\n",
    "for i in range(len(list_m_leaf_tot)):\n",
    "\tlist_m_leaf = list_m_leaf_tot[i].copy()\n",
    "\tclassified_data = trova_partizioni_vicine.AssignClass_BU(list_m_leaf)\n",
    "\tclass_data_tot.append(classified_data)"
   ]
  },
  {
   "cell_type": "code",
   "execution_count": 49,
   "id": "a1253631",
   "metadata": {},
   "outputs": [
    {
     "ename": "NameError",
     "evalue": "name 'plt' is not defined",
     "output_type": "error",
     "traceback": [
      "\u001b[1;31m---------------------------------------------------------------------------\u001b[0m",
      "\u001b[1;31mNameError\u001b[0m                                 Traceback (most recent call last)",
      "\u001b[1;32m<ipython-input-49-c254013b0f12>\u001b[0m in \u001b[0;36m<module>\u001b[1;34m\u001b[0m\n\u001b[1;32m----> 1\u001b[1;33m \u001b[0mtrova_partizioni_vicine\u001b[0m\u001b[1;33m.\u001b[0m\u001b[0mClassificationScore_BU\u001b[0m\u001b[1;33m(\u001b[0m\u001b[0mclass_data_tot\u001b[0m\u001b[1;33m,\u001b[0m\u001b[0mname\u001b[0m\u001b[1;33m)\u001b[0m\u001b[1;33m\u001b[0m\u001b[1;33m\u001b[0m\u001b[0m\n\u001b[0m",
      "\u001b[1;32m~\\Desktop\\Fisica\\TESI\\Tesi\\trova_partizioni_vicine.py\u001b[0m in \u001b[0;36mClassificationScore_BU\u001b[1;34m(class_data_tot_true, name_file)\u001b[0m\n\u001b[0;32m    698\u001b[0m \u001b[1;33m\u001b[0m\u001b[0m\n\u001b[0;32m    699\u001b[0m         \u001b[0mcoeff_medio\u001b[0m \u001b[1;33m=\u001b[0m \u001b[0mpd\u001b[0m\u001b[1;33m.\u001b[0m\u001b[0mDataFrame\u001b[0m\u001b[1;33m(\u001b[0m\u001b[0mcoeff_tot\u001b[0m\u001b[1;33m)\u001b[0m\u001b[1;33m.\u001b[0m\u001b[0mmean\u001b[0m\u001b[1;33m(\u001b[0m\u001b[1;33m)\u001b[0m\u001b[1;33m\u001b[0m\u001b[1;33m\u001b[0m\u001b[0m\n\u001b[1;32m--> 700\u001b[1;33m \u001b[1;33m\u001b[0m\u001b[0m\n\u001b[0m\u001b[0;32m    701\u001b[0m         \u001b[0mfig\u001b[0m\u001b[1;33m,\u001b[0m\u001b[0max\u001b[0m \u001b[1;33m=\u001b[0m \u001b[0mplt\u001b[0m\u001b[1;33m.\u001b[0m\u001b[0msubplots\u001b[0m\u001b[1;33m(\u001b[0m\u001b[1;33m)\u001b[0m\u001b[1;33m\u001b[0m\u001b[1;33m\u001b[0m\u001b[0m\n\u001b[0;32m    702\u001b[0m         \u001b[0max\u001b[0m\u001b[1;33m.\u001b[0m\u001b[0mplot\u001b[0m\u001b[1;33m(\u001b[0m\u001b[0mnp\u001b[0m\u001b[1;33m.\u001b[0m\u001b[0marange\u001b[0m\u001b[1;33m(\u001b[0m\u001b[1;36m2\u001b[0m\u001b[1;33m,\u001b[0m\u001b[0mlen\u001b[0m\u001b[1;33m(\u001b[0m\u001b[0mcoeff_medio\u001b[0m\u001b[1;33m)\u001b[0m\u001b[1;33m+\u001b[0m\u001b[1;36m1\u001b[0m\u001b[1;33m)\u001b[0m\u001b[1;33m,\u001b[0m\u001b[0mcoeff_medio\u001b[0m\u001b[1;33m[\u001b[0m\u001b[1;36m1\u001b[0m\u001b[1;33m:\u001b[0m\u001b[1;33m]\u001b[0m\u001b[1;33m)\u001b[0m\u001b[1;33m\u001b[0m\u001b[1;33m\u001b[0m\u001b[0m\n",
      "\u001b[1;31mNameError\u001b[0m: name 'plt' is not defined"
     ]
    }
   ],
   "source": [
    "trova_partizioni_vicine.ClassificationScore_BU(class_data_tot,name)"
   ]
  },
  {
   "cell_type": "code",
   "execution_count": null,
   "id": "deb2ecf9",
   "metadata": {},
   "outputs": [],
   "source": []
  },
  {
   "cell_type": "code",
   "execution_count": null,
   "id": "81e75280",
   "metadata": {},
   "outputs": [],
   "source": []
  },
  {
   "cell_type": "code",
   "execution_count": null,
   "id": "29866772",
   "metadata": {},
   "outputs": [],
   "source": []
  },
  {
   "cell_type": "code",
   "execution_count": null,
   "id": "02187d89",
   "metadata": {},
   "outputs": [],
   "source": []
  },
  {
   "cell_type": "code",
   "execution_count": null,
   "id": "c5ec1711",
   "metadata": {},
   "outputs": [],
   "source": []
  }
 ],
 "metadata": {
  "kernelspec": {
   "display_name": "Python 3",
   "language": "python",
   "name": "python3"
  },
  "language_info": {
   "codemirror_mode": {
    "name": "ipython",
    "version": 3
   },
   "file_extension": ".py",
   "mimetype": "text/x-python",
   "name": "python",
   "nbconvert_exporter": "python",
   "pygments_lexer": "ipython3",
   "version": "3.7.11"
  }
 },
 "nbformat": 4,
 "nbformat_minor": 5
}
