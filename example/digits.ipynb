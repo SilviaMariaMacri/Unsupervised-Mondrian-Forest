{
 "cells": [
  {
   "cell_type": "markdown",
   "id": "3e119774",
   "metadata": {},
   "source": [
    "# Digits dataset"
   ]
  },
  {
   "cell_type": "code",
   "execution_count": 1,
   "id": "3f0752de",
   "metadata": {},
   "outputs": [
    {
     "name": "stdout",
     "output_type": "stream",
     "text": [
      "C:\\Users\\silvi\\Desktop\\Fisica\\TESI\\tesi\n"
     ]
    }
   ],
   "source": [
    "cd  \"C:\\Users\\silvi\\Desktop\\Fisica\\TESI\\tesi\""
   ]
  },
  {
   "cell_type": "code",
   "execution_count": 2,
   "id": "54294b80",
   "metadata": {},
   "outputs": [],
   "source": [
    "import time\n",
    "import pandas as pd\n",
    "import numpy as np\n",
    "\n",
    "import Mondrian"
   ]
  },
  {
   "cell_type": "code",
   "execution_count": 3,
   "id": "8ef75e5c",
   "metadata": {},
   "outputs": [],
   "source": [
    "from sklearn import datasets\n",
    "dat = datasets.load_digits(n_class=10,as_frame=True)#, return_X_y=False, as_frame=False)[source]¶"
   ]
  },
  {
   "cell_type": "code",
   "execution_count": 4,
   "id": "240f7f1b",
   "metadata": {},
   "outputs": [
    {
     "data": {
      "text/plain": [
       "<Figure size 432x288 with 0 Axes>"
      ]
     },
     "metadata": {},
     "output_type": "display_data"
    },
    {
     "data": {
      "image/png": "[encoded data removed]",
      "text/plain": [
       "<Figure size 288x288 with 1 Axes>"
      ]
     },
     "metadata": {
      "needs_background": "light"
     },
     "output_type": "display_data"
    }
   ],
   "source": [
    "import matplotlib.pyplot as plt\n",
    "plt.gray()\n",
    "plt.matshow(dat.images[1769])\n",
    "plt.show()"
   ]
  },
  {
   "cell_type": "code",
   "execution_count": 5,
   "id": "bb881282",
   "metadata": {},
   "outputs": [],
   "source": [
    "dat_df = dat.data.copy()\n",
    "dat_df['target'] = dat.target\n",
    "dat_df = dat_df.sort_values(by='target')\n",
    "dat_df.index = np.arange(len(dat_df))"
   ]
  },
  {
   "cell_type": "code",
   "execution_count": 11,
   "id": "d451ad75",
   "metadata": {},
   "outputs": [
    {
     "data": {
      "text/html": [
       "<div>\n",
       "<style scoped>\n",
       "    .dataframe tbody tr th:only-of-type {\n",
       "        vertical-align: middle;\n",
       "    }\n",
       "\n",
       "    .dataframe tbody tr th {\n",
       "        vertical-align: top;\n",
       "    }\n",
       "\n",
       "    .dataframe thead th {\n",
       "        text-align: right;\n",
       "    }\n",
       "</style>\n",
       "<table border=\"1\" class=\"dataframe\">\n",
       "  <thead>\n",
       "    <tr style=\"text-align: right;\">\n",
       "      <th></th>\n",
       "      <th>pixel_0_0</th>\n",
       "      <th>pixel_0_1</th>\n",
       "      <th>pixel_0_2</th>\n",
       "      <th>pixel_0_3</th>\n",
       "      <th>pixel_0_4</th>\n",
       "      <th>pixel_0_5</th>\n",
       "      <th>pixel_0_6</th>\n",
       "      <th>pixel_0_7</th>\n",
       "      <th>pixel_1_0</th>\n",
       "      <th>pixel_1_1</th>\n",
       "      <th>...</th>\n",
       "      <th>pixel_6_7</th>\n",
       "      <th>pixel_7_0</th>\n",
       "      <th>pixel_7_1</th>\n",
       "      <th>pixel_7_2</th>\n",
       "      <th>pixel_7_3</th>\n",
       "      <th>pixel_7_4</th>\n",
       "      <th>pixel_7_5</th>\n",
       "      <th>pixel_7_6</th>\n",
       "      <th>pixel_7_7</th>\n",
       "      <th>target</th>\n",
       "    </tr>\n",
       "  </thead>\n",
       "  <tbody>\n",
       "    <tr>\n",
       "      <th>0</th>\n",
       "      <td>0.0</td>\n",
       "      <td>0.0</td>\n",
       "      <td>5.0</td>\n",
       "      <td>13.0</td>\n",
       "      <td>9.0</td>\n",
       "      <td>1.0</td>\n",
       "      <td>0.0</td>\n",
       "      <td>0.0</td>\n",
       "      <td>0.0</td>\n",
       "      <td>0.0</td>\n",
       "      <td>...</td>\n",
       "      <td>0.0</td>\n",
       "      <td>0.0</td>\n",
       "      <td>0.0</td>\n",
       "      <td>6.0</td>\n",
       "      <td>13.0</td>\n",
       "      <td>10.0</td>\n",
       "      <td>0.0</td>\n",
       "      <td>0.0</td>\n",
       "      <td>0.0</td>\n",
       "      <td>0</td>\n",
       "    </tr>\n",
       "    <tr>\n",
       "      <th>1</th>\n",
       "      <td>0.0</td>\n",
       "      <td>0.0</td>\n",
       "      <td>1.0</td>\n",
       "      <td>12.0</td>\n",
       "      <td>14.0</td>\n",
       "      <td>3.0</td>\n",
       "      <td>0.0</td>\n",
       "      <td>0.0</td>\n",
       "      <td>0.0</td>\n",
       "      <td>1.0</td>\n",
       "      <td>...</td>\n",
       "      <td>0.0</td>\n",
       "      <td>0.0</td>\n",
       "      <td>0.0</td>\n",
       "      <td>1.0</td>\n",
       "      <td>13.0</td>\n",
       "      <td>16.0</td>\n",
       "      <td>7.0</td>\n",
       "      <td>0.0</td>\n",
       "      <td>0.0</td>\n",
       "      <td>0</td>\n",
       "    </tr>\n",
       "    <tr>\n",
       "      <th>2</th>\n",
       "      <td>0.0</td>\n",
       "      <td>0.0</td>\n",
       "      <td>2.0</td>\n",
       "      <td>11.0</td>\n",
       "      <td>15.0</td>\n",
       "      <td>2.0</td>\n",
       "      <td>0.0</td>\n",
       "      <td>0.0</td>\n",
       "      <td>0.0</td>\n",
       "      <td>0.0</td>\n",
       "      <td>...</td>\n",
       "      <td>0.0</td>\n",
       "      <td>0.0</td>\n",
       "      <td>0.0</td>\n",
       "      <td>4.0</td>\n",
       "      <td>16.0</td>\n",
       "      <td>12.0</td>\n",
       "      <td>1.0</td>\n",
       "      <td>0.0</td>\n",
       "      <td>0.0</td>\n",
       "      <td>0</td>\n",
       "    </tr>\n",
       "    <tr>\n",
       "      <th>3</th>\n",
       "      <td>0.0</td>\n",
       "      <td>0.0</td>\n",
       "      <td>8.0</td>\n",
       "      <td>12.0</td>\n",
       "      <td>12.0</td>\n",
       "      <td>1.0</td>\n",
       "      <td>0.0</td>\n",
       "      <td>0.0</td>\n",
       "      <td>0.0</td>\n",
       "      <td>3.0</td>\n",
       "      <td>...</td>\n",
       "      <td>0.0</td>\n",
       "      <td>0.0</td>\n",
       "      <td>0.0</td>\n",
       "      <td>5.0</td>\n",
       "      <td>13.0</td>\n",
       "      <td>11.0</td>\n",
       "      <td>4.0</td>\n",
       "      <td>0.0</td>\n",
       "      <td>0.0</td>\n",
       "      <td>0</td>\n",
       "    </tr>\n",
       "    <tr>\n",
       "      <th>4</th>\n",
       "      <td>0.0</td>\n",
       "      <td>0.0</td>\n",
       "      <td>0.0</td>\n",
       "      <td>16.0</td>\n",
       "      <td>6.0</td>\n",
       "      <td>0.0</td>\n",
       "      <td>0.0</td>\n",
       "      <td>0.0</td>\n",
       "      <td>0.0</td>\n",
       "      <td>0.0</td>\n",
       "      <td>...</td>\n",
       "      <td>0.0</td>\n",
       "      <td>0.0</td>\n",
       "      <td>0.0</td>\n",
       "      <td>1.0</td>\n",
       "      <td>11.0</td>\n",
       "      <td>15.0</td>\n",
       "      <td>3.0</td>\n",
       "      <td>0.0</td>\n",
       "      <td>0.0</td>\n",
       "      <td>0</td>\n",
       "    </tr>\n",
       "    <tr>\n",
       "      <th>...</th>\n",
       "      <td>...</td>\n",
       "      <td>...</td>\n",
       "      <td>...</td>\n",
       "      <td>...</td>\n",
       "      <td>...</td>\n",
       "      <td>...</td>\n",
       "      <td>...</td>\n",
       "      <td>...</td>\n",
       "      <td>...</td>\n",
       "      <td>...</td>\n",
       "      <td>...</td>\n",
       "      <td>...</td>\n",
       "      <td>...</td>\n",
       "      <td>...</td>\n",
       "      <td>...</td>\n",
       "      <td>...</td>\n",
       "      <td>...</td>\n",
       "      <td>...</td>\n",
       "      <td>...</td>\n",
       "      <td>...</td>\n",
       "      <td>...</td>\n",
       "    </tr>\n",
       "    <tr>\n",
       "      <th>1792</th>\n",
       "      <td>0.0</td>\n",
       "      <td>1.0</td>\n",
       "      <td>8.0</td>\n",
       "      <td>13.0</td>\n",
       "      <td>15.0</td>\n",
       "      <td>5.0</td>\n",
       "      <td>0.0</td>\n",
       "      <td>0.0</td>\n",
       "      <td>0.0</td>\n",
       "      <td>8.0</td>\n",
       "      <td>...</td>\n",
       "      <td>0.0</td>\n",
       "      <td>0.0</td>\n",
       "      <td>0.0</td>\n",
       "      <td>6.0</td>\n",
       "      <td>13.0</td>\n",
       "      <td>16.0</td>\n",
       "      <td>15.0</td>\n",
       "      <td>6.0</td>\n",
       "      <td>0.0</td>\n",
       "      <td>9</td>\n",
       "    </tr>\n",
       "    <tr>\n",
       "      <th>1793</th>\n",
       "      <td>0.0</td>\n",
       "      <td>0.0</td>\n",
       "      <td>9.0</td>\n",
       "      <td>13.0</td>\n",
       "      <td>6.0</td>\n",
       "      <td>0.0</td>\n",
       "      <td>0.0</td>\n",
       "      <td>0.0</td>\n",
       "      <td>0.0</td>\n",
       "      <td>0.0</td>\n",
       "      <td>...</td>\n",
       "      <td>0.0</td>\n",
       "      <td>0.0</td>\n",
       "      <td>0.0</td>\n",
       "      <td>10.0</td>\n",
       "      <td>14.0</td>\n",
       "      <td>14.0</td>\n",
       "      <td>7.0</td>\n",
       "      <td>0.0</td>\n",
       "      <td>0.0</td>\n",
       "      <td>9</td>\n",
       "    </tr>\n",
       "    <tr>\n",
       "      <th>1794</th>\n",
       "      <td>0.0</td>\n",
       "      <td>0.0</td>\n",
       "      <td>1.0</td>\n",
       "      <td>12.0</td>\n",
       "      <td>16.0</td>\n",
       "      <td>14.0</td>\n",
       "      <td>2.0</td>\n",
       "      <td>0.0</td>\n",
       "      <td>0.0</td>\n",
       "      <td>0.0</td>\n",
       "      <td>...</td>\n",
       "      <td>0.0</td>\n",
       "      <td>0.0</td>\n",
       "      <td>0.0</td>\n",
       "      <td>3.0</td>\n",
       "      <td>12.0</td>\n",
       "      <td>16.0</td>\n",
       "      <td>11.0</td>\n",
       "      <td>1.0</td>\n",
       "      <td>0.0</td>\n",
       "      <td>9</td>\n",
       "    </tr>\n",
       "    <tr>\n",
       "      <th>1795</th>\n",
       "      <td>0.0</td>\n",
       "      <td>0.0</td>\n",
       "      <td>6.0</td>\n",
       "      <td>12.0</td>\n",
       "      <td>14.0</td>\n",
       "      <td>4.0</td>\n",
       "      <td>0.0</td>\n",
       "      <td>0.0</td>\n",
       "      <td>0.0</td>\n",
       "      <td>2.0</td>\n",
       "      <td>...</td>\n",
       "      <td>0.0</td>\n",
       "      <td>0.0</td>\n",
       "      <td>0.0</td>\n",
       "      <td>7.0</td>\n",
       "      <td>13.0</td>\n",
       "      <td>12.0</td>\n",
       "      <td>4.0</td>\n",
       "      <td>0.0</td>\n",
       "      <td>0.0</td>\n",
       "      <td>9</td>\n",
       "    </tr>\n",
       "    <tr>\n",
       "      <th>1796</th>\n",
       "      <td>0.0</td>\n",
       "      <td>0.0</td>\n",
       "      <td>0.0</td>\n",
       "      <td>7.0</td>\n",
       "      <td>12.0</td>\n",
       "      <td>16.0</td>\n",
       "      <td>16.0</td>\n",
       "      <td>15.0</td>\n",
       "      <td>0.0</td>\n",
       "      <td>0.0</td>\n",
       "      <td>...</td>\n",
       "      <td>0.0</td>\n",
       "      <td>0.0</td>\n",
       "      <td>0.0</td>\n",
       "      <td>0.0</td>\n",
       "      <td>12.0</td>\n",
       "      <td>6.0</td>\n",
       "      <td>0.0</td>\n",
       "      <td>0.0</td>\n",
       "      <td>0.0</td>\n",
       "      <td>9</td>\n",
       "    </tr>\n",
       "  </tbody>\n",
       "</table>\n",
       "<p>1797 rows × 65 columns</p>\n",
       "</div>"
      ],
      "text/plain": [
       "      pixel_0_0  pixel_0_1  pixel_0_2  pixel_0_3  pixel_0_4  pixel_0_5  \\\n",
       "0           0.0        0.0        5.0       13.0        9.0        1.0   \n",
       "1           0.0        0.0        1.0       12.0       14.0        3.0   \n",
       "2           0.0        0.0        2.0       11.0       15.0        2.0   \n",
       "3           0.0        0.0        8.0       12.0       12.0        1.0   \n",
       "4           0.0        0.0        0.0       16.0        6.0        0.0   \n",
       "...         ...        ...        ...        ...        ...        ...   \n",
       "1792        0.0        1.0        8.0       13.0       15.0        5.0   \n",
       "1793        0.0        0.0        9.0       13.0        6.0        0.0   \n",
       "1794        0.0        0.0        1.0       12.0       16.0       14.0   \n",
       "1795        0.0        0.0        6.0       12.0       14.0        4.0   \n",
       "1796        0.0        0.0        0.0        7.0       12.0       16.0   \n",
       "\n",
       "      pixel_0_6  pixel_0_7  pixel_1_0  pixel_1_1  ...  pixel_6_7  pixel_7_0  \\\n",
       "0           0.0        0.0        0.0        0.0  ...        0.0        0.0   \n",
       "1           0.0        0.0        0.0        1.0  ...        0.0        0.0   \n",
       "2           0.0        0.0        0.0        0.0  ...        0.0        0.0   \n",
       "3           0.0        0.0        0.0        3.0  ...        0.0        0.0   \n",
       "4           0.0        0.0        0.0        0.0  ...        0.0        0.0   \n",
       "...         ...        ...        ...        ...  ...        ...        ...   \n",
       "1792        0.0        0.0        0.0        8.0  ...        0.0        0.0   \n",
       "1793        0.0        0.0        0.0        0.0  ...        0.0        0.0   \n",
       "1794        2.0        0.0        0.0        0.0  ...        0.0        0.0   \n",
       "1795        0.0        0.0        0.0        2.0  ...        0.0        0.0   \n",
       "1796       16.0       15.0        0.0        0.0  ...        0.0        0.0   \n",
       "\n",
       "      pixel_7_1  pixel_7_2  pixel_7_3  pixel_7_4  pixel_7_5  pixel_7_6  \\\n",
       "0           0.0        6.0       13.0       10.0        0.0        0.0   \n",
       "1           0.0        1.0       13.0       16.0        7.0        0.0   \n",
       "2           0.0        4.0       16.0       12.0        1.0        0.0   \n",
       "3           0.0        5.0       13.0       11.0        4.0        0.0   \n",
       "4           0.0        1.0       11.0       15.0        3.0        0.0   \n",
       "...         ...        ...        ...        ...        ...        ...   \n",
       "1792        0.0        6.0       13.0       16.0       15.0        6.0   \n",
       "1793        0.0       10.0       14.0       14.0        7.0        0.0   \n",
       "1794        0.0        3.0       12.0       16.0       11.0        1.0   \n",
       "1795        0.0        7.0       13.0       12.0        4.0        0.0   \n",
       "1796        0.0        0.0       12.0        6.0        0.0        0.0   \n",
       "\n",
       "      pixel_7_7  target  \n",
       "0           0.0       0  \n",
       "1           0.0       0  \n",
       "2           0.0       0  \n",
       "3           0.0       0  \n",
       "4           0.0       0  \n",
       "...         ...     ...  \n",
       "1792        0.0       9  \n",
       "1793        0.0       9  \n",
       "1794        0.0       9  \n",
       "1795        0.0       9  \n",
       "1796        0.0       9  \n",
       "\n",
       "[1797 rows x 65 columns]"
      ]
     },
     "execution_count": 11,
     "metadata": {},
     "output_type": "execute_result"
    }
   ],
   "source": [
    "dat_df"
   ]
  },
  {
   "cell_type": "code",
   "execution_count": 7,
   "id": "8b350806",
   "metadata": {},
   "outputs": [],
   "source": [
    "number_of_samples_per_class = 10\n",
    "random_state = 10\n",
    "\n",
    "data = pd.DataFrame()\n",
    "for i in range(10):\n",
    "    data_i = dat_df[dat_df.target == i].sample(n=number_of_samples_per_class,random_state=random_state)\n",
    "    data = pd.concat([data,data_i])\n",
    "data.index = np.arange(len(data))"
   ]
  },
  {
   "cell_type": "code",
   "execution_count": 8,
   "id": "fc3b74e0",
   "metadata": {},
   "outputs": [],
   "source": [
    "X = np.array(data[data.columns[0:-1]])\n",
    "y = np.array(data[data.columns[-1]])"
   ]
  },
  {
   "cell_type": "code",
   "execution_count": 12,
   "id": "d49032ea",
   "metadata": {},
   "outputs": [
    {
     "data": {
      "text/plain": [
       "100"
      ]
     },
     "execution_count": 12,
     "metadata": {},
     "output_type": "execute_result"
    }
   ],
   "source": [
    "len(X)"
   ]
  },
  {
   "cell_type": "code",
   "execution_count": 12,
   "id": "d6ddf7ea",
   "metadata": {},
   "outputs": [
    {
     "name": "stdout",
     "output_type": "stream",
     "text": [
      "5.2026658999999995\n"
     ]
    }
   ],
   "source": [
    "import Matrix\n",
    "\n",
    "start = time.perf_counter()\n",
    "cut_ensemble = Matrix.cut_ensemble(X)\n",
    "end = time.perf_counter()\n",
    "print(end - start)"
   ]
  },
  {
   "cell_type": "code",
   "execution_count": 10,
   "id": "bd775843",
   "metadata": {},
   "outputs": [
    {
     "name": "stdout",
     "output_type": "stream",
     "text": [
      "12.823112799999997\n"
     ]
    }
   ],
   "source": [
    "import Matrix\n",
    "\n",
    "start = time.perf_counter()\n",
    "cut_ensemble = Matrix.cut_ensemble(X)\n",
    "end = time.perf_counter()\n",
    "print(end - start)"
   ]
  },
  {
   "cell_type": "code",
   "execution_count": 14,
   "id": "191dff47",
   "metadata": {},
   "outputs": [],
   "source": [
    "t0 = 0\n",
    "lifetime = 10\n",
    "exp = 15\n",
    "metric = 'min_corr'"
   ]
  },
  {
   "cell_type": "code",
   "execution_count": 16,
   "id": "171a8101",
   "metadata": {},
   "outputs": [
    {
     "name": "stdout",
     "output_type": "stream",
     "text": [
      "PARTITIONING:\n",
      "total number of splits: 62\n",
      "MERGING:\n",
      "range of possible number of clusters: 1-40\n",
      "1699.046554\n"
     ]
    }
   ],
   "source": [
    "# prima di modifica codice\n",
    "start = time.perf_counter()\n",
    "\n",
    "data,part,m,list_p,classified_data = Mondrian.mondrian_tree(X,t0,lifetime,exp,metric)\n",
    "\n",
    "end = time.perf_counter()\n",
    "print(end - start)"
   ]
  },
  {
   "cell_type": "code",
   "execution_count": 15,
   "id": "6f2b5abe",
   "metadata": {},
   "outputs": [
    {
     "name": "stdout",
     "output_type": "stream",
     "text": [
      "PARTITIONING:\n",
      "total number of splits: 61\n",
      "MERGING:\n",
      "range of possible number of clusters: 1-41\n",
      "135.81593549999997\n"
     ]
    }
   ],
   "source": [
    "# dopo modifica codice\n",
    "start = time.perf_counter()\n",
    "\n",
    "data,part,m,list_p,classified_data = Mondrian.mondrian_tree(X,t0,lifetime,exp,metric)\n",
    "\n",
    "end = time.perf_counter()\n",
    "print(end - start)"
   ]
  },
  {
   "cell_type": "code",
   "execution_count": 43,
   "id": "3804410f",
   "metadata": {},
   "outputs": [
    {
     "data": {
      "text/plain": [
       "'example/digits_n10_seed10/digits_n10_seed10_lifetime10_exp15_min_corr_0'"
      ]
     },
     "execution_count": 43,
     "metadata": {},
     "output_type": "execute_result"
    }
   ],
   "source": [
    "namefile_number = 0\n",
    "namefile = 'example/digits_n'+str(number_of_samples_per_class)+'_seed'+str(random_state)+'/digits_n'+str(number_of_samples_per_class)+'_seed'+str(random_state)+'_lifetime'+str(lifetime)+'_exp'+str(exp)+'_'+metric+'_'+str(namefile_number)\n",
    "namefile"
   ]
  },
  {
   "cell_type": "code",
   "execution_count": 44,
   "id": "771b042b",
   "metadata": {},
   "outputs": [],
   "source": [
    "Mondrian.save_tree(namefile,data,part,m,list_p,classified_data)"
   ]
  },
  {
   "cell_type": "code",
   "execution_count": 45,
   "id": "42fd9484",
   "metadata": {},
   "outputs": [
    {
     "data": {
      "text/plain": [
       "0.38968585613772194"
      ]
     },
     "execution_count": 45,
     "metadata": {},
     "output_type": "execute_result"
    }
   ],
   "source": [
    "from sklearn.metrics.cluster import fowlkes_mallows_score\n",
    "\n",
    "number_of_clusters = 10\n",
    "fms = fowlkes_mallows_score(classified_data[number_of_clusters-1],y)\n",
    "fms"
   ]
  },
  {
   "cell_type": "code",
   "execution_count": 47,
   "id": "e4a8cb67",
   "metadata": {},
   "outputs": [
    {
     "data": {
      "text/html": [
       "<div>\n",
       "<style scoped>\n",
       "    .dataframe tbody tr th:only-of-type {\n",
       "        vertical-align: middle;\n",
       "    }\n",
       "\n",
       "    .dataframe tbody tr th {\n",
       "        vertical-align: top;\n",
       "    }\n",
       "\n",
       "    .dataframe thead th {\n",
       "        text-align: right;\n",
       "    }\n",
       "</style>\n",
       "<table border=\"1\" class=\"dataframe\">\n",
       "  <thead>\n",
       "    <tr style=\"text-align: right;\">\n",
       "      <th></th>\n",
       "      <th>time</th>\n",
       "      <th>father</th>\n",
       "      <th>part_number</th>\n",
       "      <th>leaf</th>\n",
       "    </tr>\n",
       "  </thead>\n",
       "  <tbody>\n",
       "    <tr>\n",
       "      <th>0</th>\n",
       "      <td>0.000000</td>\n",
       "      <td>nan</td>\n",
       "      <td>0</td>\n",
       "      <td>False</td>\n",
       "    </tr>\n",
       "    <tr>\n",
       "      <th>1</th>\n",
       "      <td>0.000810</td>\n",
       "      <td>0</td>\n",
       "      <td>1</td>\n",
       "      <td>False</td>\n",
       "    </tr>\n",
       "    <tr>\n",
       "      <th>2</th>\n",
       "      <td>0.000810</td>\n",
       "      <td>0</td>\n",
       "      <td>2</td>\n",
       "      <td>False</td>\n",
       "    </tr>\n",
       "    <tr>\n",
       "      <th>3</th>\n",
       "      <td>0.012458</td>\n",
       "      <td>1</td>\n",
       "      <td>3</td>\n",
       "      <td>False</td>\n",
       "    </tr>\n",
       "    <tr>\n",
       "      <th>4</th>\n",
       "      <td>0.012458</td>\n",
       "      <td>1</td>\n",
       "      <td>4</td>\n",
       "      <td>False</td>\n",
       "    </tr>\n",
       "    <tr>\n",
       "      <th>...</th>\n",
       "      <td>...</td>\n",
       "      <td>...</td>\n",
       "      <td>...</td>\n",
       "      <td>...</td>\n",
       "    </tr>\n",
       "    <tr>\n",
       "      <th>120</th>\n",
       "      <td>1.000146</td>\n",
       "      <td>115</td>\n",
       "      <td>120</td>\n",
       "      <td>True</td>\n",
       "    </tr>\n",
       "    <tr>\n",
       "      <th>121</th>\n",
       "      <td>1.107294</td>\n",
       "      <td>119</td>\n",
       "      <td>121</td>\n",
       "      <td>False</td>\n",
       "    </tr>\n",
       "    <tr>\n",
       "      <th>122</th>\n",
       "      <td>1.107294</td>\n",
       "      <td>119</td>\n",
       "      <td>122</td>\n",
       "      <td>True</td>\n",
       "    </tr>\n",
       "    <tr>\n",
       "      <th>123</th>\n",
       "      <td>1.214166</td>\n",
       "      <td>121</td>\n",
       "      <td>123</td>\n",
       "      <td>True</td>\n",
       "    </tr>\n",
       "    <tr>\n",
       "      <th>124</th>\n",
       "      <td>1.214166</td>\n",
       "      <td>121</td>\n",
       "      <td>124</td>\n",
       "      <td>True</td>\n",
       "    </tr>\n",
       "  </tbody>\n",
       "</table>\n",
       "<p>125 rows × 4 columns</p>\n",
       "</div>"
      ],
      "text/plain": [
       "         time father  part_number   leaf\n",
       "0    0.000000    nan            0  False\n",
       "1    0.000810      0            1  False\n",
       "2    0.000810      0            2  False\n",
       "3    0.012458      1            3  False\n",
       "4    0.012458      1            4  False\n",
       "..        ...    ...          ...    ...\n",
       "120  1.000146    115          120   True\n",
       "121  1.107294    119          121  False\n",
       "122  1.107294    119          122   True\n",
       "123  1.214166    121          123   True\n",
       "124  1.214166    121          124   True\n",
       "\n",
       "[125 rows x 4 columns]"
      ]
     },
     "execution_count": 47,
     "metadata": {},
     "output_type": "execute_result"
    }
   ],
   "source": [
    "part[part.columns[:-1]]"
   ]
  },
  {
   "cell_type": "code",
   "execution_count": 62,
   "id": "c6227b4b",
   "metadata": {},
   "outputs": [],
   "source": [
    "#labels = np.unique(classified_data[-1])\n",
    "#for i in range(len(labels)):\n",
    "#    print(classified_data[-1].count(labels[i]))"
   ]
  },
  {
   "cell_type": "code",
   "execution_count": 55,
   "id": "58862403",
   "metadata": {
    "scrolled": true
   },
   "outputs": [
    {
     "data": {
      "text/html": [
       "<div>\n",
       "<style scoped>\n",
       "    .dataframe tbody tr th:only-of-type {\n",
       "        vertical-align: middle;\n",
       "    }\n",
       "\n",
       "    .dataframe tbody tr th {\n",
       "        vertical-align: top;\n",
       "    }\n",
       "\n",
       "    .dataframe thead th {\n",
       "        text-align: right;\n",
       "    }\n",
       "</style>\n",
       "<table border=\"1\" class=\"dataframe\">\n",
       "  <thead>\n",
       "    <tr style=\"text-align: right;\">\n",
       "      <th></th>\n",
       "      <th>part_number</th>\n",
       "      <th>neighbors</th>\n",
       "      <th>merged_part</th>\n",
       "    </tr>\n",
       "  </thead>\n",
       "  <tbody>\n",
       "    <tr>\n",
       "      <th>0</th>\n",
       "      <td>15.0</td>\n",
       "      <td>[17.0, 19.0, 22.0, 30.0, 32.0, 37.0, 42.0, 46....</td>\n",
       "      <td>[]</td>\n",
       "    </tr>\n",
       "    <tr>\n",
       "      <th>1</th>\n",
       "      <td>17.0</td>\n",
       "      <td>[15.0, 19.0, 22.0, 30.0, 32.0, 37.0, 42.0, 46....</td>\n",
       "      <td>[40.0]</td>\n",
       "    </tr>\n",
       "    <tr>\n",
       "      <th>2</th>\n",
       "      <td>19.0</td>\n",
       "      <td>[15.0, 17.0, 22.0, 30.0, 32.0, 37.0, 42.0, 46....</td>\n",
       "      <td>[]</td>\n",
       "    </tr>\n",
       "    <tr>\n",
       "      <th>3</th>\n",
       "      <td>22.0</td>\n",
       "      <td>[15.0, 17.0, 19.0, 30.0, 32.0, 37.0, 42.0, 46....</td>\n",
       "      <td>[12.0]</td>\n",
       "    </tr>\n",
       "    <tr>\n",
       "      <th>4</th>\n",
       "      <td>30.0</td>\n",
       "      <td>[15.0, 17.0, 19.0, 22.0, 32.0, 37.0, 42.0, 46....</td>\n",
       "      <td>[29.0]</td>\n",
       "    </tr>\n",
       "    <tr>\n",
       "      <th>5</th>\n",
       "      <td>32.0</td>\n",
       "      <td>[15.0, 17.0, 19.0, 22.0, 30.0, 37.0, 42.0, 46....</td>\n",
       "      <td>[]</td>\n",
       "    </tr>\n",
       "    <tr>\n",
       "      <th>6</th>\n",
       "      <td>37.0</td>\n",
       "      <td>[15.0, 17.0, 19.0, 22.0, 30.0, 32.0, 42.0, 46....</td>\n",
       "      <td>[18.0]</td>\n",
       "    </tr>\n",
       "    <tr>\n",
       "      <th>7</th>\n",
       "      <td>42.0</td>\n",
       "      <td>[15.0, 17.0, 19.0, 22.0, 30.0, 32.0, 37.0, 46....</td>\n",
       "      <td>[50.0]</td>\n",
       "    </tr>\n",
       "    <tr>\n",
       "      <th>8</th>\n",
       "      <td>46.0</td>\n",
       "      <td>[15.0, 17.0, 19.0, 22.0, 30.0, 32.0, 37.0, 42....</td>\n",
       "      <td>[]</td>\n",
       "    </tr>\n",
       "    <tr>\n",
       "      <th>9</th>\n",
       "      <td>47.0</td>\n",
       "      <td>[15.0, 17.0, 19.0, 22.0, 30.0, 32.0, 37.0, 42....</td>\n",
       "      <td>[38.0]</td>\n",
       "    </tr>\n",
       "    <tr>\n",
       "      <th>10</th>\n",
       "      <td>49.0</td>\n",
       "      <td>[15.0, 17.0, 19.0, 22.0, 30.0, 32.0, 37.0, 42....</td>\n",
       "      <td>[]</td>\n",
       "    </tr>\n",
       "    <tr>\n",
       "      <th>11</th>\n",
       "      <td>56.0</td>\n",
       "      <td>[15.0, 17.0, 19.0, 22.0, 30.0, 32.0, 37.0, 42....</td>\n",
       "      <td>[]</td>\n",
       "    </tr>\n",
       "    <tr>\n",
       "      <th>12</th>\n",
       "      <td>59.0</td>\n",
       "      <td>[15.0, 17.0, 19.0, 22.0, 30.0, 32.0, 37.0, 42....</td>\n",
       "      <td>[]</td>\n",
       "    </tr>\n",
       "    <tr>\n",
       "      <th>13</th>\n",
       "      <td>61.0</td>\n",
       "      <td>[15.0, 17.0, 19.0, 22.0, 30.0, 32.0, 37.0, 42....</td>\n",
       "      <td>[]</td>\n",
       "    </tr>\n",
       "    <tr>\n",
       "      <th>14</th>\n",
       "      <td>63.0</td>\n",
       "      <td>[15.0, 17.0, 19.0, 22.0, 30.0, 32.0, 37.0, 42....</td>\n",
       "      <td>[20.0]</td>\n",
       "    </tr>\n",
       "    <tr>\n",
       "      <th>15</th>\n",
       "      <td>64.0</td>\n",
       "      <td>[15.0, 17.0, 19.0, 22.0, 30.0, 32.0, 37.0, 42....</td>\n",
       "      <td>[]</td>\n",
       "    </tr>\n",
       "    <tr>\n",
       "      <th>16</th>\n",
       "      <td>69.0</td>\n",
       "      <td>[15.0, 17.0, 19.0, 22.0, 30.0, 32.0, 37.0, 42....</td>\n",
       "      <td>[]</td>\n",
       "    </tr>\n",
       "    <tr>\n",
       "      <th>17</th>\n",
       "      <td>76.0</td>\n",
       "      <td>[15.0, 17.0, 19.0, 22.0, 30.0, 32.0, 37.0, 42....</td>\n",
       "      <td>[44.0, 75.0, 110.0]</td>\n",
       "    </tr>\n",
       "    <tr>\n",
       "      <th>18</th>\n",
       "      <td>80.0</td>\n",
       "      <td>[15.0, 17.0, 19.0, 22.0, 30.0, 32.0, 37.0, 42....</td>\n",
       "      <td>[10.0]</td>\n",
       "    </tr>\n",
       "    <tr>\n",
       "      <th>19</th>\n",
       "      <td>81.0</td>\n",
       "      <td>[15.0, 17.0, 19.0, 22.0, 30.0, 32.0, 37.0, 42....</td>\n",
       "      <td>[82.0]</td>\n",
       "    </tr>\n",
       "    <tr>\n",
       "      <th>20</th>\n",
       "      <td>83.0</td>\n",
       "      <td>[15.0, 17.0, 19.0, 22.0, 30.0, 32.0, 37.0, 42....</td>\n",
       "      <td>[]</td>\n",
       "    </tr>\n",
       "    <tr>\n",
       "      <th>21</th>\n",
       "      <td>85.0</td>\n",
       "      <td>[15.0, 17.0, 19.0, 22.0, 30.0, 32.0, 37.0, 42....</td>\n",
       "      <td>[]</td>\n",
       "    </tr>\n",
       "    <tr>\n",
       "      <th>22</th>\n",
       "      <td>87.0</td>\n",
       "      <td>[15.0, 17.0, 19.0, 22.0, 30.0, 32.0, 37.0, 42....</td>\n",
       "      <td>[]</td>\n",
       "    </tr>\n",
       "    <tr>\n",
       "      <th>23</th>\n",
       "      <td>88.0</td>\n",
       "      <td>[15.0, 17.0, 19.0, 22.0, 30.0, 32.0, 37.0, 42....</td>\n",
       "      <td>[]</td>\n",
       "    </tr>\n",
       "    <tr>\n",
       "      <th>24</th>\n",
       "      <td>89.0</td>\n",
       "      <td>[15.0, 17.0, 19.0, 22.0, 30.0, 32.0, 37.0, 42....</td>\n",
       "      <td>[90.0]</td>\n",
       "    </tr>\n",
       "    <tr>\n",
       "      <th>25</th>\n",
       "      <td>94.0</td>\n",
       "      <td>[15.0, 17.0, 19.0, 22.0, 30.0, 32.0, 37.0, 42....</td>\n",
       "      <td>[]</td>\n",
       "    </tr>\n",
       "    <tr>\n",
       "      <th>26</th>\n",
       "      <td>96.0</td>\n",
       "      <td>[15.0, 17.0, 19.0, 22.0, 30.0, 32.0, 37.0, 42....</td>\n",
       "      <td>[]</td>\n",
       "    </tr>\n",
       "    <tr>\n",
       "      <th>27</th>\n",
       "      <td>97.0</td>\n",
       "      <td>[15.0, 17.0, 19.0, 22.0, 30.0, 32.0, 37.0, 42....</td>\n",
       "      <td>[]</td>\n",
       "    </tr>\n",
       "    <tr>\n",
       "      <th>28</th>\n",
       "      <td>99.0</td>\n",
       "      <td>[15.0, 17.0, 19.0, 22.0, 30.0, 32.0, 37.0, 42....</td>\n",
       "      <td>[100.0]</td>\n",
       "    </tr>\n",
       "    <tr>\n",
       "      <th>29</th>\n",
       "      <td>101.0</td>\n",
       "      <td>[15.0, 17.0, 19.0, 22.0, 30.0, 32.0, 37.0, 42....</td>\n",
       "      <td>[]</td>\n",
       "    </tr>\n",
       "    <tr>\n",
       "      <th>30</th>\n",
       "      <td>103.0</td>\n",
       "      <td>[15.0, 17.0, 19.0, 22.0, 30.0, 32.0, 37.0, 42....</td>\n",
       "      <td>[104.0]</td>\n",
       "    </tr>\n",
       "    <tr>\n",
       "      <th>31</th>\n",
       "      <td>105.0</td>\n",
       "      <td>[15.0, 17.0, 19.0, 22.0, 30.0, 32.0, 37.0, 42....</td>\n",
       "      <td>[58.0, 106.0]</td>\n",
       "    </tr>\n",
       "    <tr>\n",
       "      <th>32</th>\n",
       "      <td>108.0</td>\n",
       "      <td>[15.0, 17.0, 19.0, 22.0, 30.0, 32.0, 37.0, 42....</td>\n",
       "      <td>[93.0, 107.0]</td>\n",
       "    </tr>\n",
       "    <tr>\n",
       "      <th>33</th>\n",
       "      <td>111.0</td>\n",
       "      <td>[15.0, 17.0, 19.0, 22.0, 30.0, 32.0, 37.0, 42....</td>\n",
       "      <td>[]</td>\n",
       "    </tr>\n",
       "    <tr>\n",
       "      <th>34</th>\n",
       "      <td>113.0</td>\n",
       "      <td>[15.0, 17.0, 19.0, 22.0, 30.0, 32.0, 37.0, 42....</td>\n",
       "      <td>[]</td>\n",
       "    </tr>\n",
       "    <tr>\n",
       "      <th>35</th>\n",
       "      <td>114.0</td>\n",
       "      <td>[15.0, 17.0, 19.0, 22.0, 30.0, 32.0, 37.0, 42....</td>\n",
       "      <td>[]</td>\n",
       "    </tr>\n",
       "    <tr>\n",
       "      <th>36</th>\n",
       "      <td>118.0</td>\n",
       "      <td>[15.0, 17.0, 19.0, 22.0, 30.0, 32.0, 37.0, 42....</td>\n",
       "      <td>[117.0]</td>\n",
       "    </tr>\n",
       "    <tr>\n",
       "      <th>37</th>\n",
       "      <td>120.0</td>\n",
       "      <td>[15.0, 17.0, 19.0, 22.0, 30.0, 32.0, 37.0, 42....</td>\n",
       "      <td>[68.0]</td>\n",
       "    </tr>\n",
       "    <tr>\n",
       "      <th>38</th>\n",
       "      <td>123.0</td>\n",
       "      <td>[15.0, 17.0, 19.0, 22.0, 30.0, 32.0, 37.0, 42....</td>\n",
       "      <td>[122.0]</td>\n",
       "    </tr>\n",
       "    <tr>\n",
       "      <th>39</th>\n",
       "      <td>124.0</td>\n",
       "      <td>[15.0, 17.0, 19.0, 22.0, 30.0, 32.0, 37.0, 42....</td>\n",
       "      <td>[116.0]</td>\n",
       "    </tr>\n",
       "  </tbody>\n",
       "</table>\n",
       "</div>"
      ],
      "text/plain": [
       "    part_number                                          neighbors  \\\n",
       "0          15.0  [17.0, 19.0, 22.0, 30.0, 32.0, 37.0, 42.0, 46....   \n",
       "1          17.0  [15.0, 19.0, 22.0, 30.0, 32.0, 37.0, 42.0, 46....   \n",
       "2          19.0  [15.0, 17.0, 22.0, 30.0, 32.0, 37.0, 42.0, 46....   \n",
       "3          22.0  [15.0, 17.0, 19.0, 30.0, 32.0, 37.0, 42.0, 46....   \n",
       "4          30.0  [15.0, 17.0, 19.0, 22.0, 32.0, 37.0, 42.0, 46....   \n",
       "5          32.0  [15.0, 17.0, 19.0, 22.0, 30.0, 37.0, 42.0, 46....   \n",
       "6          37.0  [15.0, 17.0, 19.0, 22.0, 30.0, 32.0, 42.0, 46....   \n",
       "7          42.0  [15.0, 17.0, 19.0, 22.0, 30.0, 32.0, 37.0, 46....   \n",
       "8          46.0  [15.0, 17.0, 19.0, 22.0, 30.0, 32.0, 37.0, 42....   \n",
       "9          47.0  [15.0, 17.0, 19.0, 22.0, 30.0, 32.0, 37.0, 42....   \n",
       "10         49.0  [15.0, 17.0, 19.0, 22.0, 30.0, 32.0, 37.0, 42....   \n",
       "11         56.0  [15.0, 17.0, 19.0, 22.0, 30.0, 32.0, 37.0, 42....   \n",
       "12         59.0  [15.0, 17.0, 19.0, 22.0, 30.0, 32.0, 37.0, 42....   \n",
       "13         61.0  [15.0, 17.0, 19.0, 22.0, 30.0, 32.0, 37.0, 42....   \n",
       "14         63.0  [15.0, 17.0, 19.0, 22.0, 30.0, 32.0, 37.0, 42....   \n",
       "15         64.0  [15.0, 17.0, 19.0, 22.0, 30.0, 32.0, 37.0, 42....   \n",
       "16         69.0  [15.0, 17.0, 19.0, 22.0, 30.0, 32.0, 37.0, 42....   \n",
       "17         76.0  [15.0, 17.0, 19.0, 22.0, 30.0, 32.0, 37.0, 42....   \n",
       "18         80.0  [15.0, 17.0, 19.0, 22.0, 30.0, 32.0, 37.0, 42....   \n",
       "19         81.0  [15.0, 17.0, 19.0, 22.0, 30.0, 32.0, 37.0, 42....   \n",
       "20         83.0  [15.0, 17.0, 19.0, 22.0, 30.0, 32.0, 37.0, 42....   \n",
       "21         85.0  [15.0, 17.0, 19.0, 22.0, 30.0, 32.0, 37.0, 42....   \n",
       "22         87.0  [15.0, 17.0, 19.0, 22.0, 30.0, 32.0, 37.0, 42....   \n",
       "23         88.0  [15.0, 17.0, 19.0, 22.0, 30.0, 32.0, 37.0, 42....   \n",
       "24         89.0  [15.0, 17.0, 19.0, 22.0, 30.0, 32.0, 37.0, 42....   \n",
       "25         94.0  [15.0, 17.0, 19.0, 22.0, 30.0, 32.0, 37.0, 42....   \n",
       "26         96.0  [15.0, 17.0, 19.0, 22.0, 30.0, 32.0, 37.0, 42....   \n",
       "27         97.0  [15.0, 17.0, 19.0, 22.0, 30.0, 32.0, 37.0, 42....   \n",
       "28         99.0  [15.0, 17.0, 19.0, 22.0, 30.0, 32.0, 37.0, 42....   \n",
       "29        101.0  [15.0, 17.0, 19.0, 22.0, 30.0, 32.0, 37.0, 42....   \n",
       "30        103.0  [15.0, 17.0, 19.0, 22.0, 30.0, 32.0, 37.0, 42....   \n",
       "31        105.0  [15.0, 17.0, 19.0, 22.0, 30.0, 32.0, 37.0, 42....   \n",
       "32        108.0  [15.0, 17.0, 19.0, 22.0, 30.0, 32.0, 37.0, 42....   \n",
       "33        111.0  [15.0, 17.0, 19.0, 22.0, 30.0, 32.0, 37.0, 42....   \n",
       "34        113.0  [15.0, 17.0, 19.0, 22.0, 30.0, 32.0, 37.0, 42....   \n",
       "35        114.0  [15.0, 17.0, 19.0, 22.0, 30.0, 32.0, 37.0, 42....   \n",
       "36        118.0  [15.0, 17.0, 19.0, 22.0, 30.0, 32.0, 37.0, 42....   \n",
       "37        120.0  [15.0, 17.0, 19.0, 22.0, 30.0, 32.0, 37.0, 42....   \n",
       "38        123.0  [15.0, 17.0, 19.0, 22.0, 30.0, 32.0, 37.0, 42....   \n",
       "39        124.0  [15.0, 17.0, 19.0, 22.0, 30.0, 32.0, 37.0, 42....   \n",
       "\n",
       "            merged_part  \n",
       "0                    []  \n",
       "1                [40.0]  \n",
       "2                    []  \n",
       "3                [12.0]  \n",
       "4                [29.0]  \n",
       "5                    []  \n",
       "6                [18.0]  \n",
       "7                [50.0]  \n",
       "8                    []  \n",
       "9                [38.0]  \n",
       "10                   []  \n",
       "11                   []  \n",
       "12                   []  \n",
       "13                   []  \n",
       "14               [20.0]  \n",
       "15                   []  \n",
       "16                   []  \n",
       "17  [44.0, 75.0, 110.0]  \n",
       "18               [10.0]  \n",
       "19               [82.0]  \n",
       "20                   []  \n",
       "21                   []  \n",
       "22                   []  \n",
       "23                   []  \n",
       "24               [90.0]  \n",
       "25                   []  \n",
       "26                   []  \n",
       "27                   []  \n",
       "28              [100.0]  \n",
       "29                   []  \n",
       "30              [104.0]  \n",
       "31        [58.0, 106.0]  \n",
       "32        [93.0, 107.0]  \n",
       "33                   []  \n",
       "34                   []  \n",
       "35                   []  \n",
       "36              [117.0]  \n",
       "37               [68.0]  \n",
       "38              [122.0]  \n",
       "39              [116.0]  "
      ]
     },
     "execution_count": 55,
     "metadata": {},
     "output_type": "execute_result"
    }
   ],
   "source": [
    "list_p[-1]"
   ]
  },
  {
   "cell_type": "code",
   "execution_count": 67,
   "id": "3f6e5145",
   "metadata": {},
   "outputs": [
    {
     "data": {
      "text/plain": [
       "array([0.86794, 0.71966, 0.78423, 0.72575, 0.79435, 1.30397, 0.73399,\n",
       "       0.79934, 0.76736, 0.84458, 1.31853, 0.77301, 1.94684, 0.89084,\n",
       "       1.7452 , 1.00015, 1.10729, 1.21417])"
      ]
     },
     "execution_count": 67,
     "metadata": {},
     "output_type": "execute_result"
    }
   ],
   "source": [
    "part.query('time>0.7')['time'].unique()"
   ]
  },
  {
   "cell_type": "markdown",
   "id": "f82a1246",
   "metadata": {},
   "source": [
    "# change lifetime"
   ]
  },
  {
   "cell_type": "code",
   "execution_count": 69,
   "id": "6d6ee7b0",
   "metadata": {},
   "outputs": [],
   "source": [
    "lifetime = 0.7"
   ]
  },
  {
   "cell_type": "code",
   "execution_count": 70,
   "id": "cdf39dd9",
   "metadata": {},
   "outputs": [
    {
     "name": "stdout",
     "output_type": "stream",
     "text": [
      "PARTITIONING:\n",
      "total number of splits: 50\n",
      "MERGING:\n",
      "range of possible number of clusters: 1-34\n",
      "1756.4793017000002\n"
     ]
    },
    {
     "data": {
      "text/plain": [
       "'example/digits_n10_seed10/digits_n10_seed10_lifetime0.7_exp15_min_corr_0'"
      ]
     },
     "execution_count": 70,
     "metadata": {},
     "output_type": "execute_result"
    }
   ],
   "source": [
    "start = time.perf_counter()\n",
    "\n",
    "data,part,m,list_p,classified_data = Mondrian.mondrian_tree(X,t0,lifetime,exp,metric)\n",
    "\n",
    "end = time.perf_counter()\n",
    "print(end - start)\n",
    "\n",
    "namefile_number = 0\n",
    "namefile = 'example/digits_n'+str(number_of_samples_per_class)+'_seed'+str(random_state)+'/digits_n'+str(number_of_samples_per_class)+'_seed'+str(random_state)+'_lifetime'+str(lifetime)+'_exp'+str(exp)+'_'+metric+'_'+str(namefile_number)\n",
    "namefile"
   ]
  },
  {
   "cell_type": "code",
   "execution_count": 72,
   "id": "fc113c8d",
   "metadata": {},
   "outputs": [],
   "source": [
    "Mondrian.save_tree(namefile,data,part,m,list_p,classified_data)"
   ]
  },
  {
   "cell_type": "code",
   "execution_count": 71,
   "id": "bf786c38",
   "metadata": {},
   "outputs": [
    {
     "data": {
      "text/plain": [
       "0.473803963763951"
      ]
     },
     "execution_count": 71,
     "metadata": {},
     "output_type": "execute_result"
    }
   ],
   "source": [
    "number_of_clusters = 10\n",
    "fms = fowlkes_mallows_score(classified_data[number_of_clusters-1],y)\n",
    "fms"
   ]
  },
  {
   "cell_type": "code",
   "execution_count": 73,
   "id": "b235fefe",
   "metadata": {},
   "outputs": [],
   "source": [
    "lifetime = 0.5"
   ]
  },
  {
   "cell_type": "code",
   "execution_count": 74,
   "id": "0c3a6b07",
   "metadata": {},
   "outputs": [
    {
     "name": "stdout",
     "output_type": "stream",
     "text": [
      "PARTITIONING:\n",
      "total number of splits: 37\n",
      "MERGING:\n",
      "range of possible number of clusters: 1-29\n",
      "1781.7315689000006\n"
     ]
    }
   ],
   "source": [
    "start = time.perf_counter()\n",
    "\n",
    "data,part,m,list_p,classified_data = Mondrian.mondrian_tree(X,t0,lifetime,exp,metric)\n",
    "\n",
    "end = time.perf_counter()\n",
    "print(end - start)"
   ]
  },
  {
   "cell_type": "code",
   "execution_count": 75,
   "id": "9db73d3b",
   "metadata": {},
   "outputs": [
    {
     "data": {
      "text/plain": [
       "'example/digits_n10_seed10/digits_n10_seed10_lifetime0.5_exp15_min_corr_0'"
      ]
     },
     "execution_count": 75,
     "metadata": {},
     "output_type": "execute_result"
    }
   ],
   "source": [
    "namefile_number = 0\n",
    "namefile = 'example/digits_n'+str(number_of_samples_per_class)+'_seed'+str(random_state)+'/digits_n'+str(number_of_samples_per_class)+'_seed'+str(random_state)+'_lifetime'+str(lifetime)+'_exp'+str(exp)+'_'+metric+'_'+str(namefile_number)\n",
    "namefile"
   ]
  },
  {
   "cell_type": "code",
   "execution_count": 76,
   "id": "05dd4d36",
   "metadata": {},
   "outputs": [],
   "source": [
    "Mondrian.save_tree(namefile,data,part,m,list_p,classified_data)"
   ]
  },
  {
   "cell_type": "code",
   "execution_count": 77,
   "id": "4bb0fcc5",
   "metadata": {},
   "outputs": [
    {
     "data": {
      "text/plain": [
       "0.38102895259924713"
      ]
     },
     "execution_count": 77,
     "metadata": {},
     "output_type": "execute_result"
    }
   ],
   "source": [
    "number_of_clusters = 10\n",
    "fms = fowlkes_mallows_score(classified_data[number_of_clusters-1],y)\n",
    "fms"
   ]
  }
 ],
 "metadata": {
  "kernelspec": {
   "display_name": "Python 3",
   "language": "python",
   "name": "python3"
  },
  "language_info": {
   "codemirror_mode": {
    "name": "ipython",
    "version": 3
   },
   "file_extension": ".py",
   "mimetype": "text/x-python",
   "name": "python",
   "nbconvert_exporter": "python",
   "pygments_lexer": "ipython3",
   "version": "3.7.11"
  }
 },
 "nbformat": 4,
 "nbformat_minor": 5
}
