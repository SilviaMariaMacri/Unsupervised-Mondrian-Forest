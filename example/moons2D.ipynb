{
 "cells": [
  {
   "cell_type": "markdown",
   "id": "03f1c068",
   "metadata": {},
   "source": [
    "# MONDRIAN TREE: APPLICATION TO 2D MOONS DATASET"
   ]
  },
  {
   "cell_type": "code",
   "execution_count": 1,
   "id": "4b08a5a6",
   "metadata": {},
   "outputs": [
    {
     "name": "stdout",
     "output_type": "stream",
     "text": [
      "C:\\Users\\silvi\\Desktop\\Fisica\\TESI\\tesi\n"
     ]
    }
   ],
   "source": [
    "cd  \"C:\\Users\\silvi\\Desktop\\Fisica\\TESI\\tesi\""
   ]
  },
  {
   "cell_type": "code",
   "execution_count": 2,
   "id": "9a524cb8",
   "metadata": {},
   "outputs": [],
   "source": [
    "from sklearn import datasets\n",
    "import pandas as pd\n",
    "import pylab as plt\n",
    "\n",
    "import Mondrian\n",
    "import Plot"
   ]
  },
  {
   "cell_type": "markdown",
   "id": "fb2e2ec3",
   "metadata": {},
   "source": [
    "## moons dataset:"
   ]
  },
  {
   "cell_type": "code",
   "execution_count": 3,
   "id": "dc8f3a1c",
   "metadata": {},
   "outputs": [
    {
     "data": {
      "text/html": [
       "<div>\n",
       "<style scoped>\n",
       "    .dataframe tbody tr th:only-of-type {\n",
       "        vertical-align: middle;\n",
       "    }\n",
       "\n",
       "    .dataframe tbody tr th {\n",
       "        vertical-align: top;\n",
       "    }\n",
       "\n",
       "    .dataframe thead th {\n",
       "        text-align: right;\n",
       "    }\n",
       "</style>\n",
       "<table border=\"1\" class=\"dataframe\">\n",
       "  <thead>\n",
       "    <tr style=\"text-align: right;\">\n",
       "      <th></th>\n",
       "      <th>X1</th>\n",
       "      <th>X2</th>\n",
       "      <th>y</th>\n",
       "    </tr>\n",
       "  </thead>\n",
       "  <tbody>\n",
       "    <tr>\n",
       "      <th>0</th>\n",
       "      <td>0.056181</td>\n",
       "      <td>0.075957</td>\n",
       "      <td>1</td>\n",
       "    </tr>\n",
       "    <tr>\n",
       "      <th>1</th>\n",
       "      <td>0.109739</td>\n",
       "      <td>0.965219</td>\n",
       "      <td>0</td>\n",
       "    </tr>\n",
       "    <tr>\n",
       "      <th>2</th>\n",
       "      <td>0.299474</td>\n",
       "      <td>0.954463</td>\n",
       "      <td>0</td>\n",
       "    </tr>\n",
       "    <tr>\n",
       "      <th>3</th>\n",
       "      <td>1.608086</td>\n",
       "      <td>-0.413872</td>\n",
       "      <td>1</td>\n",
       "    </tr>\n",
       "    <tr>\n",
       "      <th>4</th>\n",
       "      <td>0.969291</td>\n",
       "      <td>0.269144</td>\n",
       "      <td>0</td>\n",
       "    </tr>\n",
       "  </tbody>\n",
       "</table>\n",
       "</div>"
      ],
      "text/plain": [
       "         X1        X2  y\n",
       "0  0.056181  0.075957  1\n",
       "1  0.109739  0.965219  0\n",
       "2  0.299474  0.954463  0\n",
       "3  1.608086 -0.413872  1\n",
       "4  0.969291  0.269144  0"
      ]
     },
     "execution_count": 3,
     "metadata": {},
     "output_type": "execute_result"
    }
   ],
   "source": [
    "moons = datasets.make_moons(n_samples=50,noise=0.05,random_state=0)\n",
    "X = moons[0] # data\n",
    "y = moons[1] # true labels\n",
    "\n",
    "df_moons = {'X1':X[:,0],'X2':X[:,1],'y':y}\n",
    "df_moons = pd.DataFrame(df_moons)\n",
    "df_moons.head()"
   ]
  },
  {
   "cell_type": "code",
   "execution_count": 4,
   "id": "1d771b19",
   "metadata": {},
   "outputs": [
    {
     "data": {
      "text/plain": [
       "<matplotlib.collections.PathCollection at 0x20fd07f2b88>"
      ]
     },
     "execution_count": 4,
     "metadata": {},
     "output_type": "execute_result"
    },
    {
     "data": {
      "image/png": "[encoded data removed]",
      "text/plain": [
       "<Figure size 432x288 with 1 Axes>"
      ]
     },
     "metadata": {
      "needs_background": "light"
     },
     "output_type": "display_data"
    }
   ],
   "source": [
    "fig,ax = plt.subplots()\n",
    "ax.scatter(df_moons.query('y==0')['X1'],df_moons.query('y==0')['X2'])\n",
    "ax.scatter(df_moons.query('y==1')['X1'],df_moons.query('y==1')['X2'])"
   ]
  },
  {
   "cell_type": "code",
   "execution_count": 5,
   "id": "ceb312b9",
   "metadata": {},
   "outputs": [
    {
     "name": "stdout",
     "output_type": "stream",
     "text": [
      "61250\n"
     ]
    },
    {
     "data": {
      "text/html": [
       "<div>\n",
       "<style scoped>\n",
       "    .dataframe tbody tr th:only-of-type {\n",
       "        vertical-align: middle;\n",
       "    }\n",
       "\n",
       "    .dataframe tbody tr th {\n",
       "        vertical-align: top;\n",
       "    }\n",
       "\n",
       "    .dataframe thead th {\n",
       "        text-align: right;\n",
       "    }\n",
       "</style>\n",
       "<table border=\"1\" class=\"dataframe\">\n",
       "  <thead>\n",
       "    <tr style=\"text-align: right;\">\n",
       "      <th></th>\n",
       "      <th>index1</th>\n",
       "      <th>index2</th>\n",
       "      <th>dist</th>\n",
       "      <th>magnitude_norm_vect</th>\n",
       "      <th>index_norm_vect</th>\n",
       "      <th>x1_0</th>\n",
       "      <th>x1_1</th>\n",
       "      <th>x2_0</th>\n",
       "      <th>x2_1</th>\n",
       "      <th>x_cut_0</th>\n",
       "      <th>x_cut_1</th>\n",
       "      <th>norm_vect_0</th>\n",
       "      <th>norm_vect_1</th>\n",
       "      <th>point_0</th>\n",
       "      <th>point_1</th>\n",
       "      <th>point_index</th>\n",
       "      <th>dist_point_cut</th>\n",
       "    </tr>\n",
       "  </thead>\n",
       "  <tbody>\n",
       "    <tr>\n",
       "      <th>0</th>\n",
       "      <td>1</td>\n",
       "      <td>0</td>\n",
       "      <td>0.890874</td>\n",
       "      <td>0.524634</td>\n",
       "      <td>0</td>\n",
       "      <td>0.109739</td>\n",
       "      <td>0.965219</td>\n",
       "      <td>0.056181</td>\n",
       "      <td>0.075957</td>\n",
       "      <td>0.082960</td>\n",
       "      <td>0.520588</td>\n",
       "      <td>0.060118</td>\n",
       "      <td>0.998191</td>\n",
       "      <td>1.763637</td>\n",
       "      <td>-0.114046</td>\n",
       "      <td>49</td>\n",
       "      <td>-0.532447</td>\n",
       "    </tr>\n",
       "    <tr>\n",
       "      <th>1</th>\n",
       "      <td>2</td>\n",
       "      <td>0</td>\n",
       "      <td>0.911573</td>\n",
       "      <td>0.543982</td>\n",
       "      <td>1</td>\n",
       "      <td>0.299474</td>\n",
       "      <td>0.954463</td>\n",
       "      <td>0.056181</td>\n",
       "      <td>0.075957</td>\n",
       "      <td>0.177828</td>\n",
       "      <td>0.515210</td>\n",
       "      <td>0.266894</td>\n",
       "      <td>0.963726</td>\n",
       "      <td>1.763637</td>\n",
       "      <td>-0.114046</td>\n",
       "      <td>49</td>\n",
       "      <td>-0.183188</td>\n",
       "    </tr>\n",
       "    <tr>\n",
       "      <th>2</th>\n",
       "      <td>2</td>\n",
       "      <td>1</td>\n",
       "      <td>0.190040</td>\n",
       "      <td>0.149953</td>\n",
       "      <td>2</td>\n",
       "      <td>0.299474</td>\n",
       "      <td>0.954463</td>\n",
       "      <td>0.109739</td>\n",
       "      <td>0.965219</td>\n",
       "      <td>0.204607</td>\n",
       "      <td>0.959841</td>\n",
       "      <td>0.998397</td>\n",
       "      <td>-0.056598</td>\n",
       "      <td>1.763637</td>\n",
       "      <td>-0.114046</td>\n",
       "      <td>49</td>\n",
       "      <td>1.617312</td>\n",
       "    </tr>\n",
       "    <tr>\n",
       "      <th>3</th>\n",
       "      <td>3</td>\n",
       "      <td>0</td>\n",
       "      <td>1.627372</td>\n",
       "      <td>0.844399</td>\n",
       "      <td>3</td>\n",
       "      <td>1.608086</td>\n",
       "      <td>-0.413872</td>\n",
       "      <td>0.056181</td>\n",
       "      <td>0.075957</td>\n",
       "      <td>0.832134</td>\n",
       "      <td>-0.168958</td>\n",
       "      <td>0.953626</td>\n",
       "      <td>-0.300994</td>\n",
       "      <td>1.763637</td>\n",
       "      <td>-0.114046</td>\n",
       "      <td>49</td>\n",
       "      <td>0.871778</td>\n",
       "    </tr>\n",
       "    <tr>\n",
       "      <th>4</th>\n",
       "      <td>3</td>\n",
       "      <td>1</td>\n",
       "      <td>2.036403</td>\n",
       "      <td>0.445280</td>\n",
       "      <td>4</td>\n",
       "      <td>1.608086</td>\n",
       "      <td>-0.413872</td>\n",
       "      <td>0.109739</td>\n",
       "      <td>0.965219</td>\n",
       "      <td>0.858912</td>\n",
       "      <td>0.275674</td>\n",
       "      <td>0.735781</td>\n",
       "      <td>-0.677219</td>\n",
       "      <td>1.763637</td>\n",
       "      <td>-0.114046</td>\n",
       "      <td>49</td>\n",
       "      <td>0.929605</td>\n",
       "    </tr>\n",
       "  </tbody>\n",
       "</table>\n",
       "</div>"
      ],
      "text/plain": [
       "   index1  index2      dist  magnitude_norm_vect  index_norm_vect      x1_0  \\\n",
       "0       1       0  0.890874             0.524634                0  0.109739   \n",
       "1       2       0  0.911573             0.543982                1  0.299474   \n",
       "2       2       1  0.190040             0.149953                2  0.299474   \n",
       "3       3       0  1.627372             0.844399                3  1.608086   \n",
       "4       3       1  2.036403             0.445280                4  1.608086   \n",
       "\n",
       "       x1_1      x2_0      x2_1   x_cut_0   x_cut_1  norm_vect_0  norm_vect_1  \\\n",
       "0  0.965219  0.056181  0.075957  0.082960  0.520588     0.060118     0.998191   \n",
       "1  0.954463  0.056181  0.075957  0.177828  0.515210     0.266894     0.963726   \n",
       "2  0.954463  0.109739  0.965219  0.204607  0.959841     0.998397    -0.056598   \n",
       "3 -0.413872  0.056181  0.075957  0.832134 -0.168958     0.953626    -0.300994   \n",
       "4 -0.413872  0.109739  0.965219  0.858912  0.275674     0.735781    -0.677219   \n",
       "\n",
       "    point_0   point_1  point_index  dist_point_cut  \n",
       "0  1.763637 -0.114046           49       -0.532447  \n",
       "1  1.763637 -0.114046           49       -0.183188  \n",
       "2  1.763637 -0.114046           49        1.617312  \n",
       "3  1.763637 -0.114046           49        0.871778  \n",
       "4  1.763637 -0.114046           49        0.929605  "
      ]
     },
     "execution_count": 5,
     "metadata": {},
     "output_type": "execute_result"
    }
   ],
   "source": [
    "import Matrix\n",
    "\n",
    "dist_matrix = Matrix.distance_matrix(X)\n",
    "\n",
    "print(len(dist_matrix))\n",
    "dist_matrix.head()"
   ]
  },
  {
   "cell_type": "markdown",
   "id": "124a1812",
   "metadata": {},
   "source": [
    "## MONDRIAN CLUSTERING TREE"
   ]
  },
  {
   "cell_type": "code",
   "execution_count": 6,
   "id": "aed4a613",
   "metadata": {},
   "outputs": [],
   "source": [
    "# parameter setting\n",
    "namefile = 'example\\moons2D\\moons2D' \n",
    "t0 = 0\n",
    "lifetime = 5\n",
    "exp = 5\n",
    "metric = 'min_corr'  # 'variance','centroid_diff','centroid_ratio','min'"
   ]
  },
  {
   "cell_type": "code",
   "execution_count": 7,
   "id": "c6cc612a",
   "metadata": {
    "scrolled": true
   },
   "outputs": [
    {
     "name": "stdout",
     "output_type": "stream",
     "text": [
      "PARTITIONING:\n",
      "total number of splits: 18\n",
      "MERGING:\n",
      "range of possible number of clusters: 1-18\n"
     ]
    }
   ],
   "source": [
    "Mondrian.mondrian_tree(namefile,X,t0,lifetime,exp,metric)"
   ]
  },
  {
   "cell_type": "code",
   "execution_count": 8,
   "id": "2c49b4e5",
   "metadata": {},
   "outputs": [],
   "source": [
    "part,m,list_p,list_m_leaf = Mondrian.read_tree(namefile)"
   ]
  },
  {
   "cell_type": "markdown",
   "id": "092270e1",
   "metadata": {},
   "source": [
    "### OUTCOME OF THE PARTITIONING PHASE:"
   ]
  },
  {
   "cell_type": "markdown",
   "id": "5a8e3dd3",
   "metadata": {},
   "source": [
    "*part* is a dataframe. Each row corresponds to a polytope that has been created during the hierarchical splitting. Each polytope is associated to its creation time, its characterization number, the characterization number of the father, the boolean information of being a leaf, the polytope object created by the Polytope package. The column 'box' stores the vertices of the polytopes and is used in order to plot the results in 2 and 3 dimensions. "
   ]
  },
  {
   "cell_type": "code",
   "execution_count": 9,
   "id": "d7985049",
   "metadata": {},
   "outputs": [
    {
     "name": "stdout",
     "output_type": "stream",
     "text": [
      "total number of polytopes:  37\n"
     ]
    },
    {
     "data": {
      "text/html": [
       "<div>\n",
       "<style scoped>\n",
       "    .dataframe tbody tr th:only-of-type {\n",
       "        vertical-align: middle;\n",
       "    }\n",
       "\n",
       "    .dataframe tbody tr th {\n",
       "        vertical-align: top;\n",
       "    }\n",
       "\n",
       "    .dataframe thead th {\n",
       "        text-align: right;\n",
       "    }\n",
       "</style>\n",
       "<table border=\"1\" class=\"dataframe\">\n",
       "  <thead>\n",
       "    <tr style=\"text-align: right;\">\n",
       "      <th></th>\n",
       "      <th>time</th>\n",
       "      <th>father</th>\n",
       "      <th>part_number</th>\n",
       "      <th>leaf</th>\n",
       "      <th>polytope</th>\n",
       "      <th>box</th>\n",
       "    </tr>\n",
       "  </thead>\n",
       "  <tbody>\n",
       "    <tr>\n",
       "      <th>0</th>\n",
       "      <td>0.000000</td>\n",
       "      <td>nan</td>\n",
       "      <td>0</td>\n",
       "      <td>False</td>\n",
       "      <td>{'A': [[1.0, 0.0], [-1.0, 0.0], [0.0, 1.0], [0...</td>\n",
       "      <td>[[-1.2064837889, 1.0592473164], [-1.2064837889...</td>\n",
       "    </tr>\n",
       "    <tr>\n",
       "      <th>1</th>\n",
       "      <td>0.062463</td>\n",
       "      <td>0</td>\n",
       "      <td>1</td>\n",
       "      <td>False</td>\n",
       "      <td>{'A': [[1.0, 0.0], [0.0, 1.0], [0.0, -1.0], [-...</td>\n",
       "      <td>[[-0.7461058901, -0.6819628439], [2.244676263,...</td>\n",
       "    </tr>\n",
       "    <tr>\n",
       "      <th>2</th>\n",
       "      <td>0.062463</td>\n",
       "      <td>0</td>\n",
       "      <td>2</td>\n",
       "      <td>False</td>\n",
       "      <td>{'A': [[-1.0, 0.0], [0.0, 1.0], [0.0, -1.0], [...</td>\n",
       "      <td>[[-1.2064837889, -0.6819628439], [-0.746105890...</td>\n",
       "    </tr>\n",
       "    <tr>\n",
       "      <th>3</th>\n",
       "      <td>0.427776</td>\n",
       "      <td>1</td>\n",
       "      <td>3</td>\n",
       "      <td>False</td>\n",
       "      <td>{'A': [[0.0, 1.0], [0.0, -1.0], [-0.8665623573...</td>\n",
       "      <td>[[-0.7461058901, -0.6819628439], [0.8960167001...</td>\n",
       "    </tr>\n",
       "    <tr>\n",
       "      <th>4</th>\n",
       "      <td>0.427776</td>\n",
       "      <td>1</td>\n",
       "      <td>4</td>\n",
       "      <td>False</td>\n",
       "      <td>{'A': [[1.0, 0.0], [0.0, 1.0], [0.0, -1.0], [-...</td>\n",
       "      <td>[[0.8960167001, -0.6819628439], [2.244676263, ...</td>\n",
       "    </tr>\n",
       "  </tbody>\n",
       "</table>\n",
       "</div>"
      ],
      "text/plain": [
       "       time father  part_number   leaf  \\\n",
       "0  0.000000    nan            0  False   \n",
       "1  0.062463      0            1  False   \n",
       "2  0.062463      0            2  False   \n",
       "3  0.427776      1            3  False   \n",
       "4  0.427776      1            4  False   \n",
       "\n",
       "                                            polytope  \\\n",
       "0  {'A': [[1.0, 0.0], [-1.0, 0.0], [0.0, 1.0], [0...   \n",
       "1  {'A': [[1.0, 0.0], [0.0, 1.0], [0.0, -1.0], [-...   \n",
       "2  {'A': [[-1.0, 0.0], [0.0, 1.0], [0.0, -1.0], [...   \n",
       "3  {'A': [[0.0, 1.0], [0.0, -1.0], [-0.8665623573...   \n",
       "4  {'A': [[1.0, 0.0], [0.0, 1.0], [0.0, -1.0], [-...   \n",
       "\n",
       "                                                 box  \n",
       "0  [[-1.2064837889, 1.0592473164], [-1.2064837889...  \n",
       "1  [[-0.7461058901, -0.6819628439], [2.244676263,...  \n",
       "2  [[-1.2064837889, -0.6819628439], [-0.746105890...  \n",
       "3  [[-0.7461058901, -0.6819628439], [0.8960167001...  \n",
       "4  [[0.8960167001, -0.6819628439], [2.244676263, ...  "
      ]
     },
     "execution_count": 9,
     "metadata": {},
     "output_type": "execute_result"
    }
   ],
   "source": [
    "print('total number of polytopes: ',len(part))\n",
    "part.head()"
   ]
  },
  {
   "cell_type": "markdown",
   "id": "4ec816e0",
   "metadata": {},
   "source": [
    "*m* is a list of dictionaries. Each element corresponds to a polytope of the *part* dataframe and stores the samples contained in it."
   ]
  },
  {
   "cell_type": "code",
   "execution_count": 10,
   "id": "c83f4414",
   "metadata": {},
   "outputs": [
    {
     "name": "stdout",
     "output_type": "stream",
     "text": [
      "number of elements of the list:  37\n"
     ]
    },
    {
     "data": {
      "text/html": [
       "<div>\n",
       "<style scoped>\n",
       "    .dataframe tbody tr th:only-of-type {\n",
       "        vertical-align: middle;\n",
       "    }\n",
       "\n",
       "    .dataframe tbody tr th {\n",
       "        vertical-align: top;\n",
       "    }\n",
       "\n",
       "    .dataframe thead th {\n",
       "        text-align: right;\n",
       "    }\n",
       "</style>\n",
       "<table border=\"1\" class=\"dataframe\">\n",
       "  <thead>\n",
       "    <tr style=\"text-align: right;\">\n",
       "      <th></th>\n",
       "      <th>0</th>\n",
       "      <th>1</th>\n",
       "      <th>index</th>\n",
       "    </tr>\n",
       "  </thead>\n",
       "  <tbody>\n",
       "    <tr>\n",
       "      <th>0</th>\n",
       "      <td>0.056181</td>\n",
       "      <td>0.075957</td>\n",
       "      <td>0</td>\n",
       "    </tr>\n",
       "    <tr>\n",
       "      <th>1</th>\n",
       "      <td>0.109739</td>\n",
       "      <td>0.965219</td>\n",
       "      <td>1</td>\n",
       "    </tr>\n",
       "    <tr>\n",
       "      <th>2</th>\n",
       "      <td>0.299474</td>\n",
       "      <td>0.954463</td>\n",
       "      <td>2</td>\n",
       "    </tr>\n",
       "    <tr>\n",
       "      <th>3</th>\n",
       "      <td>1.608086</td>\n",
       "      <td>-0.413872</td>\n",
       "      <td>3</td>\n",
       "    </tr>\n",
       "    <tr>\n",
       "      <th>4</th>\n",
       "      <td>0.969291</td>\n",
       "      <td>0.269144</td>\n",
       "      <td>4</td>\n",
       "    </tr>\n",
       "  </tbody>\n",
       "</table>\n",
       "</div>"
      ],
      "text/plain": [
       "          0         1  index\n",
       "0  0.056181  0.075957      0\n",
       "1  0.109739  0.965219      1\n",
       "2  0.299474  0.954463      2\n",
       "3  1.608086 -0.413872      3\n",
       "4  0.969291  0.269144      4"
      ]
     },
     "execution_count": 10,
     "metadata": {},
     "output_type": "execute_result"
    }
   ],
   "source": [
    "print('number of elements of the list: ',len(m))\n",
    "pd.DataFrame(m[0]).head()"
   ]
  },
  {
   "cell_type": "markdown",
   "id": "2f37f934",
   "metadata": {},
   "source": [
    "### OUTCOME OF THE MERGING PHASE: "
   ]
  },
  {
   "cell_type": "markdown",
   "id": "2a8817f2",
   "metadata": {},
   "source": [
    "*list_p* is a list of dictionaries. Each element describes a configuration of the space division during the merging procedure. Each element can be read as a dataframe with each row corresponding to a polytope and storing the information about the neighboring polytopes and the subspaces that have been merged in order to obtain that configuration. The number of clusters is equal to the number of polytopes/rows.\n",
    "The last element of the list reflects the initial condition after the connection of the single data subspaces with the nearest ones. The first element reflects the final condition, in which all the subspaces are merged and all the samples belongs to the same class."
   ]
  },
  {
   "cell_type": "code",
   "execution_count": 11,
   "id": "35d1f2a2",
   "metadata": {},
   "outputs": [
    {
     "data": {
      "text/html": [
       "<div>\n",
       "<style scoped>\n",
       "    .dataframe tbody tr th:only-of-type {\n",
       "        vertical-align: middle;\n",
       "    }\n",
       "\n",
       "    .dataframe tbody tr th {\n",
       "        vertical-align: top;\n",
       "    }\n",
       "\n",
       "    .dataframe thead th {\n",
       "        text-align: right;\n",
       "    }\n",
       "</style>\n",
       "<table border=\"1\" class=\"dataframe\">\n",
       "  <thead>\n",
       "    <tr style=\"text-align: right;\">\n",
       "      <th></th>\n",
       "      <th>part_number</th>\n",
       "      <th>neighbors</th>\n",
       "      <th>merged_part</th>\n",
       "    </tr>\n",
       "  </thead>\n",
       "  <tbody>\n",
       "    <tr>\n",
       "      <th>0</th>\n",
       "      <td>11.0</td>\n",
       "      <td>[16, 23, 31]</td>\n",
       "      <td>[]</td>\n",
       "    </tr>\n",
       "    <tr>\n",
       "      <th>1</th>\n",
       "      <td>14.0</td>\n",
       "      <td>[25, 27]</td>\n",
       "      <td>[]</td>\n",
       "    </tr>\n",
       "    <tr>\n",
       "      <th>2</th>\n",
       "      <td>16.0</td>\n",
       "      <td>[11, 23, 24, 27, 31, 32]</td>\n",
       "      <td>[]</td>\n",
       "    </tr>\n",
       "    <tr>\n",
       "      <th>3</th>\n",
       "      <td>19.0</td>\n",
       "      <td>[20, 22, 29]</td>\n",
       "      <td>[]</td>\n",
       "    </tr>\n",
       "    <tr>\n",
       "      <th>4</th>\n",
       "      <td>20.0</td>\n",
       "      <td>[19, 29, 30, 34, 35.0]</td>\n",
       "      <td>[]</td>\n",
       "    </tr>\n",
       "    <tr>\n",
       "      <th>5</th>\n",
       "      <td>21.0</td>\n",
       "      <td>[22, 32]</td>\n",
       "      <td>[]</td>\n",
       "    </tr>\n",
       "    <tr>\n",
       "      <th>6</th>\n",
       "      <td>22.0</td>\n",
       "      <td>[19, 21, 29, 32]</td>\n",
       "      <td>[]</td>\n",
       "    </tr>\n",
       "    <tr>\n",
       "      <th>7</th>\n",
       "      <td>23.0</td>\n",
       "      <td>[11, 16, 24]</td>\n",
       "      <td>[]</td>\n",
       "    </tr>\n",
       "    <tr>\n",
       "      <th>8</th>\n",
       "      <td>24.0</td>\n",
       "      <td>[16, 23, 26, 27]</td>\n",
       "      <td>[]</td>\n",
       "    </tr>\n",
       "    <tr>\n",
       "      <th>9</th>\n",
       "      <td>25.0</td>\n",
       "      <td>[14, 26, 27]</td>\n",
       "      <td>[]</td>\n",
       "    </tr>\n",
       "    <tr>\n",
       "      <th>10</th>\n",
       "      <td>26.0</td>\n",
       "      <td>[24, 25, 27]</td>\n",
       "      <td>[]</td>\n",
       "    </tr>\n",
       "    <tr>\n",
       "      <th>11</th>\n",
       "      <td>27.0</td>\n",
       "      <td>[14, 16, 24, 25, 26, 29, 30, 32, 35]</td>\n",
       "      <td>[]</td>\n",
       "    </tr>\n",
       "    <tr>\n",
       "      <th>12</th>\n",
       "      <td>29.0</td>\n",
       "      <td>[19, 20, 22, 27, 30, 32]</td>\n",
       "      <td>[]</td>\n",
       "    </tr>\n",
       "    <tr>\n",
       "      <th>13</th>\n",
       "      <td>30.0</td>\n",
       "      <td>[20, 27, 29, 35.0]</td>\n",
       "      <td>[]</td>\n",
       "    </tr>\n",
       "    <tr>\n",
       "      <th>14</th>\n",
       "      <td>31.0</td>\n",
       "      <td>[11, 16, 32]</td>\n",
       "      <td>[]</td>\n",
       "    </tr>\n",
       "    <tr>\n",
       "      <th>15</th>\n",
       "      <td>32.0</td>\n",
       "      <td>[16, 21, 22, 27, 29, 31]</td>\n",
       "      <td>[]</td>\n",
       "    </tr>\n",
       "    <tr>\n",
       "      <th>16</th>\n",
       "      <td>34.0</td>\n",
       "      <td>[20, 35]</td>\n",
       "      <td>[]</td>\n",
       "    </tr>\n",
       "    <tr>\n",
       "      <th>17</th>\n",
       "      <td>35.0</td>\n",
       "      <td>[27, 34, 20, 30]</td>\n",
       "      <td>[36.0]</td>\n",
       "    </tr>\n",
       "  </tbody>\n",
       "</table>\n",
       "</div>"
      ],
      "text/plain": [
       "    part_number                             neighbors merged_part\n",
       "0          11.0                          [16, 23, 31]          []\n",
       "1          14.0                              [25, 27]          []\n",
       "2          16.0              [11, 23, 24, 27, 31, 32]          []\n",
       "3          19.0                          [20, 22, 29]          []\n",
       "4          20.0                [19, 29, 30, 34, 35.0]          []\n",
       "5          21.0                              [22, 32]          []\n",
       "6          22.0                      [19, 21, 29, 32]          []\n",
       "7          23.0                          [11, 16, 24]          []\n",
       "8          24.0                      [16, 23, 26, 27]          []\n",
       "9          25.0                          [14, 26, 27]          []\n",
       "10         26.0                          [24, 25, 27]          []\n",
       "11         27.0  [14, 16, 24, 25, 26, 29, 30, 32, 35]          []\n",
       "12         29.0              [19, 20, 22, 27, 30, 32]          []\n",
       "13         30.0                    [20, 27, 29, 35.0]          []\n",
       "14         31.0                          [11, 16, 32]          []\n",
       "15         32.0              [16, 21, 22, 27, 29, 31]          []\n",
       "16         34.0                              [20, 35]          []\n",
       "17         35.0                      [27, 34, 20, 30]      [36.0]"
      ]
     },
     "execution_count": 11,
     "metadata": {},
     "output_type": "execute_result"
    }
   ],
   "source": [
    "#last element of the list: the subspaces number 13, 26, 28, 24 and 30 contain single samples and are already merged\n",
    "pd.DataFrame(list_p[-1])"
   ]
  },
  {
   "cell_type": "code",
   "execution_count": 12,
   "id": "5221aba8",
   "metadata": {},
   "outputs": [
    {
     "data": {
      "text/html": [
       "<div>\n",
       "<style scoped>\n",
       "    .dataframe tbody tr th:only-of-type {\n",
       "        vertical-align: middle;\n",
       "    }\n",
       "\n",
       "    .dataframe tbody tr th {\n",
       "        vertical-align: top;\n",
       "    }\n",
       "\n",
       "    .dataframe thead th {\n",
       "        text-align: right;\n",
       "    }\n",
       "</style>\n",
       "<table border=\"1\" class=\"dataframe\">\n",
       "  <thead>\n",
       "    <tr style=\"text-align: right;\">\n",
       "      <th></th>\n",
       "      <th>part_number</th>\n",
       "      <th>neighbors</th>\n",
       "      <th>merged_part</th>\n",
       "    </tr>\n",
       "  </thead>\n",
       "  <tbody>\n",
       "    <tr>\n",
       "      <th>0</th>\n",
       "      <td>30.0</td>\n",
       "      <td>[]</td>\n",
       "      <td>[29.0, 31.0, 11.0, 23.0, 32.0, 25.0, 14.0, 26....</td>\n",
       "    </tr>\n",
       "  </tbody>\n",
       "</table>\n",
       "</div>"
      ],
      "text/plain": [
       "   part_number neighbors                                        merged_part\n",
       "0         30.0        []  [29.0, 31.0, 11.0, 23.0, 32.0, 25.0, 14.0, 26...."
      ]
     },
     "execution_count": 12,
     "metadata": {},
     "output_type": "execute_result"
    }
   ],
   "source": [
    "# first element of the list: all the subspaces are merged\n",
    "pd.DataFrame(list_p[0])"
   ]
  },
  {
   "cell_type": "code",
   "execution_count": 13,
   "id": "9be27f70",
   "metadata": {},
   "outputs": [
    {
     "data": {
      "text/html": [
       "<div>\n",
       "<style scoped>\n",
       "    .dataframe tbody tr th:only-of-type {\n",
       "        vertical-align: middle;\n",
       "    }\n",
       "\n",
       "    .dataframe tbody tr th {\n",
       "        vertical-align: top;\n",
       "    }\n",
       "\n",
       "    .dataframe thead th {\n",
       "        text-align: right;\n",
       "    }\n",
       "</style>\n",
       "<table border=\"1\" class=\"dataframe\">\n",
       "  <thead>\n",
       "    <tr style=\"text-align: right;\">\n",
       "      <th></th>\n",
       "      <th>part_number</th>\n",
       "      <th>neighbors</th>\n",
       "      <th>merged_part</th>\n",
       "    </tr>\n",
       "  </thead>\n",
       "  <tbody>\n",
       "    <tr>\n",
       "      <th>0</th>\n",
       "      <td>16.0</td>\n",
       "      <td>[27, 30.0]</td>\n",
       "      <td>[]</td>\n",
       "    </tr>\n",
       "    <tr>\n",
       "      <th>1</th>\n",
       "      <td>20.0</td>\n",
       "      <td>[30, 21.0, 27.0]</td>\n",
       "      <td>[]</td>\n",
       "    </tr>\n",
       "    <tr>\n",
       "      <th>2</th>\n",
       "      <td>21.0</td>\n",
       "      <td>[30.0, 20]</td>\n",
       "      <td>[22.0, 19.0]</td>\n",
       "    </tr>\n",
       "    <tr>\n",
       "      <th>3</th>\n",
       "      <td>27.0</td>\n",
       "      <td>[16, 30, 20]</td>\n",
       "      <td>[36.0, 35.0, 34.0]</td>\n",
       "    </tr>\n",
       "    <tr>\n",
       "      <th>4</th>\n",
       "      <td>30.0</td>\n",
       "      <td>[20, 27, 21.0, 16]</td>\n",
       "      <td>[29.0, 31.0, 11.0, 23.0, 32.0, 25.0, 14.0, 26....</td>\n",
       "    </tr>\n",
       "  </tbody>\n",
       "</table>\n",
       "</div>"
      ],
      "text/plain": [
       "   part_number           neighbors  \\\n",
       "0         16.0          [27, 30.0]   \n",
       "1         20.0    [30, 21.0, 27.0]   \n",
       "2         21.0          [30.0, 20]   \n",
       "3         27.0        [16, 30, 20]   \n",
       "4         30.0  [20, 27, 21.0, 16]   \n",
       "\n",
       "                                         merged_part  \n",
       "0                                                 []  \n",
       "1                                                 []  \n",
       "2                                       [22.0, 19.0]  \n",
       "3                                 [36.0, 35.0, 34.0]  \n",
       "4  [29.0, 31.0, 11.0, 23.0, 32.0, 25.0, 14.0, 26....  "
      ]
     },
     "execution_count": 13,
     "metadata": {},
     "output_type": "execute_result"
    }
   ],
   "source": [
    "# fifth element of the list:\n",
    "pd.DataFrame(list_p[4])"
   ]
  },
  {
   "cell_type": "markdown",
   "id": "c09f14e5",
   "metadata": {},
   "source": [
    "*list_m_leaf* is a list of lists of dictionaries. Each element has the same structure of *m* and corresponds to an element of *list_p*. Each dictionary stores the samples contained in the corresponding polytope."
   ]
  },
  {
   "cell_type": "code",
   "execution_count": 14,
   "id": "a46cc4a8",
   "metadata": {},
   "outputs": [
    {
     "data": {
      "text/html": [
       "<div>\n",
       "<style scoped>\n",
       "    .dataframe tbody tr th:only-of-type {\n",
       "        vertical-align: middle;\n",
       "    }\n",
       "\n",
       "    .dataframe tbody tr th {\n",
       "        vertical-align: top;\n",
       "    }\n",
       "\n",
       "    .dataframe thead th {\n",
       "        text-align: right;\n",
       "    }\n",
       "</style>\n",
       "<table border=\"1\" class=\"dataframe\">\n",
       "  <thead>\n",
       "    <tr style=\"text-align: right;\">\n",
       "      <th></th>\n",
       "      <th>0</th>\n",
       "      <th>1</th>\n",
       "      <th>index</th>\n",
       "    </tr>\n",
       "  </thead>\n",
       "  <tbody>\n",
       "    <tr>\n",
       "      <th>0</th>\n",
       "      <td>0.913889</td>\n",
       "      <td>0.140083</td>\n",
       "      <td>34.0</td>\n",
       "    </tr>\n",
       "    <tr>\n",
       "      <th>1</th>\n",
       "      <td>0.987377</td>\n",
       "      <td>0.051992</td>\n",
       "      <td>47.0</td>\n",
       "    </tr>\n",
       "    <tr>\n",
       "      <th>2</th>\n",
       "      <td>0.969291</td>\n",
       "      <td>0.269144</td>\n",
       "      <td>4.0</td>\n",
       "    </tr>\n",
       "    <tr>\n",
       "      <th>3</th>\n",
       "      <td>0.947925</td>\n",
       "      <td>0.353976</td>\n",
       "      <td>46.0</td>\n",
       "    </tr>\n",
       "    <tr>\n",
       "      <th>4</th>\n",
       "      <td>-0.444333</td>\n",
       "      <td>0.758342</td>\n",
       "      <td>23.0</td>\n",
       "    </tr>\n",
       "  </tbody>\n",
       "</table>\n",
       "</div>"
      ],
      "text/plain": [
       "          0         1  index\n",
       "0  0.913889  0.140083   34.0\n",
       "1  0.987377  0.051992   47.0\n",
       "2  0.969291  0.269144    4.0\n",
       "3  0.947925  0.353976   46.0\n",
       "4 -0.444333  0.758342   23.0"
      ]
     },
     "execution_count": 14,
     "metadata": {},
     "output_type": "execute_result"
    }
   ],
   "source": [
    "pd.DataFrame(list_m_leaf[0][0]).head()"
   ]
  },
  {
   "cell_type": "markdown",
   "id": "dfaf0fdc",
   "metadata": {},
   "source": [
    "## VISUALIZATION OF THE RESULTS"
   ]
  },
  {
   "cell_type": "markdown",
   "id": "89453fe2",
   "metadata": {},
   "source": [
    "### PLOT OF THE FINAL SPACE PARTITIONS "
   ]
  },
  {
   "cell_type": "code",
   "execution_count": 15,
   "id": "2721f30f",
   "metadata": {},
   "outputs": [
    {
     "data": {
      "image/png": "[encoded data removed]",
      "text/plain": [
       "<Figure size 432x288 with 1 Axes>"
      ]
     },
     "metadata": {
      "needs_background": "light"
     },
     "output_type": "display_data"
    }
   ],
   "source": [
    "Plot.plot2D_partitioning(m,part)"
   ]
  },
  {
   "cell_type": "markdown",
   "id": "156706f6",
   "metadata": {},
   "source": [
    "### PLOT OF THE SPACE CLASSIFICATION FOR 2, 3 AND 6 NUMBER OF CLUSTERS"
   ]
  },
  {
   "cell_type": "code",
   "execution_count": 16,
   "id": "7ac355ce",
   "metadata": {},
   "outputs": [
    {
     "data": {
      "image/png": "[encoded data removed]",
      "text/plain": [
       "<Figure size 432x288 with 1 Axes>"
      ]
     },
     "metadata": {
      "needs_background": "light"
     },
     "output_type": "display_data"
    }
   ],
   "source": [
    "number_of_clusters = 2\n",
    "Plot.plot2D_merging(part,list_m_leaf,list_p,number_of_clusters)"
   ]
  },
  {
   "cell_type": "code",
   "execution_count": 17,
   "id": "52089b47",
   "metadata": {},
   "outputs": [
    {
     "data": {
      "image/png": "[encoded data removed]",
      "text/plain": [
       "<Figure size 432x288 with 1 Axes>"
      ]
     },
     "metadata": {
      "needs_background": "light"
     },
     "output_type": "display_data"
    }
   ],
   "source": [
    "number_of_clusters = 3\n",
    "Plot.plot2D_merging(part,list_m_leaf,list_p,number_of_clusters)"
   ]
  },
  {
   "cell_type": "code",
   "execution_count": 18,
   "id": "8b4bd131",
   "metadata": {},
   "outputs": [
    {
     "data": {
      "image/png": "[encoded data removed]",
      "text/plain": [
       "<Figure size 432x288 with 1 Axes>"
      ]
     },
     "metadata": {
      "needs_background": "light"
     },
     "output_type": "display_data"
    }
   ],
   "source": [
    "number_of_clusters = 6\n",
    "Plot.plot2D_merging(part,list_m_leaf,list_p,number_of_clusters)"
   ]
  }
 ],
 "metadata": {
  "kernelspec": {
   "display_name": "Python 3",
   "language": "python",
   "name": "python3"
  },
  "language_info": {
   "codemirror_mode": {
    "name": "ipython",
    "version": 3
   },
   "file_extension": ".py",
   "mimetype": "text/x-python",
   "name": "python",
   "nbconvert_exporter": "python",
   "pygments_lexer": "ipython3",
   "version": "3.7.11"
  }
 },
 "nbformat": 4,
 "nbformat_minor": 5
}
