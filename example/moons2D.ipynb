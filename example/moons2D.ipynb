{
 "cells": [
  {
   "cell_type": "markdown",
   "id": "03f1c068",
   "metadata": {},
   "source": [
    "# MONDRIAN TREE: APPLICATION TO 2D MOONS DATASET"
   ]
  },
  {
   "cell_type": "code",
   "execution_count": 1,
   "id": "4b08a5a6",
   "metadata": {},
   "outputs": [
    {
     "name": "stdout",
     "output_type": "stream",
     "text": [
      "C:\\Users\\silvi\\Desktop\\Fisica\\TESI\\tesi\n"
     ]
    }
   ],
   "source": [
    "cd  \"C:\\Users\\silvi\\Desktop\\Fisica\\TESI\\tesi\""
   ]
  },
  {
   "cell_type": "code",
   "execution_count": 2,
   "id": "9a524cb8",
   "metadata": {},
   "outputs": [],
   "source": [
    "from sklearn import datasets\n",
    "import numpy as np\n",
    "import pandas as pd\n",
    "import pylab as plt\n",
    "\n",
    "import Mondrian\n",
    "import Plot"
   ]
  },
  {
   "cell_type": "markdown",
   "id": "fb2e2ec3",
   "metadata": {},
   "source": [
    "## moons dataset:"
   ]
  },
  {
   "cell_type": "code",
   "execution_count": 3,
   "id": "dc8f3a1c",
   "metadata": {},
   "outputs": [
    {
     "data": {
      "text/html": [
       "<div>\n",
       "<style scoped>\n",
       "    .dataframe tbody tr th:only-of-type {\n",
       "        vertical-align: middle;\n",
       "    }\n",
       "\n",
       "    .dataframe tbody tr th {\n",
       "        vertical-align: top;\n",
       "    }\n",
       "\n",
       "    .dataframe thead th {\n",
       "        text-align: right;\n",
       "    }\n",
       "</style>\n",
       "<table border=\"1\" class=\"dataframe\">\n",
       "  <thead>\n",
       "    <tr style=\"text-align: right;\">\n",
       "      <th></th>\n",
       "      <th>X1</th>\n",
       "      <th>X2</th>\n",
       "      <th>y</th>\n",
       "    </tr>\n",
       "  </thead>\n",
       "  <tbody>\n",
       "    <tr>\n",
       "      <th>0</th>\n",
       "      <td>0.033882</td>\n",
       "      <td>0.188623</td>\n",
       "      <td>1</td>\n",
       "    </tr>\n",
       "    <tr>\n",
       "      <th>1</th>\n",
       "      <td>-0.067786</td>\n",
       "      <td>0.494295</td>\n",
       "      <td>1</td>\n",
       "    </tr>\n",
       "    <tr>\n",
       "      <th>2</th>\n",
       "      <td>0.280507</td>\n",
       "      <td>-0.200442</td>\n",
       "      <td>1</td>\n",
       "    </tr>\n",
       "    <tr>\n",
       "      <th>3</th>\n",
       "      <td>0.769201</td>\n",
       "      <td>0.572853</td>\n",
       "      <td>0</td>\n",
       "    </tr>\n",
       "    <tr>\n",
       "      <th>4</th>\n",
       "      <td>-0.103367</td>\n",
       "      <td>0.970359</td>\n",
       "      <td>0</td>\n",
       "    </tr>\n",
       "  </tbody>\n",
       "</table>\n",
       "</div>"
      ],
      "text/plain": [
       "         X1        X2  y\n",
       "0  0.033882  0.188623  1\n",
       "1 -0.067786  0.494295  1\n",
       "2  0.280507 -0.200442  1\n",
       "3  0.769201  0.572853  0\n",
       "4 -0.103367  0.970359  0"
      ]
     },
     "execution_count": 3,
     "metadata": {},
     "output_type": "execute_result"
    }
   ],
   "source": [
    "moons = datasets.make_moons(n_samples=40,noise=0.05,random_state=0)\n",
    "X = moons[0] # data\n",
    "y = moons[1] # true labels\n",
    "\n",
    "df_moons = {'X1':X[:,0],'X2':X[:,1],'y':y}\n",
    "df_moons = pd.DataFrame(df_moons)\n",
    "df_moons.head()"
   ]
  },
  {
   "cell_type": "code",
   "execution_count": 4,
   "id": "1d771b19",
   "metadata": {
    "scrolled": true
   },
   "outputs": [
    {
     "data": {
      "text/plain": [
       "<matplotlib.collections.PathCollection at 0x22334af98c8>"
      ]
     },
     "execution_count": 4,
     "metadata": {},
     "output_type": "execute_result"
    },
    {
     "data": {
      "image/png": "[encoded data removed]",
      "text/plain": [
       "<Figure size 432x288 with 1 Axes>"
      ]
     },
     "metadata": {
      "needs_background": "light"
     },
     "output_type": "display_data"
    }
   ],
   "source": [
    "fig,ax = plt.subplots()\n",
    "ax.scatter(df_moons.query('y==0')['X1'],df_moons.query('y==0')['X2'])\n",
    "ax.scatter(df_moons.query('y==1')['X1'],df_moons.query('y==1')['X2'])"
   ]
  },
  {
   "cell_type": "code",
   "execution_count": 5,
   "id": "ceb312b9",
   "metadata": {},
   "outputs": [],
   "source": [
    "import Matrix\n",
    "data,cut_matrix,distance_matrix = Matrix.cut_ensemble(X)"
   ]
  },
  {
   "cell_type": "markdown",
   "id": "a3a5bc24",
   "metadata": {},
   "source": [
    "*data* stores the indexed data. *cut_matrix* stores the indexed cutting hyperplane for each pair of samples. *distance_matrix* stores the distances between hyperplanes and samples."
   ]
  },
  {
   "cell_type": "code",
   "execution_count": 6,
   "id": "601611f6",
   "metadata": {},
   "outputs": [
    {
     "name": "stdout",
     "output_type": "stream",
     "text": [
      "number of hyperplanes:  780\n",
      "number of hyperplane families:  205\n"
     ]
    },
    {
     "data": {
      "text/plain": [
       "array([[  1.     ,   0.     ,   0.     , ...,   0.32936,  -0.3156 ,\n",
       "          0.94889],\n",
       "       [  2.     ,   0.     ,   1.     , ...,   0.08915,   0.53539,\n",
       "         -0.84461],\n",
       "       [  2.     ,   1.     ,   2.     , ...,  -0.08368,   0.44816,\n",
       "         -0.89395],\n",
       "       ...,\n",
       "       [ 39.     ,  36.     , 777.     , ...,  -0.12622,   0.5246 ,\n",
       "         -0.85135],\n",
       "       [ 39.     ,  37.     , 778.     , ...,  -1.32621,  -0.91723,\n",
       "         -0.39837],\n",
       "       [ 39.     ,  38.     , 779.     , ...,  -0.29544,  -0.15924,\n",
       "         -0.98724]])"
      ]
     },
     "execution_count": 6,
     "metadata": {},
     "output_type": "execute_result"
    }
   ],
   "source": [
    "print('number of hyperplanes: ',len(cut_matrix))\n",
    "print('number of hyperplane families: ',len(np.unique(cut_matrix[:,3])))\n",
    "cut_matrix"
   ]
  },
  {
   "cell_type": "code",
   "execution_count": 7,
   "id": "8b53d46f",
   "metadata": {},
   "outputs": [
    {
     "name": "stdout",
     "output_type": "stream",
     "text": [
      "number of rows = number of samples =  40\n",
      "number of columns = number of hyperplanes + 1 =  781\n"
     ]
    },
    {
     "data": {
      "text/plain": [
       "array([[-0.16107, -0.23032, -0.06976, ...,  1.21999,  0.10383,  0.     ],\n",
       "       [ 0.16107, -0.54293, -0.38858, ...,  1.19147, -0.18175,  1.     ],\n",
       "       [-0.60808,  0.23032,  0.38858, ...,  1.14877,  0.44866,  2.     ],\n",
       "       ...,\n",
       "       [-0.60445,  0.64145,  0.63076, ..., -0.56202, -0.34908, 37.     ],\n",
       "       [-0.248  ,  0.08265,  0.15179, ...,  0.28462, -0.25716, 38.     ],\n",
       "       [-0.70396,  0.46766,  0.569  , ...,  0.56202,  0.25716, 39.     ]])"
      ]
     },
     "execution_count": 7,
     "metadata": {},
     "output_type": "execute_result"
    }
   ],
   "source": [
    "print('number of rows = number of samples = ',len(distance_matrix))\n",
    "print('number of columns = number of hyperplanes + 1 = ',len(distance_matrix[0]))\n",
    "distance_matrix"
   ]
  },
  {
   "cell_type": "markdown",
   "id": "124a1812",
   "metadata": {},
   "source": [
    "## MONDRIAN CLUSTERING TREE"
   ]
  },
  {
   "cell_type": "code",
   "execution_count": 8,
   "id": "aed4a613",
   "metadata": {},
   "outputs": [],
   "source": [
    "# parameter setting\n",
    "t0 = 0\n",
    "lifetime = 10\n",
    "exp = 5\n",
    "metric = 'min_corr'  # 'variance','centroid_diff','centroid_ratio','min'"
   ]
  },
  {
   "cell_type": "code",
   "execution_count": 9,
   "id": "c6cc612a",
   "metadata": {
    "scrolled": true
   },
   "outputs": [
    {
     "name": "stdout",
     "output_type": "stream",
     "text": [
      "PARTITIONING:\n",
      "total number of splits: 24\n",
      "MERGING:\n",
      "range of possible number of clusters: 1-16\n"
     ]
    }
   ],
   "source": [
    "import Mondrian\n",
    "data,part_space,part_data,merg_space,merg_data = Mondrian.mondrian_tree(X,t0,lifetime,exp,metric)"
   ]
  },
  {
   "cell_type": "markdown",
   "id": "092270e1",
   "metadata": {},
   "source": [
    "### OUTCOME OF THE PARTITIONING PHASE:"
   ]
  },
  {
   "cell_type": "markdown",
   "id": "5a8e3dd3",
   "metadata": {},
   "source": [
    "*part_space* is a dataframe. Each row corresponds to a polytope that has been created during the hierarchical splitting. Each polytope is associated to its creation time, its characterization number, the characterization number of the father, the boolean information of being a leaf, the polytope object created by the Polytope package."
   ]
  },
  {
   "cell_type": "code",
   "execution_count": 10,
   "id": "d7985049",
   "metadata": {},
   "outputs": [
    {
     "name": "stdout",
     "output_type": "stream",
     "text": [
      "total number of polytopes:  49\n"
     ]
    },
    {
     "data": {
      "text/html": [
       "<div>\n",
       "<style scoped>\n",
       "    .dataframe tbody tr th:only-of-type {\n",
       "        vertical-align: middle;\n",
       "    }\n",
       "\n",
       "    .dataframe tbody tr th {\n",
       "        vertical-align: top;\n",
       "    }\n",
       "\n",
       "    .dataframe thead th {\n",
       "        text-align: right;\n",
       "    }\n",
       "</style>\n",
       "<table border=\"1\" class=\"dataframe\">\n",
       "  <thead>\n",
       "    <tr style=\"text-align: right;\">\n",
       "      <th></th>\n",
       "      <th>time</th>\n",
       "      <th>father</th>\n",
       "      <th>id_number</th>\n",
       "      <th>leaf</th>\n",
       "      <th>polytope</th>\n",
       "    </tr>\n",
       "  </thead>\n",
       "  <tbody>\n",
       "    <tr>\n",
       "      <th>0</th>\n",
       "      <td>0.000000</td>\n",
       "      <td>nan</td>\n",
       "      <td>0</td>\n",
       "      <td>False</td>\n",
       "      <td>Single polytope \\n  [[ 1.  0.] |    [[2.16184]...</td>\n",
       "    </tr>\n",
       "    <tr>\n",
       "      <th>1</th>\n",
       "      <td>0.014005</td>\n",
       "      <td>0</td>\n",
       "      <td>1</td>\n",
       "      <td>False</td>\n",
       "      <td>Single polytope \\n  [[-1.       0.     ] |    ...</td>\n",
       "    </tr>\n",
       "    <tr>\n",
       "      <th>2</th>\n",
       "      <td>0.014005</td>\n",
       "      <td>0</td>\n",
       "      <td>2</td>\n",
       "      <td>False</td>\n",
       "      <td>Single polytope \\n  [[ 1.       0.     ] |    ...</td>\n",
       "    </tr>\n",
       "    <tr>\n",
       "      <th>3</th>\n",
       "      <td>0.037869</td>\n",
       "      <td>1</td>\n",
       "      <td>3</td>\n",
       "      <td>False</td>\n",
       "      <td>Single polytope \\n  [[ 0.       1.     ] |    ...</td>\n",
       "    </tr>\n",
       "    <tr>\n",
       "      <th>4</th>\n",
       "      <td>0.037869</td>\n",
       "      <td>1</td>\n",
       "      <td>4</td>\n",
       "      <td>False</td>\n",
       "      <td>Single polytope \\n  [[-1.       0.     ] |    ...</td>\n",
       "    </tr>\n",
       "  </tbody>\n",
       "</table>\n",
       "</div>"
      ],
      "text/plain": [
       "       time father  id_number   leaf  \\\n",
       "0  0.000000    nan          0  False   \n",
       "1  0.014005      0          1  False   \n",
       "2  0.014005      0          2  False   \n",
       "3  0.037869      1          3  False   \n",
       "4  0.037869      1          4  False   \n",
       "\n",
       "                                            polytope  \n",
       "0  Single polytope \\n  [[ 1.  0.] |    [[2.16184]...  \n",
       "1  Single polytope \\n  [[-1.       0.     ] |    ...  \n",
       "2  Single polytope \\n  [[ 1.       0.     ] |    ...  \n",
       "3  Single polytope \\n  [[ 0.       1.     ] |    ...  \n",
       "4  Single polytope \\n  [[-1.       0.     ] |    ...  "
      ]
     },
     "execution_count": 10,
     "metadata": {},
     "output_type": "execute_result"
    }
   ],
   "source": [
    "print('total number of polytopes: ',len(part_space))\n",
    "part_space.head()"
   ]
  },
  {
   "cell_type": "markdown",
   "id": "4ec816e0",
   "metadata": {},
   "source": [
    "*part_data* is a list of arrays. Each sublist corresponds to a polytope of the *part* dataframe and stores the indexes of the samples contained in it."
   ]
  },
  {
   "cell_type": "code",
   "execution_count": 11,
   "id": "c83f4414",
   "metadata": {},
   "outputs": [
    {
     "name": "stdout",
     "output_type": "stream",
     "text": [
      "number of elements of the list:  49\n"
     ]
    },
    {
     "data": {
      "text/plain": [
       "[array([ 0,  1,  2,  3,  4,  5,  6,  7,  8,  9, 10, 11, 12, 13, 14, 15, 16,\n",
       "        17, 18, 19, 20, 21, 22, 23, 24, 25, 26, 27, 28, 29, 30, 31, 32, 33,\n",
       "        34, 35, 36, 37, 38, 39]),\n",
       " array([ 0,  1,  2,  3,  4,  5,  7,  8, 10, 17, 19, 20, 21, 22, 23, 25, 28,\n",
       "        29, 31, 32, 33, 34, 35, 36]),\n",
       " array([ 6,  9, 11, 12, 13, 14, 15, 16, 18, 24, 26, 27, 30, 37, 38, 39]),\n",
       " array([ 0,  1,  2,  3,  4,  7, 10, 19, 21, 25, 28, 29, 31, 32, 33, 34, 36]),\n",
       " array([ 5,  8, 17, 20, 22, 23, 35])]"
      ]
     },
     "execution_count": 11,
     "metadata": {},
     "output_type": "execute_result"
    }
   ],
   "source": [
    "print('number of elements of the list: ',len(part_data))\n",
    "part_data[0:5]"
   ]
  },
  {
   "cell_type": "markdown",
   "id": "2f37f934",
   "metadata": {},
   "source": [
    "### OUTCOME OF THE MERGING PHASE: "
   ]
  },
  {
   "cell_type": "markdown",
   "id": "2a8817f2",
   "metadata": {},
   "source": [
    "*merg_space* is a list of dataframes. Each dataframe describes a configuration of the space division during the merging procedure. Each row corresponds to a polytope and stores the information about the neighboring polytopes and the subspaces that have been merged in order to obtain that configuration. The number of clusters is equal to the number of polytopes/rows.\n",
    "The last element of the list describes the initial condition after the connection of the single data subspaces with the nearest ones. The first element describes the final condition, in which all the subspaces are merged and all the samples belongs to the same class."
   ]
  },
  {
   "cell_type": "code",
   "execution_count": 12,
   "id": "35d1f2a2",
   "metadata": {},
   "outputs": [
    {
     "data": {
      "text/html": [
       "<div>\n",
       "<style scoped>\n",
       "    .dataframe tbody tr th:only-of-type {\n",
       "        vertical-align: middle;\n",
       "    }\n",
       "\n",
       "    .dataframe tbody tr th {\n",
       "        vertical-align: top;\n",
       "    }\n",
       "\n",
       "    .dataframe thead th {\n",
       "        text-align: right;\n",
       "    }\n",
       "</style>\n",
       "<table border=\"1\" class=\"dataframe\">\n",
       "  <thead>\n",
       "    <tr style=\"text-align: right;\">\n",
       "      <th></th>\n",
       "      <th>id_number</th>\n",
       "      <th>neighbors</th>\n",
       "      <th>merged</th>\n",
       "    </tr>\n",
       "  </thead>\n",
       "  <tbody>\n",
       "    <tr>\n",
       "      <th>0</th>\n",
       "      <td>23</td>\n",
       "      <td>[24, 27, 32, 35]</td>\n",
       "      <td>[]</td>\n",
       "    </tr>\n",
       "    <tr>\n",
       "      <th>1</th>\n",
       "      <td>24</td>\n",
       "      <td>[23, 27, 32, 41, 43]</td>\n",
       "      <td>[]</td>\n",
       "    </tr>\n",
       "    <tr>\n",
       "      <th>2</th>\n",
       "      <td>25</td>\n",
       "      <td>[35, 27]</td>\n",
       "      <td>[26]</td>\n",
       "    </tr>\n",
       "    <tr>\n",
       "      <th>3</th>\n",
       "      <td>27</td>\n",
       "      <td>[23, 24, 43, 25, 35]</td>\n",
       "      <td>[28]</td>\n",
       "    </tr>\n",
       "    <tr>\n",
       "      <th>4</th>\n",
       "      <td>29</td>\n",
       "      <td>[30, 31, 35, 37, 38, 40]</td>\n",
       "      <td>[]</td>\n",
       "    </tr>\n",
       "    <tr>\n",
       "      <th>5</th>\n",
       "      <td>30</td>\n",
       "      <td>[29, 33, 35, 40, 47]</td>\n",
       "      <td>[]</td>\n",
       "    </tr>\n",
       "    <tr>\n",
       "      <th>6</th>\n",
       "      <td>31</td>\n",
       "      <td>[29, 32, 35, 37]</td>\n",
       "      <td>[]</td>\n",
       "    </tr>\n",
       "    <tr>\n",
       "      <th>7</th>\n",
       "      <td>32</td>\n",
       "      <td>[23, 24, 31, 35, 37, 41]</td>\n",
       "      <td>[]</td>\n",
       "    </tr>\n",
       "    <tr>\n",
       "      <th>8</th>\n",
       "      <td>33</td>\n",
       "      <td>[30, 47, 40]</td>\n",
       "      <td>[34]</td>\n",
       "    </tr>\n",
       "    <tr>\n",
       "      <th>9</th>\n",
       "      <td>35</td>\n",
       "      <td>[23, 29, 30, 31, 32, 25, 27, 47]</td>\n",
       "      <td>[46]</td>\n",
       "    </tr>\n",
       "    <tr>\n",
       "      <th>10</th>\n",
       "      <td>37</td>\n",
       "      <td>[29, 31, 32, 38]</td>\n",
       "      <td>[10]</td>\n",
       "    </tr>\n",
       "    <tr>\n",
       "      <th>11</th>\n",
       "      <td>38</td>\n",
       "      <td>[29, 37, 40]</td>\n",
       "      <td>[]</td>\n",
       "    </tr>\n",
       "    <tr>\n",
       "      <th>12</th>\n",
       "      <td>40</td>\n",
       "      <td>[30, 33, 29, 38]</td>\n",
       "      <td>[39]</td>\n",
       "    </tr>\n",
       "    <tr>\n",
       "      <th>13</th>\n",
       "      <td>41</td>\n",
       "      <td>[24, 32, 43]</td>\n",
       "      <td>[42]</td>\n",
       "    </tr>\n",
       "    <tr>\n",
       "      <th>14</th>\n",
       "      <td>43</td>\n",
       "      <td>[27, 24, 41]</td>\n",
       "      <td>[44]</td>\n",
       "    </tr>\n",
       "    <tr>\n",
       "      <th>15</th>\n",
       "      <td>47</td>\n",
       "      <td>[30, 33, 35]</td>\n",
       "      <td>[48]</td>\n",
       "    </tr>\n",
       "  </tbody>\n",
       "</table>\n",
       "</div>"
      ],
      "text/plain": [
       "    id_number                         neighbors merged\n",
       "0          23                  [24, 27, 32, 35]     []\n",
       "1          24              [23, 27, 32, 41, 43]     []\n",
       "2          25                          [35, 27]   [26]\n",
       "3          27              [23, 24, 43, 25, 35]   [28]\n",
       "4          29          [30, 31, 35, 37, 38, 40]     []\n",
       "5          30              [29, 33, 35, 40, 47]     []\n",
       "6          31                  [29, 32, 35, 37]     []\n",
       "7          32          [23, 24, 31, 35, 37, 41]     []\n",
       "8          33                      [30, 47, 40]   [34]\n",
       "9          35  [23, 29, 30, 31, 32, 25, 27, 47]   [46]\n",
       "10         37                  [29, 31, 32, 38]   [10]\n",
       "11         38                      [29, 37, 40]     []\n",
       "12         40                  [30, 33, 29, 38]   [39]\n",
       "13         41                      [24, 32, 43]   [42]\n",
       "14         43                      [27, 24, 41]   [44]\n",
       "15         47                      [30, 33, 35]   [48]"
      ]
     },
     "execution_count": 12,
     "metadata": {},
     "output_type": "execute_result"
    }
   ],
   "source": [
    "#last element of the list: the subspaces containing single samples are already merged\n",
    "merg_space[-1]"
   ]
  },
  {
   "cell_type": "code",
   "execution_count": 13,
   "id": "5221aba8",
   "metadata": {},
   "outputs": [
    {
     "data": {
      "text/html": [
       "<div>\n",
       "<style scoped>\n",
       "    .dataframe tbody tr th:only-of-type {\n",
       "        vertical-align: middle;\n",
       "    }\n",
       "\n",
       "    .dataframe tbody tr th {\n",
       "        vertical-align: top;\n",
       "    }\n",
       "\n",
       "    .dataframe thead th {\n",
       "        text-align: right;\n",
       "    }\n",
       "</style>\n",
       "<table border=\"1\" class=\"dataframe\">\n",
       "  <thead>\n",
       "    <tr style=\"text-align: right;\">\n",
       "      <th></th>\n",
       "      <th>id_number</th>\n",
       "      <th>neighbors</th>\n",
       "      <th>merged</th>\n",
       "    </tr>\n",
       "  </thead>\n",
       "  <tbody>\n",
       "    <tr>\n",
       "      <th>0</th>\n",
       "      <td>37</td>\n",
       "      <td>[]</td>\n",
       "      <td>[10, 34, 39, 40, 38, 33, 23, 48, 46, 35, 47, 2...</td>\n",
       "    </tr>\n",
       "  </tbody>\n",
       "</table>\n",
       "</div>"
      ],
      "text/plain": [
       "   id_number neighbors                                             merged\n",
       "0         37        []  [10, 34, 39, 40, 38, 33, 23, 48, 46, 35, 47, 2..."
      ]
     },
     "execution_count": 13,
     "metadata": {},
     "output_type": "execute_result"
    }
   ],
   "source": [
    "# first element of the list: all the subspaces are merged\n",
    "merg_space[0]"
   ]
  },
  {
   "cell_type": "code",
   "execution_count": 14,
   "id": "9be27f70",
   "metadata": {},
   "outputs": [
    {
     "data": {
      "text/html": [
       "<div>\n",
       "<style scoped>\n",
       "    .dataframe tbody tr th:only-of-type {\n",
       "        vertical-align: middle;\n",
       "    }\n",
       "\n",
       "    .dataframe tbody tr th {\n",
       "        vertical-align: top;\n",
       "    }\n",
       "\n",
       "    .dataframe thead th {\n",
       "        text-align: right;\n",
       "    }\n",
       "</style>\n",
       "<table border=\"1\" class=\"dataframe\">\n",
       "  <thead>\n",
       "    <tr style=\"text-align: right;\">\n",
       "      <th></th>\n",
       "      <th>id_number</th>\n",
       "      <th>neighbors</th>\n",
       "      <th>merged</th>\n",
       "    </tr>\n",
       "  </thead>\n",
       "  <tbody>\n",
       "    <tr>\n",
       "      <th>0</th>\n",
       "      <td>25</td>\n",
       "      <td>[41, 37]</td>\n",
       "      <td>[26, 28, 44, 43, 27]</td>\n",
       "    </tr>\n",
       "    <tr>\n",
       "      <th>1</th>\n",
       "      <td>29</td>\n",
       "      <td>[37, 32]</td>\n",
       "      <td>[30]</td>\n",
       "    </tr>\n",
       "    <tr>\n",
       "      <th>2</th>\n",
       "      <td>32</td>\n",
       "      <td>[37, 41, 29]</td>\n",
       "      <td>[31]</td>\n",
       "    </tr>\n",
       "    <tr>\n",
       "      <th>3</th>\n",
       "      <td>37</td>\n",
       "      <td>[29, 32, 41, 25]</td>\n",
       "      <td>[10, 34, 39, 40, 38, 33, 23, 48, 46, 35, 47, 24]</td>\n",
       "    </tr>\n",
       "    <tr>\n",
       "      <th>4</th>\n",
       "      <td>41</td>\n",
       "      <td>[32, 25, 37]</td>\n",
       "      <td>[42]</td>\n",
       "    </tr>\n",
       "  </tbody>\n",
       "</table>\n",
       "</div>"
      ],
      "text/plain": [
       "   id_number         neighbors  \\\n",
       "0         25          [41, 37]   \n",
       "1         29          [37, 32]   \n",
       "2         32      [37, 41, 29]   \n",
       "3         37  [29, 32, 41, 25]   \n",
       "4         41      [32, 25, 37]   \n",
       "\n",
       "                                             merged  \n",
       "0                              [26, 28, 44, 43, 27]  \n",
       "1                                              [30]  \n",
       "2                                              [31]  \n",
       "3  [10, 34, 39, 40, 38, 33, 23, 48, 46, 35, 47, 24]  \n",
       "4                                              [42]  "
      ]
     },
     "execution_count": 14,
     "metadata": {},
     "output_type": "execute_result"
    }
   ],
   "source": [
    "# fifth element of the list:\n",
    "merg_space[4]"
   ]
  },
  {
   "cell_type": "markdown",
   "id": "c09f14e5",
   "metadata": {},
   "source": [
    "*merg_data* is a list of lists. Each sublist contains the labels to associate to each sample in the configuration described by the corresponding element of *merg_space*."
   ]
  },
  {
   "cell_type": "code",
   "execution_count": 15,
   "id": "a46cc4a8",
   "metadata": {},
   "outputs": [
    {
     "data": {
      "text/plain": [
       "[1,\n",
       " 1,\n",
       " 2,\n",
       " 3,\n",
       " 3,\n",
       " 3,\n",
       " 4,\n",
       " 3,\n",
       " 3,\n",
       " 4,\n",
       " 2,\n",
       " 0,\n",
       " 0,\n",
       " 3,\n",
       " 0,\n",
       " 4,\n",
       " 0,\n",
       " 3,\n",
       " 0,\n",
       " 3,\n",
       " 3,\n",
       " 3,\n",
       " 3,\n",
       " 3,\n",
       " 0,\n",
       " 3,\n",
       " 0,\n",
       " 3,\n",
       " 2,\n",
       " 3,\n",
       " 0,\n",
       " 2,\n",
       " 3,\n",
       " 1,\n",
       " 1,\n",
       " 3,\n",
       " 3,\n",
       " 0,\n",
       " 3,\n",
       " 3]"
      ]
     },
     "execution_count": 15,
     "metadata": {},
     "output_type": "execute_result"
    }
   ],
   "source": [
    "merg_data[4]"
   ]
  },
  {
   "cell_type": "markdown",
   "id": "dfaf0fdc",
   "metadata": {},
   "source": [
    "## VISUALIZATION OF THE RESULTS"
   ]
  },
  {
   "cell_type": "markdown",
   "id": "89453fe2",
   "metadata": {},
   "source": [
    "### PLOT OF THE FINAL SPACE PARTITIONS "
   ]
  },
  {
   "cell_type": "code",
   "execution_count": 16,
   "id": "2721f30f",
   "metadata": {},
   "outputs": [
    {
     "data": {
      "image/png": "[encoded data removed]",
      "text/plain": [
       "<Figure size 432x288 with 1 Axes>"
      ]
     },
     "metadata": {
      "needs_background": "light"
     },
     "output_type": "display_data"
    }
   ],
   "source": [
    "Plot.plot2D_partitioning(data,part_space)"
   ]
  },
  {
   "cell_type": "markdown",
   "id": "156706f6",
   "metadata": {},
   "source": [
    "### PLOT OF THE SPACE CLASSIFICATION FOR 2, 3 AND 6 NUMBER OF CLUSTERS"
   ]
  },
  {
   "cell_type": "code",
   "execution_count": 17,
   "id": "7ac355ce",
   "metadata": {},
   "outputs": [
    {
     "data": {
      "image/png": "[encoded data removed]",
      "text/plain": [
       "<Figure size 432x288 with 1 Axes>"
      ]
     },
     "metadata": {
      "needs_background": "light"
     },
     "output_type": "display_data"
    }
   ],
   "source": [
    "number_of_clusters = 2\n",
    "Plot.plot2D_merging(data,part_space,merg_space,number_of_clusters)"
   ]
  },
  {
   "cell_type": "code",
   "execution_count": 18,
   "id": "52089b47",
   "metadata": {},
   "outputs": [
    {
     "data": {
      "image/png": "[encoded data removed]",
      "text/plain": [
       "<Figure size 432x288 with 1 Axes>"
      ]
     },
     "metadata": {
      "needs_background": "light"
     },
     "output_type": "display_data"
    }
   ],
   "source": [
    "number_of_clusters = 3\n",
    "Plot.plot2D_merging(data,part_space,merg_space,number_of_clusters)"
   ]
  },
  {
   "cell_type": "code",
   "execution_count": 19,
   "id": "8b4bd131",
   "metadata": {},
   "outputs": [
    {
     "data": {
      "image/png": "[encoded data removed]",
      "text/plain": [
       "<Figure size 432x288 with 1 Axes>"
      ]
     },
     "metadata": {
      "needs_background": "light"
     },
     "output_type": "display_data"
    }
   ],
   "source": [
    "number_of_clusters = 6\n",
    "Plot.plot2D_merging(data,part_space,merg_space,number_of_clusters)"
   ]
  },
  {
   "cell_type": "code",
   "execution_count": 20,
   "id": "7031693a",
   "metadata": {},
   "outputs": [],
   "source": [
    "#import sys\n",
    "#print(sys.getsizeof(df))"
   ]
  },
  {
   "cell_type": "code",
   "execution_count": 21,
   "id": "2f9a0b8a",
   "metadata": {},
   "outputs": [],
   "source": [
    "#import time\n",
    "#start = time.perf_counter()\n",
    "#classified_data = class_assignment(list_m_leaf)\n",
    "#end = time.perf_counter()\n",
    "#print(end - start)"
   ]
  },
  {
   "cell_type": "markdown",
   "id": "d2590a3f",
   "metadata": {},
   "source": [
    "### Verifica dell'uguaglianza del risultato prima e dopo salvataggio e lettura"
   ]
  },
  {
   "cell_type": "code",
   "execution_count": 22,
   "id": "03468f41",
   "metadata": {},
   "outputs": [],
   "source": [
    "import json\n",
    "namefile = 'example/prova'\n",
    "Mondrian.save_tree(namefile,data,part_space,part_data,merg_space,merg_data)\n",
    "data_read,part_space_read,part_data_read,merg_space_read,merg_data_read = Mondrian.read_tree(namefile)"
   ]
  },
  {
   "cell_type": "code",
   "execution_count": 23,
   "id": "89cfa965",
   "metadata": {},
   "outputs": [
    {
     "data": {
      "text/plain": [
       "True"
      ]
     },
     "execution_count": 23,
     "metadata": {},
     "output_type": "execute_result"
    }
   ],
   "source": [
    "# data\n",
    "(data == data_read).all()"
   ]
  },
  {
   "cell_type": "code",
   "execution_count": 42,
   "id": "61fa42bc",
   "metadata": {},
   "outputs": [
    {
     "name": "stdout",
     "output_type": "stream",
     "text": [
      "False\n",
      "True\n",
      "True\n",
      "True\n",
      "True\n"
     ]
    }
   ],
   "source": [
    "# part_space\n",
    "for i in ['time','father','id_number','leaf','polytope']:\n",
    "    print((np.array(part_space[i]) == np.array(part_space_read[i])).all())"
   ]
  },
  {
   "cell_type": "code",
   "execution_count": 25,
   "id": "f0a6c221",
   "metadata": {},
   "outputs": [
    {
     "name": "stdout",
     "output_type": "stream",
     "text": [
      "True\n",
      "True\n",
      "True\n",
      "True\n",
      "True\n",
      "True\n",
      "True\n",
      "True\n",
      "True\n",
      "True\n",
      "True\n",
      "True\n",
      "True\n",
      "True\n",
      "True\n",
      "True\n",
      "True\n",
      "True\n",
      "True\n",
      "True\n",
      "True\n",
      "True\n",
      "True\n",
      "True\n",
      "True\n",
      "True\n",
      "True\n",
      "True\n",
      "True\n",
      "True\n",
      "True\n",
      "True\n",
      "True\n",
      "True\n",
      "True\n",
      "True\n",
      "True\n",
      "True\n",
      "True\n",
      "True\n",
      "True\n",
      "True\n",
      "True\n",
      "True\n",
      "True\n",
      "True\n",
      "True\n",
      "True\n",
      "True\n"
     ]
    }
   ],
   "source": [
    "# part_data\n",
    "for i in range(len(part_data)):\n",
    "    print((part_data[i] == part_data_read[i]).all())"
   ]
  },
  {
   "cell_type": "code",
   "execution_count": 26,
   "id": "12f454d7",
   "metadata": {},
   "outputs": [
    {
     "name": "stdout",
     "output_type": "stream",
     "text": [
      "False\n",
      "False\n",
      "False\n",
      "False\n",
      "False\n",
      "False\n",
      "False\n",
      "False\n",
      "False\n",
      "False\n",
      "False\n",
      "False\n",
      "False\n",
      "False\n",
      "False\n",
      "False\n"
     ]
    }
   ],
   "source": [
    "# merg_space\n",
    "# problemi con type\n",
    "for i in range(len(merg_space)):\n",
    "    print(merg_space[i].equals(merg_space_read[i]))"
   ]
  },
  {
   "cell_type": "code",
   "execution_count": 41,
   "id": "65fd6fb6",
   "metadata": {},
   "outputs": [
    {
     "data": {
      "text/plain": [
       "True"
      ]
     },
     "execution_count": 41,
     "metadata": {},
     "output_type": "execute_result"
    }
   ],
   "source": [
    "# merg_data\n",
    "merg_data == merg_data_read"
   ]
  }
 ],
 "metadata": {
  "kernelspec": {
   "display_name": "Python 3",
   "language": "python",
   "name": "python3"
  },
  "language_info": {
   "codemirror_mode": {
    "name": "ipython",
    "version": 3
   },
   "file_extension": ".py",
   "mimetype": "text/x-python",
   "name": "python",
   "nbconvert_exporter": "python",
   "pygments_lexer": "ipython3",
   "version": "3.7.11"
  }
 },
 "nbformat": 4,
 "nbformat_minor": 5
}
