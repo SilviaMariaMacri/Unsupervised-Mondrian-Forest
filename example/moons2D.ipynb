{
 "cells": [
  {
   "cell_type": "markdown",
   "id": "03f1c068",
   "metadata": {},
   "source": [
    "# MONDRIAN TREE: APPLICATION TO 2D MOONS DATASET"
   ]
  },
  {
   "cell_type": "code",
   "execution_count": 1,
   "id": "4b08a5a6",
   "metadata": {},
   "outputs": [
    {
     "name": "stdout",
     "output_type": "stream",
     "text": [
      "C:\\Users\\silvi\\Desktop\\Fisica\\TESI\\tesi\n"
     ]
    }
   ],
   "source": [
    "cd  \"C:\\Users\\silvi\\Desktop\\Fisica\\TESI\\tesi\""
   ]
  },
  {
   "cell_type": "code",
   "execution_count": 2,
   "id": "9a524cb8",
   "metadata": {},
   "outputs": [],
   "source": [
    "from sklearn import datasets\n",
    "import pandas as pd\n",
    "import pylab as plt\n",
    "\n",
    "import Mondrian\n",
    "import Plot"
   ]
  },
  {
   "cell_type": "markdown",
   "id": "fb2e2ec3",
   "metadata": {},
   "source": [
    "## moons dataset:"
   ]
  },
  {
   "cell_type": "code",
   "execution_count": 3,
   "id": "dc8f3a1c",
   "metadata": {},
   "outputs": [
    {
     "data": {
      "text/html": [
       "<div>\n",
       "<style scoped>\n",
       "    .dataframe tbody tr th:only-of-type {\n",
       "        vertical-align: middle;\n",
       "    }\n",
       "\n",
       "    .dataframe tbody tr th {\n",
       "        vertical-align: top;\n",
       "    }\n",
       "\n",
       "    .dataframe thead th {\n",
       "        text-align: right;\n",
       "    }\n",
       "</style>\n",
       "<table border=\"1\" class=\"dataframe\">\n",
       "  <thead>\n",
       "    <tr style=\"text-align: right;\">\n",
       "      <th></th>\n",
       "      <th>X1</th>\n",
       "      <th>X2</th>\n",
       "      <th>y</th>\n",
       "    </tr>\n",
       "  </thead>\n",
       "  <tbody>\n",
       "    <tr>\n",
       "      <th>0</th>\n",
       "      <td>0.056181</td>\n",
       "      <td>0.075957</td>\n",
       "      <td>1</td>\n",
       "    </tr>\n",
       "    <tr>\n",
       "      <th>1</th>\n",
       "      <td>0.109739</td>\n",
       "      <td>0.965219</td>\n",
       "      <td>0</td>\n",
       "    </tr>\n",
       "    <tr>\n",
       "      <th>2</th>\n",
       "      <td>0.299474</td>\n",
       "      <td>0.954463</td>\n",
       "      <td>0</td>\n",
       "    </tr>\n",
       "    <tr>\n",
       "      <th>3</th>\n",
       "      <td>1.608086</td>\n",
       "      <td>-0.413872</td>\n",
       "      <td>1</td>\n",
       "    </tr>\n",
       "    <tr>\n",
       "      <th>4</th>\n",
       "      <td>0.969291</td>\n",
       "      <td>0.269144</td>\n",
       "      <td>0</td>\n",
       "    </tr>\n",
       "  </tbody>\n",
       "</table>\n",
       "</div>"
      ],
      "text/plain": [
       "         X1        X2  y\n",
       "0  0.056181  0.075957  1\n",
       "1  0.109739  0.965219  0\n",
       "2  0.299474  0.954463  0\n",
       "3  1.608086 -0.413872  1\n",
       "4  0.969291  0.269144  0"
      ]
     },
     "execution_count": 3,
     "metadata": {},
     "output_type": "execute_result"
    }
   ],
   "source": [
    "moons = datasets.make_moons(n_samples=50,noise=0.05,random_state=0)\n",
    "X = moons[0] # data\n",
    "y = moons[1] # true labels\n",
    "\n",
    "df_moons = {'X1':X[:,0],'X2':X[:,1],'y':y}\n",
    "df_moons = pd.DataFrame(df_moons)\n",
    "df_moons.head()"
   ]
  },
  {
   "cell_type": "code",
   "execution_count": 4,
   "id": "1d771b19",
   "metadata": {},
   "outputs": [
    {
     "data": {
      "text/plain": [
       "<matplotlib.collections.PathCollection at 0x1fbad032a48>"
      ]
     },
     "execution_count": 4,
     "metadata": {},
     "output_type": "execute_result"
    },
    {
     "data": {
      "image/png": "[encoded data removed]",
      "text/plain": [
       "<Figure size 432x288 with 1 Axes>"
      ]
     },
     "metadata": {
      "needs_background": "light"
     },
     "output_type": "display_data"
    }
   ],
   "source": [
    "fig,ax = plt.subplots()\n",
    "ax.scatter(df_moons.query('y==0')['X1'],df_moons.query('y==0')['X2'])\n",
    "ax.scatter(df_moons.query('y==1')['X1'],df_moons.query('y==1')['X2'])"
   ]
  },
  {
   "cell_type": "code",
   "execution_count": 5,
   "id": "ceb312b9",
   "metadata": {},
   "outputs": [],
   "source": [
    "import Matrix\n",
    "data_index,cut_matrix,point_cut_distance = Matrix.cut_ensemble(X)"
   ]
  },
  {
   "cell_type": "markdown",
   "id": "a3a5bc24",
   "metadata": {},
   "source": [
    "*data_index* stores the indexed data. *cut_matrix* stores the indexed cutting hyperplane for each pair of samples. *point_cut_distance* stores the distances between hyperplanes and samples."
   ]
  },
  {
   "cell_type": "code",
   "execution_count": 6,
   "id": "56474f6b",
   "metadata": {},
   "outputs": [
    {
     "data": {
      "text/html": [
       "<div>\n",
       "<style scoped>\n",
       "    .dataframe tbody tr th:only-of-type {\n",
       "        vertical-align: middle;\n",
       "    }\n",
       "\n",
       "    .dataframe tbody tr th {\n",
       "        vertical-align: top;\n",
       "    }\n",
       "\n",
       "    .dataframe thead th {\n",
       "        text-align: right;\n",
       "    }\n",
       "</style>\n",
       "<table border=\"1\" class=\"dataframe\">\n",
       "  <thead>\n",
       "    <tr style=\"text-align: right;\">\n",
       "      <th></th>\n",
       "      <th>0</th>\n",
       "      <th>1</th>\n",
       "      <th>index</th>\n",
       "    </tr>\n",
       "  </thead>\n",
       "  <tbody>\n",
       "    <tr>\n",
       "      <th>0</th>\n",
       "      <td>0.056181</td>\n",
       "      <td>0.075957</td>\n",
       "      <td>0</td>\n",
       "    </tr>\n",
       "    <tr>\n",
       "      <th>1</th>\n",
       "      <td>0.109739</td>\n",
       "      <td>0.965219</td>\n",
       "      <td>1</td>\n",
       "    </tr>\n",
       "    <tr>\n",
       "      <th>2</th>\n",
       "      <td>0.299474</td>\n",
       "      <td>0.954463</td>\n",
       "      <td>2</td>\n",
       "    </tr>\n",
       "    <tr>\n",
       "      <th>3</th>\n",
       "      <td>1.608086</td>\n",
       "      <td>-0.413872</td>\n",
       "      <td>3</td>\n",
       "    </tr>\n",
       "    <tr>\n",
       "      <th>4</th>\n",
       "      <td>0.969291</td>\n",
       "      <td>0.269144</td>\n",
       "      <td>4</td>\n",
       "    </tr>\n",
       "  </tbody>\n",
       "</table>\n",
       "</div>"
      ],
      "text/plain": [
       "          0         1  index\n",
       "0  0.056181  0.075957      0\n",
       "1  0.109739  0.965219      1\n",
       "2  0.299474  0.954463      2\n",
       "3  1.608086 -0.413872      3\n",
       "4  0.969291  0.269144      4"
      ]
     },
     "execution_count": 6,
     "metadata": {},
     "output_type": "execute_result"
    }
   ],
   "source": [
    "data_index.head()"
   ]
  },
  {
   "cell_type": "code",
   "execution_count": 7,
   "id": "601611f6",
   "metadata": {},
   "outputs": [
    {
     "name": "stdout",
     "output_type": "stream",
     "text": [
      "number of hyperplanes:  1225\n"
     ]
    },
    {
     "data": {
      "text/html": [
       "<div>\n",
       "<style scoped>\n",
       "    .dataframe tbody tr th:only-of-type {\n",
       "        vertical-align: middle;\n",
       "    }\n",
       "\n",
       "    .dataframe tbody tr th {\n",
       "        vertical-align: top;\n",
       "    }\n",
       "\n",
       "    .dataframe thead th {\n",
       "        text-align: right;\n",
       "    }\n",
       "</style>\n",
       "<table border=\"1\" class=\"dataframe\">\n",
       "  <thead>\n",
       "    <tr style=\"text-align: right;\">\n",
       "      <th></th>\n",
       "      <th>index1</th>\n",
       "      <th>index2</th>\n",
       "      <th>cut_index</th>\n",
       "      <th>magnitude_norm_vect</th>\n",
       "      <th>norm_vect_0</th>\n",
       "      <th>norm_vect_1</th>\n",
       "    </tr>\n",
       "  </thead>\n",
       "  <tbody>\n",
       "    <tr>\n",
       "      <th>0</th>\n",
       "      <td>1</td>\n",
       "      <td>0</td>\n",
       "      <td>0</td>\n",
       "      <td>0.524634</td>\n",
       "      <td>0.060118</td>\n",
       "      <td>0.998191</td>\n",
       "    </tr>\n",
       "    <tr>\n",
       "      <th>1</th>\n",
       "      <td>2</td>\n",
       "      <td>0</td>\n",
       "      <td>1</td>\n",
       "      <td>0.543982</td>\n",
       "      <td>0.266894</td>\n",
       "      <td>0.963726</td>\n",
       "    </tr>\n",
       "    <tr>\n",
       "      <th>2</th>\n",
       "      <td>2</td>\n",
       "      <td>1</td>\n",
       "      <td>2</td>\n",
       "      <td>0.149953</td>\n",
       "      <td>0.998397</td>\n",
       "      <td>-0.056598</td>\n",
       "    </tr>\n",
       "    <tr>\n",
       "      <th>3</th>\n",
       "      <td>3</td>\n",
       "      <td>0</td>\n",
       "      <td>3</td>\n",
       "      <td>0.844399</td>\n",
       "      <td>0.953626</td>\n",
       "      <td>-0.300994</td>\n",
       "    </tr>\n",
       "    <tr>\n",
       "      <th>4</th>\n",
       "      <td>3</td>\n",
       "      <td>1</td>\n",
       "      <td>4</td>\n",
       "      <td>0.445280</td>\n",
       "      <td>0.735781</td>\n",
       "      <td>-0.677219</td>\n",
       "    </tr>\n",
       "  </tbody>\n",
       "</table>\n",
       "</div>"
      ],
      "text/plain": [
       "   index1  index2  cut_index  magnitude_norm_vect  norm_vect_0  norm_vect_1\n",
       "0       1       0          0             0.524634     0.060118     0.998191\n",
       "1       2       0          1             0.543982     0.266894     0.963726\n",
       "2       2       1          2             0.149953     0.998397    -0.056598\n",
       "3       3       0          3             0.844399     0.953626    -0.300994\n",
       "4       3       1          4             0.445280     0.735781    -0.677219"
      ]
     },
     "execution_count": 7,
     "metadata": {},
     "output_type": "execute_result"
    }
   ],
   "source": [
    "print('number of hyperplanes: ',len(cut_matrix))\n",
    "cut_matrix.head()"
   ]
  },
  {
   "cell_type": "code",
   "execution_count": 8,
   "id": "8b53d46f",
   "metadata": {},
   "outputs": [
    {
     "name": "stdout",
     "output_type": "stream",
     "text": [
      "number of rows = number of samples =  50\n",
      "number of columns = number of hyperplanes + 1 =  1226\n"
     ]
    },
    {
     "data": {
      "text/html": [
       "<div>\n",
       "<style scoped>\n",
       "    .dataframe tbody tr th:only-of-type {\n",
       "        vertical-align: middle;\n",
       "    }\n",
       "\n",
       "    .dataframe tbody tr th {\n",
       "        vertical-align: top;\n",
       "    }\n",
       "\n",
       "    .dataframe thead th {\n",
       "        text-align: right;\n",
       "    }\n",
       "</style>\n",
       "<table border=\"1\" class=\"dataframe\">\n",
       "  <thead>\n",
       "    <tr style=\"text-align: right;\">\n",
       "      <th></th>\n",
       "      <th>cut_index_0</th>\n",
       "      <th>cut_index_1</th>\n",
       "      <th>cut_index_2</th>\n",
       "      <th>cut_index_3</th>\n",
       "      <th>cut_index_4</th>\n",
       "      <th>cut_index_5</th>\n",
       "      <th>cut_index_6</th>\n",
       "      <th>cut_index_7</th>\n",
       "      <th>cut_index_8</th>\n",
       "      <th>cut_index_9</th>\n",
       "      <th>...</th>\n",
       "      <th>cut_index_1216</th>\n",
       "      <th>cut_index_1217</th>\n",
       "      <th>cut_index_1218</th>\n",
       "      <th>cut_index_1219</th>\n",
       "      <th>cut_index_1220</th>\n",
       "      <th>cut_index_1221</th>\n",
       "      <th>cut_index_1222</th>\n",
       "      <th>cut_index_1223</th>\n",
       "      <th>cut_index_1224</th>\n",
       "      <th>point_index</th>\n",
       "    </tr>\n",
       "  </thead>\n",
       "  <tbody>\n",
       "    <tr>\n",
       "      <th>0</th>\n",
       "      <td>-0.445437</td>\n",
       "      <td>-0.455786</td>\n",
       "      <td>-0.098161</td>\n",
       "      <td>-0.813686</td>\n",
       "      <td>-0.455382</td>\n",
       "      <td>-0.479934</td>\n",
       "      <td>-0.466661</td>\n",
       "      <td>-0.035005</td>\n",
       "      <td>-0.020936</td>\n",
       "      <td>0.950213</td>\n",
       "      <td>...</td>\n",
       "      <td>-1.013173</td>\n",
       "      <td>-0.337667</td>\n",
       "      <td>-0.390842</td>\n",
       "      <td>-0.614420</td>\n",
       "      <td>-0.813366</td>\n",
       "      <td>1.039080</td>\n",
       "      <td>-1.105334</td>\n",
       "      <td>-1.312520</td>\n",
       "      <td>0.873483</td>\n",
       "      <td>0</td>\n",
       "    </tr>\n",
       "    <tr>\n",
       "      <th>1</th>\n",
       "      <td>0.445437</td>\n",
       "      <td>0.415513</td>\n",
       "      <td>-0.095020</td>\n",
       "      <td>-1.030274</td>\n",
       "      <td>-1.018201</td>\n",
       "      <td>-1.085590</td>\n",
       "      <td>-0.230196</td>\n",
       "      <td>-0.553026</td>\n",
       "      <td>-0.619456</td>\n",
       "      <td>1.563107</td>\n",
       "      <td>...</td>\n",
       "      <td>-0.627964</td>\n",
       "      <td>-0.439196</td>\n",
       "      <td>-0.555448</td>\n",
       "      <td>-1.092177</td>\n",
       "      <td>-0.188975</td>\n",
       "      <td>0.308119</td>\n",
       "      <td>-1.501432</td>\n",
       "      <td>-1.446149</td>\n",
       "      <td>0.071168</td>\n",
       "      <td>1</td>\n",
       "    </tr>\n",
       "    <tr>\n",
       "      <th>2</th>\n",
       "      <td>0.446107</td>\n",
       "      <td>0.455786</td>\n",
       "      <td>0.095020</td>\n",
       "      <td>-0.846100</td>\n",
       "      <td>-0.871314</td>\n",
       "      <td>-0.946679</td>\n",
       "      <td>-0.046797</td>\n",
       "      <td>-0.398807</td>\n",
       "      <td>-0.479144</td>\n",
       "      <td>1.425649</td>\n",
       "      <td>...</td>\n",
       "      <td>-0.456319</td>\n",
       "      <td>-0.250472</td>\n",
       "      <td>-0.368806</td>\n",
       "      <td>-0.932136</td>\n",
       "      <td>-0.052953</td>\n",
       "      <td>0.198934</td>\n",
       "      <td>-1.331508</td>\n",
       "      <td>-1.258361</td>\n",
       "      <td>-0.012039</td>\n",
       "      <td>2</td>\n",
       "    </tr>\n",
       "    <tr>\n",
       "      <th>3</th>\n",
       "      <td>-0.841082</td>\n",
       "      <td>-0.513654</td>\n",
       "      <td>1.478980</td>\n",
       "      <td>0.813686</td>\n",
       "      <td>1.018201</td>\n",
       "      <td>0.946679</td>\n",
       "      <td>0.950245</td>\n",
       "      <td>1.479301</td>\n",
       "      <td>1.414102</td>\n",
       "      <td>-0.467592</td>\n",
       "      <td>...</td>\n",
       "      <td>0.239102</td>\n",
       "      <td>1.275684</td>\n",
       "      <td>1.233627</td>\n",
       "      <td>0.930113</td>\n",
       "      <td>0.035288</td>\n",
       "      <td>0.461335</td>\n",
       "      <td>0.484513</td>\n",
       "      <td>0.307512</td>\n",
       "      <td>0.543662</td>\n",
       "      <td>3</td>\n",
       "    </tr>\n",
       "    <tr>\n",
       "      <th>4</th>\n",
       "      <td>-0.197705</td>\n",
       "      <td>-0.025904</td>\n",
       "      <td>0.802551</td>\n",
       "      <td>-0.001068</td>\n",
       "      <td>0.085637</td>\n",
       "      <td>0.011553</td>\n",
       "      <td>0.466661</td>\n",
       "      <td>0.553026</td>\n",
       "      <td>0.479144</td>\n",
       "      <td>0.467592</td>\n",
       "      <td>...</td>\n",
       "      <td>-0.094679</td>\n",
       "      <td>0.528082</td>\n",
       "      <td>0.447736</td>\n",
       "      <td>0.012232</td>\n",
       "      <td>0.002109</td>\n",
       "      <td>0.321422</td>\n",
       "      <td>-0.409471</td>\n",
       "      <td>-0.460015</td>\n",
       "      <td>0.259247</td>\n",
       "      <td>4</td>\n",
       "    </tr>\n",
       "  </tbody>\n",
       "</table>\n",
       "<p>5 rows × 1226 columns</p>\n",
       "</div>"
      ],
      "text/plain": [
       "   cut_index_0  cut_index_1  cut_index_2  cut_index_3  cut_index_4  \\\n",
       "0    -0.445437    -0.455786    -0.098161    -0.813686    -0.455382   \n",
       "1     0.445437     0.415513    -0.095020    -1.030274    -1.018201   \n",
       "2     0.446107     0.455786     0.095020    -0.846100    -0.871314   \n",
       "3    -0.841082    -0.513654     1.478980     0.813686     1.018201   \n",
       "4    -0.197705    -0.025904     0.802551    -0.001068     0.085637   \n",
       "\n",
       "   cut_index_5  cut_index_6  cut_index_7  cut_index_8  cut_index_9  ...  \\\n",
       "0    -0.479934    -0.466661    -0.035005    -0.020936     0.950213  ...   \n",
       "1    -1.085590    -0.230196    -0.553026    -0.619456     1.563107  ...   \n",
       "2    -0.946679    -0.046797    -0.398807    -0.479144     1.425649  ...   \n",
       "3     0.946679     0.950245     1.479301     1.414102    -0.467592  ...   \n",
       "4     0.011553     0.466661     0.553026     0.479144     0.467592  ...   \n",
       "\n",
       "   cut_index_1216  cut_index_1217  cut_index_1218  cut_index_1219  \\\n",
       "0       -1.013173       -0.337667       -0.390842       -0.614420   \n",
       "1       -0.627964       -0.439196       -0.555448       -1.092177   \n",
       "2       -0.456319       -0.250472       -0.368806       -0.932136   \n",
       "3        0.239102        1.275684        1.233627        0.930113   \n",
       "4       -0.094679        0.528082        0.447736        0.012232   \n",
       "\n",
       "   cut_index_1220  cut_index_1221  cut_index_1222  cut_index_1223  \\\n",
       "0       -0.813366        1.039080       -1.105334       -1.312520   \n",
       "1       -0.188975        0.308119       -1.501432       -1.446149   \n",
       "2       -0.052953        0.198934       -1.331508       -1.258361   \n",
       "3        0.035288        0.461335        0.484513        0.307512   \n",
       "4        0.002109        0.321422       -0.409471       -0.460015   \n",
       "\n",
       "   cut_index_1224  point_index  \n",
       "0        0.873483            0  \n",
       "1        0.071168            1  \n",
       "2       -0.012039            2  \n",
       "3        0.543662            3  \n",
       "4        0.259247            4  \n",
       "\n",
       "[5 rows x 1226 columns]"
      ]
     },
     "execution_count": 8,
     "metadata": {},
     "output_type": "execute_result"
    }
   ],
   "source": [
    "print('number of rows = number of samples = ',len(point_cut_distance))\n",
    "print('number of columns = number of hyperplanes + 1 = ',len(point_cut_distance.columns))\n",
    "point_cut_distance.head()"
   ]
  },
  {
   "cell_type": "markdown",
   "id": "124a1812",
   "metadata": {},
   "source": [
    "## MONDRIAN CLUSTERING TREE"
   ]
  },
  {
   "cell_type": "code",
   "execution_count": 9,
   "id": "aed4a613",
   "metadata": {},
   "outputs": [],
   "source": [
    "# parameter setting\n",
    "t0 = 0\n",
    "lifetime = 5\n",
    "exp = 5\n",
    "metric = 'min_corr'  # 'variance','centroid_diff','centroid_ratio','min'"
   ]
  },
  {
   "cell_type": "code",
   "execution_count": 10,
   "id": "c6cc612a",
   "metadata": {
    "scrolled": true
   },
   "outputs": [
    {
     "name": "stdout",
     "output_type": "stream",
     "text": [
      "PARTITIONING:\n",
      "total number of splits: 19\n",
      "MERGING:\n",
      "range of possible number of clusters: 1-16\n"
     ]
    }
   ],
   "source": [
    "part,m,list_p,list_m_leaf = Mondrian.mondrian_tree(X,t0,lifetime,exp,metric)"
   ]
  },
  {
   "cell_type": "markdown",
   "id": "092270e1",
   "metadata": {},
   "source": [
    "### OUTCOME OF THE PARTITIONING PHASE:"
   ]
  },
  {
   "cell_type": "markdown",
   "id": "5a8e3dd3",
   "metadata": {},
   "source": [
    "*part* is a dataframe. Each row corresponds to a polytope that has been created during the hierarchical splitting. Each polytope is associated to its creation time, its characterization number, the characterization number of the father, the boolean information of being a leaf, the polytope object created by the Polytope package."
   ]
  },
  {
   "cell_type": "code",
   "execution_count": 11,
   "id": "d7985049",
   "metadata": {},
   "outputs": [
    {
     "name": "stdout",
     "output_type": "stream",
     "text": [
      "total number of polytopes:  39\n"
     ]
    },
    {
     "data": {
      "text/html": [
       "<div>\n",
       "<style scoped>\n",
       "    .dataframe tbody tr th:only-of-type {\n",
       "        vertical-align: middle;\n",
       "    }\n",
       "\n",
       "    .dataframe tbody tr th {\n",
       "        vertical-align: top;\n",
       "    }\n",
       "\n",
       "    .dataframe thead th {\n",
       "        text-align: right;\n",
       "    }\n",
       "</style>\n",
       "<table border=\"1\" class=\"dataframe\">\n",
       "  <thead>\n",
       "    <tr style=\"text-align: right;\">\n",
       "      <th></th>\n",
       "      <th>time</th>\n",
       "      <th>father</th>\n",
       "      <th>part_number</th>\n",
       "      <th>leaf</th>\n",
       "      <th>polytope</th>\n",
       "    </tr>\n",
       "  </thead>\n",
       "  <tbody>\n",
       "    <tr>\n",
       "      <th>0</th>\n",
       "      <td>0.000000</td>\n",
       "      <td>nan</td>\n",
       "      <td>0</td>\n",
       "      <td>False</td>\n",
       "      <td>Single polytope \\n  [[ 1.  0.] |    [[2.24468]...</td>\n",
       "    </tr>\n",
       "    <tr>\n",
       "      <th>1</th>\n",
       "      <td>0.664801</td>\n",
       "      <td>0</td>\n",
       "      <td>1</td>\n",
       "      <td>False</td>\n",
       "      <td>Single polytope \\n  [[ 1.       0.     ] |    ...</td>\n",
       "    </tr>\n",
       "    <tr>\n",
       "      <th>2</th>\n",
       "      <td>0.664801</td>\n",
       "      <td>0</td>\n",
       "      <td>2</td>\n",
       "      <td>False</td>\n",
       "      <td>Single polytope \\n  [[-1.       0.     ] |    ...</td>\n",
       "    </tr>\n",
       "    <tr>\n",
       "      <th>3</th>\n",
       "      <td>0.728402</td>\n",
       "      <td>1</td>\n",
       "      <td>3</td>\n",
       "      <td>False</td>\n",
       "      <td>Single polytope \\n  [[ 0.       1.     ] |    ...</td>\n",
       "    </tr>\n",
       "    <tr>\n",
       "      <th>4</th>\n",
       "      <td>0.728402</td>\n",
       "      <td>1</td>\n",
       "      <td>4</td>\n",
       "      <td>False</td>\n",
       "      <td>Single polytope \\n  [[ 1.       0.     ] |    ...</td>\n",
       "    </tr>\n",
       "  </tbody>\n",
       "</table>\n",
       "</div>"
      ],
      "text/plain": [
       "       time father  part_number   leaf  \\\n",
       "0  0.000000    nan            0  False   \n",
       "1  0.664801      0            1  False   \n",
       "2  0.664801      0            2  False   \n",
       "3  0.728402      1            3  False   \n",
       "4  0.728402      1            4  False   \n",
       "\n",
       "                                            polytope  \n",
       "0  Single polytope \\n  [[ 1.  0.] |    [[2.24468]...  \n",
       "1  Single polytope \\n  [[ 1.       0.     ] |    ...  \n",
       "2  Single polytope \\n  [[-1.       0.     ] |    ...  \n",
       "3  Single polytope \\n  [[ 0.       1.     ] |    ...  \n",
       "4  Single polytope \\n  [[ 1.       0.     ] |    ...  "
      ]
     },
     "execution_count": 11,
     "metadata": {},
     "output_type": "execute_result"
    }
   ],
   "source": [
    "print('total number of polytopes: ',len(part))\n",
    "part.head()"
   ]
  },
  {
   "cell_type": "markdown",
   "id": "4ec816e0",
   "metadata": {},
   "source": [
    "*m* is a list of dataframes. Each dataframe corresponds to a polytope of the *part* dataframe and stores the indexed samples contained in it."
   ]
  },
  {
   "cell_type": "code",
   "execution_count": 12,
   "id": "c83f4414",
   "metadata": {},
   "outputs": [
    {
     "name": "stdout",
     "output_type": "stream",
     "text": [
      "number of elements of the list:  39\n"
     ]
    },
    {
     "data": {
      "text/html": [
       "<div>\n",
       "<style scoped>\n",
       "    .dataframe tbody tr th:only-of-type {\n",
       "        vertical-align: middle;\n",
       "    }\n",
       "\n",
       "    .dataframe tbody tr th {\n",
       "        vertical-align: top;\n",
       "    }\n",
       "\n",
       "    .dataframe thead th {\n",
       "        text-align: right;\n",
       "    }\n",
       "</style>\n",
       "<table border=\"1\" class=\"dataframe\">\n",
       "  <thead>\n",
       "    <tr style=\"text-align: right;\">\n",
       "      <th></th>\n",
       "      <th>0</th>\n",
       "      <th>1</th>\n",
       "      <th>index</th>\n",
       "    </tr>\n",
       "  </thead>\n",
       "  <tbody>\n",
       "    <tr>\n",
       "      <th>0</th>\n",
       "      <td>0.056181</td>\n",
       "      <td>0.075957</td>\n",
       "      <td>0</td>\n",
       "    </tr>\n",
       "    <tr>\n",
       "      <th>1</th>\n",
       "      <td>0.109739</td>\n",
       "      <td>0.965219</td>\n",
       "      <td>1</td>\n",
       "    </tr>\n",
       "    <tr>\n",
       "      <th>2</th>\n",
       "      <td>0.299474</td>\n",
       "      <td>0.954463</td>\n",
       "      <td>2</td>\n",
       "    </tr>\n",
       "    <tr>\n",
       "      <th>3</th>\n",
       "      <td>1.608086</td>\n",
       "      <td>-0.413872</td>\n",
       "      <td>3</td>\n",
       "    </tr>\n",
       "    <tr>\n",
       "      <th>4</th>\n",
       "      <td>0.969291</td>\n",
       "      <td>0.269144</td>\n",
       "      <td>4</td>\n",
       "    </tr>\n",
       "  </tbody>\n",
       "</table>\n",
       "</div>"
      ],
      "text/plain": [
       "          0         1  index\n",
       "0  0.056181  0.075957      0\n",
       "1  0.109739  0.965219      1\n",
       "2  0.299474  0.954463      2\n",
       "3  1.608086 -0.413872      3\n",
       "4  0.969291  0.269144      4"
      ]
     },
     "execution_count": 12,
     "metadata": {},
     "output_type": "execute_result"
    }
   ],
   "source": [
    "print('number of elements of the list: ',len(m))\n",
    "m[0].head()"
   ]
  },
  {
   "cell_type": "markdown",
   "id": "2f37f934",
   "metadata": {},
   "source": [
    "### OUTCOME OF THE MERGING PHASE: "
   ]
  },
  {
   "cell_type": "markdown",
   "id": "2a8817f2",
   "metadata": {},
   "source": [
    "*list_p* is a list of dataframes. Each dataframe describes a configuration of the space division during the merging procedure. Each row corresponds to a polytope and stores the information about the neighboring polytopes and the subspaces that have been merged in order to obtain that configuration. The number of clusters is equal to the number of polytopes/rows.\n",
    "The last element of the list describes the initial condition after the connection of the single data subspaces with the nearest ones. The first element describes the final condition, in which all the subspaces are merged and all the samples belongs to the same class."
   ]
  },
  {
   "cell_type": "code",
   "execution_count": 13,
   "id": "35d1f2a2",
   "metadata": {},
   "outputs": [
    {
     "data": {
      "text/html": [
       "<div>\n",
       "<style scoped>\n",
       "    .dataframe tbody tr th:only-of-type {\n",
       "        vertical-align: middle;\n",
       "    }\n",
       "\n",
       "    .dataframe tbody tr th {\n",
       "        vertical-align: top;\n",
       "    }\n",
       "\n",
       "    .dataframe thead th {\n",
       "        text-align: right;\n",
       "    }\n",
       "</style>\n",
       "<table border=\"1\" class=\"dataframe\">\n",
       "  <thead>\n",
       "    <tr style=\"text-align: right;\">\n",
       "      <th></th>\n",
       "      <th>part_number</th>\n",
       "      <th>neighbors</th>\n",
       "      <th>merged_part</th>\n",
       "    </tr>\n",
       "  </thead>\n",
       "  <tbody>\n",
       "    <tr>\n",
       "      <th>0</th>\n",
       "      <td>5</td>\n",
       "      <td>[6, 12, 28, 37, 38]</td>\n",
       "      <td>[]</td>\n",
       "    </tr>\n",
       "    <tr>\n",
       "      <th>1</th>\n",
       "      <td>6</td>\n",
       "      <td>[5, 12]</td>\n",
       "      <td>[]</td>\n",
       "    </tr>\n",
       "    <tr>\n",
       "      <th>2</th>\n",
       "      <td>12</td>\n",
       "      <td>[5, 6, 28, 32]</td>\n",
       "      <td>[]</td>\n",
       "    </tr>\n",
       "    <tr>\n",
       "      <th>3</th>\n",
       "      <td>14</td>\n",
       "      <td>[15, 20, 28, 29, 37, 38, 33, 35]</td>\n",
       "      <td>[]</td>\n",
       "    </tr>\n",
       "    <tr>\n",
       "      <th>4</th>\n",
       "      <td>15</td>\n",
       "      <td>[14, 20, 23, 33]</td>\n",
       "      <td>[16]</td>\n",
       "    </tr>\n",
       "    <tr>\n",
       "      <th>5</th>\n",
       "      <td>20</td>\n",
       "      <td>[14, 15, 37]</td>\n",
       "      <td>[]</td>\n",
       "    </tr>\n",
       "    <tr>\n",
       "      <th>6</th>\n",
       "      <td>23</td>\n",
       "      <td>[15, 33]</td>\n",
       "      <td>[]</td>\n",
       "    </tr>\n",
       "    <tr>\n",
       "      <th>7</th>\n",
       "      <td>28</td>\n",
       "      <td>[5, 12, 14, 29, 30, 31, 32, 38]</td>\n",
       "      <td>[]</td>\n",
       "    </tr>\n",
       "    <tr>\n",
       "      <th>8</th>\n",
       "      <td>29</td>\n",
       "      <td>[14, 28, 30, 35]</td>\n",
       "      <td>[]</td>\n",
       "    </tr>\n",
       "    <tr>\n",
       "      <th>9</th>\n",
       "      <td>30</td>\n",
       "      <td>[28, 29, 31]</td>\n",
       "      <td>[]</td>\n",
       "    </tr>\n",
       "    <tr>\n",
       "      <th>10</th>\n",
       "      <td>31</td>\n",
       "      <td>[28, 30, 32]</td>\n",
       "      <td>[]</td>\n",
       "    </tr>\n",
       "    <tr>\n",
       "      <th>11</th>\n",
       "      <td>32</td>\n",
       "      <td>[12, 28, 31]</td>\n",
       "      <td>[]</td>\n",
       "    </tr>\n",
       "    <tr>\n",
       "      <th>12</th>\n",
       "      <td>33</td>\n",
       "      <td>[23, 14, 15, 35]</td>\n",
       "      <td>[25, 34]</td>\n",
       "    </tr>\n",
       "    <tr>\n",
       "      <th>13</th>\n",
       "      <td>35</td>\n",
       "      <td>[29, 14, 33]</td>\n",
       "      <td>[36]</td>\n",
       "    </tr>\n",
       "    <tr>\n",
       "      <th>14</th>\n",
       "      <td>37</td>\n",
       "      <td>[5, 14, 20, 38]</td>\n",
       "      <td>[]</td>\n",
       "    </tr>\n",
       "    <tr>\n",
       "      <th>15</th>\n",
       "      <td>38</td>\n",
       "      <td>[5, 14, 28, 37]</td>\n",
       "      <td>[]</td>\n",
       "    </tr>\n",
       "  </tbody>\n",
       "</table>\n",
       "</div>"
      ],
      "text/plain": [
       "    part_number                         neighbors merged_part\n",
       "0             5               [6, 12, 28, 37, 38]          []\n",
       "1             6                           [5, 12]          []\n",
       "2            12                    [5, 6, 28, 32]          []\n",
       "3            14  [15, 20, 28, 29, 37, 38, 33, 35]          []\n",
       "4            15                  [14, 20, 23, 33]        [16]\n",
       "5            20                      [14, 15, 37]          []\n",
       "6            23                          [15, 33]          []\n",
       "7            28   [5, 12, 14, 29, 30, 31, 32, 38]          []\n",
       "8            29                  [14, 28, 30, 35]          []\n",
       "9            30                      [28, 29, 31]          []\n",
       "10           31                      [28, 30, 32]          []\n",
       "11           32                      [12, 28, 31]          []\n",
       "12           33                  [23, 14, 15, 35]    [25, 34]\n",
       "13           35                      [29, 14, 33]        [36]\n",
       "14           37                   [5, 14, 20, 38]          []\n",
       "15           38                   [5, 14, 28, 37]          []"
      ]
     },
     "execution_count": 13,
     "metadata": {},
     "output_type": "execute_result"
    }
   ],
   "source": [
    "#last element of the list: the subspaces number 16, 25, 34 and 36 contain single samples and are already merged\n",
    "list_p[-1]"
   ]
  },
  {
   "cell_type": "code",
   "execution_count": 14,
   "id": "5221aba8",
   "metadata": {},
   "outputs": [
    {
     "data": {
      "text/html": [
       "<div>\n",
       "<style scoped>\n",
       "    .dataframe tbody tr th:only-of-type {\n",
       "        vertical-align: middle;\n",
       "    }\n",
       "\n",
       "    .dataframe tbody tr th {\n",
       "        vertical-align: top;\n",
       "    }\n",
       "\n",
       "    .dataframe thead th {\n",
       "        text-align: right;\n",
       "    }\n",
       "</style>\n",
       "<table border=\"1\" class=\"dataframe\">\n",
       "  <thead>\n",
       "    <tr style=\"text-align: right;\">\n",
       "      <th></th>\n",
       "      <th>part_number</th>\n",
       "      <th>neighbors</th>\n",
       "      <th>merged_part</th>\n",
       "    </tr>\n",
       "  </thead>\n",
       "  <tbody>\n",
       "    <tr>\n",
       "      <th>0</th>\n",
       "      <td>14</td>\n",
       "      <td>[]</td>\n",
       "      <td>[12, 29, 30, 31, 32, 6, 5, 28, 38, 37, 16, 36,...</td>\n",
       "    </tr>\n",
       "  </tbody>\n",
       "</table>\n",
       "</div>"
      ],
      "text/plain": [
       "   part_number neighbors                                        merged_part\n",
       "0           14        []  [12, 29, 30, 31, 32, 6, 5, 28, 38, 37, 16, 36,..."
      ]
     },
     "execution_count": 14,
     "metadata": {},
     "output_type": "execute_result"
    }
   ],
   "source": [
    "# first element of the list: all the subspaces are merged\n",
    "list_p[0]"
   ]
  },
  {
   "cell_type": "code",
   "execution_count": 15,
   "id": "9be27f70",
   "metadata": {},
   "outputs": [
    {
     "data": {
      "text/html": [
       "<div>\n",
       "<style scoped>\n",
       "    .dataframe tbody tr th:only-of-type {\n",
       "        vertical-align: middle;\n",
       "    }\n",
       "\n",
       "    .dataframe tbody tr th {\n",
       "        vertical-align: top;\n",
       "    }\n",
       "\n",
       "    .dataframe thead th {\n",
       "        text-align: right;\n",
       "    }\n",
       "</style>\n",
       "<table border=\"1\" class=\"dataframe\">\n",
       "  <thead>\n",
       "    <tr style=\"text-align: right;\">\n",
       "      <th></th>\n",
       "      <th>part_number</th>\n",
       "      <th>neighbors</th>\n",
       "      <th>merged_part</th>\n",
       "    </tr>\n",
       "  </thead>\n",
       "  <tbody>\n",
       "    <tr>\n",
       "      <th>0</th>\n",
       "      <td>14</td>\n",
       "      <td>[15, 20, 37, 35]</td>\n",
       "      <td>[12, 29, 30, 31, 32, 6, 5]</td>\n",
       "    </tr>\n",
       "    <tr>\n",
       "      <th>1</th>\n",
       "      <td>15</td>\n",
       "      <td>[14, 20, 35]</td>\n",
       "      <td>[16]</td>\n",
       "    </tr>\n",
       "    <tr>\n",
       "      <th>2</th>\n",
       "      <td>20</td>\n",
       "      <td>[14, 15, 37]</td>\n",
       "      <td>[]</td>\n",
       "    </tr>\n",
       "    <tr>\n",
       "      <th>3</th>\n",
       "      <td>35</td>\n",
       "      <td>[14, 15]</td>\n",
       "      <td>[36, 25, 34, 33, 23]</td>\n",
       "    </tr>\n",
       "    <tr>\n",
       "      <th>4</th>\n",
       "      <td>37</td>\n",
       "      <td>[14, 20]</td>\n",
       "      <td>[28, 38]</td>\n",
       "    </tr>\n",
       "  </tbody>\n",
       "</table>\n",
       "</div>"
      ],
      "text/plain": [
       "   part_number         neighbors                 merged_part\n",
       "0           14  [15, 20, 37, 35]  [12, 29, 30, 31, 32, 6, 5]\n",
       "1           15      [14, 20, 35]                        [16]\n",
       "2           20      [14, 15, 37]                          []\n",
       "3           35          [14, 15]        [36, 25, 34, 33, 23]\n",
       "4           37          [14, 20]                    [28, 38]"
      ]
     },
     "execution_count": 15,
     "metadata": {},
     "output_type": "execute_result"
    }
   ],
   "source": [
    "# fifth element of the list:\n",
    "list_p[4]"
   ]
  },
  {
   "cell_type": "markdown",
   "id": "c09f14e5",
   "metadata": {},
   "source": [
    "*list_m_leaf* is a list of lists of dataframes. Each element of the main list has the same structure of *m* and corresponds to an element of *list_p*. Each dataframe stores the samples contained in the corresponding polytope."
   ]
  },
  {
   "cell_type": "code",
   "execution_count": 16,
   "id": "a46cc4a8",
   "metadata": {},
   "outputs": [
    {
     "data": {
      "text/plain": [
       "[           0         1  index\n",
       " 0   0.969291  0.269144      4\n",
       " 1   0.913889  0.140083     34\n",
       " 2   0.947925  0.353976     46\n",
       " 3   0.987377  0.051992     47\n",
       " 4  -0.945656  0.264749      8\n",
       " 5  -0.854968  0.443847     25\n",
       " 6  -1.049613  0.050564     37\n",
       " 7  -1.004234  0.094807     39\n",
       " 8  -0.948328  0.363687     41\n",
       " 9  -0.780367  0.524694     42\n",
       " 10 -0.741436  0.707850     14\n",
       " 11 -0.632550  0.865390     31\n",
       " 12  0.109739  0.965219      1\n",
       " 13  0.299474  0.954463      2\n",
       " 14 -0.240420  0.963690     16\n",
       " 15 -0.087289  0.980101     28\n",
       " 16  0.080239  0.928999     35\n",
       " 17 -0.340037  0.924797     20\n",
       " 18 -0.444333  0.758342     23\n",
       " 19  0.577186  0.845920     27\n",
       " 20  0.336844  0.917918     43\n",
       " 21  0.589978  0.791442     15\n",
       " 22  0.766430  0.704185     30\n",
       " 23  0.928746  0.570955      9\n",
       " 24  0.777129  0.674357     38,\n",
       "           0         1  index\n",
       " 0  1.161274 -0.419962      6\n",
       " 1  1.325230 -0.383594     32\n",
       " 2  1.236505 -0.573094     44,\n",
       "            0         1  index\n",
       " 10  0.462807 -0.491897     10\n",
       " 11  0.665826 -0.408472     11\n",
       " 13  0.692789 -0.370491     13\n",
       " 36  0.877811 -0.602817     36\n",
       " 40  0.844432 -0.488663     40,\n",
       "           0         1  index\n",
       " 0  2.027645  0.387424     18\n",
       " 1  2.087805  0.548649     33\n",
       " 2  1.964752  0.245652     48\n",
       " 3  1.608086 -0.413872      3\n",
       " 4  1.587956 -0.346898     24\n",
       " 5  1.850907 -0.111220     17\n",
       " 6  1.763637 -0.114046     49\n",
       " 7  1.924381  0.089405     45\n",
       " 8  1.654569 -0.156503     26,\n",
       "           0         1  index\n",
       " 0  0.282296 -0.211124      7\n",
       " 1  0.366681 -0.257719     22\n",
       " 2  0.187781  0.009607     19\n",
       " 3  0.228062 -0.058948     21\n",
       " 4  0.056181  0.075957      0\n",
       " 5  0.011230  0.188182      5\n",
       " 6 -0.051124  0.426526     12\n",
       " 7  0.040558  0.514390     29]"
      ]
     },
     "execution_count": 16,
     "metadata": {},
     "output_type": "execute_result"
    }
   ],
   "source": [
    "list_m_leaf[4]"
   ]
  },
  {
   "cell_type": "markdown",
   "id": "dfaf0fdc",
   "metadata": {},
   "source": [
    "## VISUALIZATION OF THE RESULTS"
   ]
  },
  {
   "cell_type": "markdown",
   "id": "89453fe2",
   "metadata": {},
   "source": [
    "### PLOT OF THE FINAL SPACE PARTITIONS "
   ]
  },
  {
   "cell_type": "code",
   "execution_count": 18,
   "id": "2721f30f",
   "metadata": {},
   "outputs": [
    {
     "data": {
      "image/png": "[encoded data removed]",
      "text/plain": [
       "<Figure size 432x288 with 1 Axes>"
      ]
     },
     "metadata": {
      "needs_background": "light"
     },
     "output_type": "display_data"
    }
   ],
   "source": [
    "Plot.plot2D_partitioning(m,part)"
   ]
  },
  {
   "cell_type": "markdown",
   "id": "156706f6",
   "metadata": {},
   "source": [
    "### PLOT OF THE SPACE CLASSIFICATION FOR 2, 3 AND 6 NUMBER OF CLUSTERS"
   ]
  },
  {
   "cell_type": "code",
   "execution_count": 19,
   "id": "7ac355ce",
   "metadata": {},
   "outputs": [
    {
     "data": {
      "image/png": "[encoded data removed]",
      "text/plain": [
       "<Figure size 432x288 with 1 Axes>"
      ]
     },
     "metadata": {
      "needs_background": "light"
     },
     "output_type": "display_data"
    }
   ],
   "source": [
    "number_of_clusters = 2\n",
    "Plot.plot2D_merging(m,part,list_p,number_of_clusters)"
   ]
  },
  {
   "cell_type": "code",
   "execution_count": 20,
   "id": "52089b47",
   "metadata": {},
   "outputs": [
    {
     "data": {
      "image/png": "[encoded data removed]",
      "text/plain": [
       "<Figure size 432x288 with 1 Axes>"
      ]
     },
     "metadata": {
      "needs_background": "light"
     },
     "output_type": "display_data"
    }
   ],
   "source": [
    "number_of_clusters = 3\n",
    "Plot.plot2D_merging(m,part,list_p,number_of_clusters)"
   ]
  },
  {
   "cell_type": "code",
   "execution_count": 21,
   "id": "8b4bd131",
   "metadata": {},
   "outputs": [
    {
     "data": {
      "image/png": "[encoded data removed]",
      "text/plain": [
       "<Figure size 432x288 with 1 Axes>"
      ]
     },
     "metadata": {
      "needs_background": "light"
     },
     "output_type": "display_data"
    }
   ],
   "source": [
    "number_of_clusters = 6\n",
    "Plot.plot2D_merging(m,part,list_p,number_of_clusters)"
   ]
  },
  {
   "cell_type": "code",
   "execution_count": null,
   "id": "058d075c",
   "metadata": {},
   "outputs": [],
   "source": []
  },
  {
   "cell_type": "code",
   "execution_count": null,
   "id": "7031693a",
   "metadata": {},
   "outputs": [],
   "source": [
    "import sys\n",
    "print(sys.getsizeof(df))"
   ]
  },
  {
   "cell_type": "code",
   "execution_count": null,
   "id": "2f9a0b8a",
   "metadata": {},
   "outputs": [],
   "source": [
    "import time\n",
    "start = time.perf_counter()\n",
    "funzione\n",
    "end = time.perf_counter()\n",
    "print(end - start)"
   ]
  }
 ],
 "metadata": {
  "kernelspec": {
   "display_name": "Python 3",
   "language": "python",
   "name": "python3"
  },
  "language_info": {
   "codemirror_mode": {
    "name": "ipython",
    "version": 3
   },
   "file_extension": ".py",
   "mimetype": "text/x-python",
   "name": "python",
   "nbconvert_exporter": "python",
   "pygments_lexer": "ipython3",
   "version": "3.7.11"
  }
 },
 "nbformat": 4,
 "nbformat_minor": 5
}
