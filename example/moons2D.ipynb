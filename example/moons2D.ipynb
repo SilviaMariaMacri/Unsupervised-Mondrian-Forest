{
 "cells": [
  {
   "cell_type": "markdown",
   "id": "03f1c068",
   "metadata": {},
   "source": [
    "# MONDRIAN TREE: APPLICATION TO 2D MOONS DATASET"
   ]
  },
  {
   "cell_type": "code",
   "execution_count": 1,
   "id": "4b08a5a6",
   "metadata": {},
   "outputs": [
    {
     "name": "stdout",
     "output_type": "stream",
     "text": [
      "C:\\Users\\silvi\\Desktop\\Fisica\\TESI\\tesi\n"
     ]
    }
   ],
   "source": [
    "cd  \"C:\\Users\\silvi\\Desktop\\Fisica\\TESI\\tesi\""
   ]
  },
  {
   "cell_type": "code",
   "execution_count": 2,
   "id": "9a524cb8",
   "metadata": {},
   "outputs": [],
   "source": [
    "from sklearn import datasets\n",
    "import pandas as pd\n",
    "import pylab as plt\n",
    "\n",
    "import Mondrian\n",
    "import Plot"
   ]
  },
  {
   "cell_type": "markdown",
   "id": "fb2e2ec3",
   "metadata": {},
   "source": [
    "## moons dataset:"
   ]
  },
  {
   "cell_type": "code",
   "execution_count": 3,
   "id": "dc8f3a1c",
   "metadata": {},
   "outputs": [
    {
     "data": {
      "text/html": [
       "<div>\n",
       "<style scoped>\n",
       "    .dataframe tbody tr th:only-of-type {\n",
       "        vertical-align: middle;\n",
       "    }\n",
       "\n",
       "    .dataframe tbody tr th {\n",
       "        vertical-align: top;\n",
       "    }\n",
       "\n",
       "    .dataframe thead th {\n",
       "        text-align: right;\n",
       "    }\n",
       "</style>\n",
       "<table border=\"1\" class=\"dataframe\">\n",
       "  <thead>\n",
       "    <tr style=\"text-align: right;\">\n",
       "      <th></th>\n",
       "      <th>X1</th>\n",
       "      <th>X2</th>\n",
       "      <th>y</th>\n",
       "    </tr>\n",
       "  </thead>\n",
       "  <tbody>\n",
       "    <tr>\n",
       "      <th>0</th>\n",
       "      <td>0.033882</td>\n",
       "      <td>0.188623</td>\n",
       "      <td>1</td>\n",
       "    </tr>\n",
       "    <tr>\n",
       "      <th>1</th>\n",
       "      <td>-0.067786</td>\n",
       "      <td>0.494295</td>\n",
       "      <td>1</td>\n",
       "    </tr>\n",
       "    <tr>\n",
       "      <th>2</th>\n",
       "      <td>0.280507</td>\n",
       "      <td>-0.200442</td>\n",
       "      <td>1</td>\n",
       "    </tr>\n",
       "    <tr>\n",
       "      <th>3</th>\n",
       "      <td>0.769201</td>\n",
       "      <td>0.572853</td>\n",
       "      <td>0</td>\n",
       "    </tr>\n",
       "    <tr>\n",
       "      <th>4</th>\n",
       "      <td>-0.103367</td>\n",
       "      <td>0.970359</td>\n",
       "      <td>0</td>\n",
       "    </tr>\n",
       "  </tbody>\n",
       "</table>\n",
       "</div>"
      ],
      "text/plain": [
       "         X1        X2  y\n",
       "0  0.033882  0.188623  1\n",
       "1 -0.067786  0.494295  1\n",
       "2  0.280507 -0.200442  1\n",
       "3  0.769201  0.572853  0\n",
       "4 -0.103367  0.970359  0"
      ]
     },
     "execution_count": 3,
     "metadata": {},
     "output_type": "execute_result"
    }
   ],
   "source": [
    "moons = datasets.make_moons(n_samples=40,noise=0.05,random_state=0)\n",
    "X = moons[0] # data\n",
    "y = moons[1] # true labels\n",
    "\n",
    "df_moons = {'X1':X[:,0],'X2':X[:,1],'y':y}\n",
    "df_moons = pd.DataFrame(df_moons)\n",
    "df_moons.head()"
   ]
  },
  {
   "cell_type": "code",
   "execution_count": 6,
   "id": "1d771b19",
   "metadata": {},
   "outputs": [
    {
     "data": {
      "text/plain": [
       "<matplotlib.collections.PathCollection at 0x2715048e508>"
      ]
     },
     "execution_count": 6,
     "metadata": {},
     "output_type": "execute_result"
    },
    {
     "data": {
      "image/png": "[encoded data removed]",
      "text/plain": [
       "<Figure size 432x288 with 1 Axes>"
      ]
     },
     "metadata": {
      "needs_background": "light"
     },
     "output_type": "display_data"
    }
   ],
   "source": [
    "fig,ax = plt.subplots()\n",
    "ax.scatter(df_moons.query('y==0')['X1'],df_moons.query('y==0')['X2'])\n",
    "ax.scatter(df_moons.query('y==1')['X1'],df_moons.query('y==1')['X2'])"
   ]
  },
  {
   "cell_type": "code",
   "execution_count": 7,
   "id": "ceb312b9",
   "metadata": {},
   "outputs": [],
   "source": [
    "import Matrix\n",
    "data,cut_matrix,point_cut_distance = Matrix.cut_ensemble(X)"
   ]
  },
  {
   "cell_type": "markdown",
   "id": "a3a5bc24",
   "metadata": {},
   "source": [
    "*data_index* stores the indexed data. *cut_matrix* stores the indexed cutting hyperplane for each pair of samples. *point_cut_distance* stores the distances between hyperplanes and samples."
   ]
  },
  {
   "cell_type": "code",
   "execution_count": 8,
   "id": "56474f6b",
   "metadata": {},
   "outputs": [
    {
     "data": {
      "text/html": [
       "<div>\n",
       "<style scoped>\n",
       "    .dataframe tbody tr th:only-of-type {\n",
       "        vertical-align: middle;\n",
       "    }\n",
       "\n",
       "    .dataframe tbody tr th {\n",
       "        vertical-align: top;\n",
       "    }\n",
       "\n",
       "    .dataframe thead th {\n",
       "        text-align: right;\n",
       "    }\n",
       "</style>\n",
       "<table border=\"1\" class=\"dataframe\">\n",
       "  <thead>\n",
       "    <tr style=\"text-align: right;\">\n",
       "      <th></th>\n",
       "      <th>0</th>\n",
       "      <th>1</th>\n",
       "      <th>index</th>\n",
       "    </tr>\n",
       "  </thead>\n",
       "  <tbody>\n",
       "    <tr>\n",
       "      <th>0</th>\n",
       "      <td>-0.074753</td>\n",
       "      <td>0.993981</td>\n",
       "      <td>0</td>\n",
       "    </tr>\n",
       "    <tr>\n",
       "      <th>1</th>\n",
       "      <td>1.746100</td>\n",
       "      <td>-0.207939</td>\n",
       "      <td>1</td>\n",
       "    </tr>\n",
       "    <tr>\n",
       "      <th>2</th>\n",
       "      <td>0.973573</td>\n",
       "      <td>0.093938</td>\n",
       "      <td>2</td>\n",
       "    </tr>\n",
       "    <tr>\n",
       "      <th>3</th>\n",
       "      <td>0.033263</td>\n",
       "      <td>0.147854</td>\n",
       "      <td>3</td>\n",
       "    </tr>\n",
       "    <tr>\n",
       "      <th>4</th>\n",
       "      <td>0.998300</td>\n",
       "      <td>-0.506125</td>\n",
       "      <td>4</td>\n",
       "    </tr>\n",
       "  </tbody>\n",
       "</table>\n",
       "</div>"
      ],
      "text/plain": [
       "          0         1  index\n",
       "0 -0.074753  0.993981      0\n",
       "1  1.746100 -0.207939      1\n",
       "2  0.973573  0.093938      2\n",
       "3  0.033263  0.147854      3\n",
       "4  0.998300 -0.506125      4"
      ]
     },
     "execution_count": 8,
     "metadata": {},
     "output_type": "execute_result"
    }
   ],
   "source": [
    "data_index.head()"
   ]
  },
  {
   "cell_type": "code",
   "execution_count": 9,
   "id": "601611f6",
   "metadata": {},
   "outputs": [
    {
     "name": "stdout",
     "output_type": "stream",
     "text": [
      "number of hyperplanes:  4950\n"
     ]
    },
    {
     "data": {
      "text/html": [
       "<div>\n",
       "<style scoped>\n",
       "    .dataframe tbody tr th:only-of-type {\n",
       "        vertical-align: middle;\n",
       "    }\n",
       "\n",
       "    .dataframe tbody tr th {\n",
       "        vertical-align: top;\n",
       "    }\n",
       "\n",
       "    .dataframe thead th {\n",
       "        text-align: right;\n",
       "    }\n",
       "</style>\n",
       "<table border=\"1\" class=\"dataframe\">\n",
       "  <thead>\n",
       "    <tr style=\"text-align: right;\">\n",
       "      <th></th>\n",
       "      <th>index1</th>\n",
       "      <th>index2</th>\n",
       "      <th>cut_index</th>\n",
       "      <th>magnitude_norm_vect</th>\n",
       "      <th>norm_vect_0</th>\n",
       "      <th>norm_vect_1</th>\n",
       "      <th>equivalent_cut_index</th>\n",
       "    </tr>\n",
       "  </thead>\n",
       "  <tbody>\n",
       "    <tr>\n",
       "      <th>0</th>\n",
       "      <td>1</td>\n",
       "      <td>0</td>\n",
       "      <td>0</td>\n",
       "      <td>0.480921</td>\n",
       "      <td>0.834577</td>\n",
       "      <td>-0.550892</td>\n",
       "      <td>0</td>\n",
       "    </tr>\n",
       "    <tr>\n",
       "      <th>1</th>\n",
       "      <td>2</td>\n",
       "      <td>0</td>\n",
       "      <td>1</td>\n",
       "      <td>-0.013359</td>\n",
       "      <td>0.758728</td>\n",
       "      <td>-0.651407</td>\n",
       "      <td>1</td>\n",
       "    </tr>\n",
       "    <tr>\n",
       "      <th>2</th>\n",
       "      <td>2</td>\n",
       "      <td>1</td>\n",
       "      <td>2</td>\n",
       "      <td>-1.287316</td>\n",
       "      <td>-0.931413</td>\n",
       "      <td>0.363964</td>\n",
       "      <td>2</td>\n",
       "    </tr>\n",
       "    <tr>\n",
       "      <th>3</th>\n",
       "      <td>3</td>\n",
       "      <td>0</td>\n",
       "      <td>3</td>\n",
       "      <td>-0.568948</td>\n",
       "      <td>0.126632</td>\n",
       "      <td>-0.991950</td>\n",
       "      <td>3</td>\n",
       "    </tr>\n",
       "    <tr>\n",
       "      <th>4</th>\n",
       "      <td>3</td>\n",
       "      <td>1</td>\n",
       "      <td>4</td>\n",
       "      <td>-0.877197</td>\n",
       "      <td>-0.979100</td>\n",
       "      <td>0.203380</td>\n",
       "      <td>4</td>\n",
       "    </tr>\n",
       "    <tr>\n",
       "      <th>...</th>\n",
       "      <td>...</td>\n",
       "      <td>...</td>\n",
       "      <td>...</td>\n",
       "      <td>...</td>\n",
       "      <td>...</td>\n",
       "      <td>...</td>\n",
       "      <td>...</td>\n",
       "    </tr>\n",
       "    <tr>\n",
       "      <th>4945</th>\n",
       "      <td>99</td>\n",
       "      <td>94</td>\n",
       "      <td>4945</td>\n",
       "      <td>-0.001432</td>\n",
       "      <td>-0.990697</td>\n",
       "      <td>-0.136090</td>\n",
       "      <td>200</td>\n",
       "    </tr>\n",
       "    <tr>\n",
       "      <th>4946</th>\n",
       "      <td>99</td>\n",
       "      <td>95</td>\n",
       "      <td>4946</td>\n",
       "      <td>-0.470498</td>\n",
       "      <td>-0.999778</td>\n",
       "      <td>-0.021086</td>\n",
       "      <td>211</td>\n",
       "    </tr>\n",
       "    <tr>\n",
       "      <th>4947</th>\n",
       "      <td>99</td>\n",
       "      <td>96</td>\n",
       "      <td>4947</td>\n",
       "      <td>0.205032</td>\n",
       "      <td>-0.899547</td>\n",
       "      <td>0.436824</td>\n",
       "      <td>123</td>\n",
       "    </tr>\n",
       "    <tr>\n",
       "      <th>4948</th>\n",
       "      <td>99</td>\n",
       "      <td>97</td>\n",
       "      <td>4948</td>\n",
       "      <td>0.245581</td>\n",
       "      <td>-0.927117</td>\n",
       "      <td>0.374772</td>\n",
       "      <td>320</td>\n",
       "    </tr>\n",
       "    <tr>\n",
       "      <th>4949</th>\n",
       "      <td>99</td>\n",
       "      <td>98</td>\n",
       "      <td>4949</td>\n",
       "      <td>-0.105531</td>\n",
       "      <td>0.319843</td>\n",
       "      <td>0.947471</td>\n",
       "      <td>1104</td>\n",
       "    </tr>\n",
       "  </tbody>\n",
       "</table>\n",
       "<p>4950 rows × 7 columns</p>\n",
       "</div>"
      ],
      "text/plain": [
       "      index1  index2  cut_index  magnitude_norm_vect  norm_vect_0  \\\n",
       "0          1       0          0             0.480921     0.834577   \n",
       "1          2       0          1            -0.013359     0.758728   \n",
       "2          2       1          2            -1.287316    -0.931413   \n",
       "3          3       0          3            -0.568948     0.126632   \n",
       "4          3       1          4            -0.877197    -0.979100   \n",
       "...      ...     ...        ...                  ...          ...   \n",
       "4945      99      94       4945            -0.001432    -0.990697   \n",
       "4946      99      95       4946            -0.470498    -0.999778   \n",
       "4947      99      96       4947             0.205032    -0.899547   \n",
       "4948      99      97       4948             0.245581    -0.927117   \n",
       "4949      99      98       4949            -0.105531     0.319843   \n",
       "\n",
       "      norm_vect_1  equivalent_cut_index  \n",
       "0       -0.550892                     0  \n",
       "1       -0.651407                     1  \n",
       "2        0.363964                     2  \n",
       "3       -0.991950                     3  \n",
       "4        0.203380                     4  \n",
       "...           ...                   ...  \n",
       "4945    -0.136090                   200  \n",
       "4946    -0.021086                   211  \n",
       "4947     0.436824                   123  \n",
       "4948     0.374772                   320  \n",
       "4949     0.947471                  1104  \n",
       "\n",
       "[4950 rows x 7 columns]"
      ]
     },
     "execution_count": 9,
     "metadata": {},
     "output_type": "execute_result"
    }
   ],
   "source": [
    "print('number of hyperplanes: ',len(cut_matrix))\n",
    "cut_matrix#.head()"
   ]
  },
  {
   "cell_type": "code",
   "execution_count": 10,
   "id": "8b53d46f",
   "metadata": {},
   "outputs": [
    {
     "name": "stdout",
     "output_type": "stream",
     "text": [
      "number of rows = number of samples =  100\n",
      "number of columns = number of hyperplanes + 1 =  4951\n"
     ]
    },
    {
     "data": {
      "text/html": [
       "<div>\n",
       "<style scoped>\n",
       "    .dataframe tbody tr th:only-of-type {\n",
       "        vertical-align: middle;\n",
       "    }\n",
       "\n",
       "    .dataframe tbody tr th {\n",
       "        vertical-align: top;\n",
       "    }\n",
       "\n",
       "    .dataframe thead th {\n",
       "        text-align: right;\n",
       "    }\n",
       "</style>\n",
       "<table border=\"1\" class=\"dataframe\">\n",
       "  <thead>\n",
       "    <tr style=\"text-align: right;\">\n",
       "      <th></th>\n",
       "      <th>cut_index_0</th>\n",
       "      <th>cut_index_1</th>\n",
       "      <th>cut_index_2</th>\n",
       "      <th>cut_index_3</th>\n",
       "      <th>cut_index_4</th>\n",
       "      <th>cut_index_5</th>\n",
       "      <th>cut_index_6</th>\n",
       "      <th>cut_index_7</th>\n",
       "      <th>cut_index_8</th>\n",
       "      <th>cut_index_9</th>\n",
       "      <th>...</th>\n",
       "      <th>cut_index_4941</th>\n",
       "      <th>cut_index_4942</th>\n",
       "      <th>cut_index_4943</th>\n",
       "      <th>cut_index_4944</th>\n",
       "      <th>cut_index_4945</th>\n",
       "      <th>cut_index_4946</th>\n",
       "      <th>cut_index_4947</th>\n",
       "      <th>cut_index_4948</th>\n",
       "      <th>cut_index_4949</th>\n",
       "      <th>point_index</th>\n",
       "    </tr>\n",
       "  </thead>\n",
       "  <tbody>\n",
       "    <tr>\n",
       "      <th>0</th>\n",
       "      <td>-1.090885</td>\n",
       "      <td>-0.690845</td>\n",
       "      <td>1.718715</td>\n",
       "      <td>-0.426496</td>\n",
       "      <td>1.152544</td>\n",
       "      <td>0.627203</td>\n",
       "      <td>-0.922193</td>\n",
       "      <td>0.843638</td>\n",
       "      <td>-1.242728</td>\n",
       "      <td>-1.146966</td>\n",
       "      <td>...</td>\n",
       "      <td>0.602061</td>\n",
       "      <td>-0.849392</td>\n",
       "      <td>-0.449595</td>\n",
       "      <td>0.601536</td>\n",
       "      <td>-0.059781</td>\n",
       "      <td>0.524275</td>\n",
       "      <td>0.296407</td>\n",
       "      <td>0.196240</td>\n",
       "      <td>1.023390</td>\n",
       "      <td>0</td>\n",
       "    </tr>\n",
       "    <tr>\n",
       "      <th>1</th>\n",
       "      <td>1.090885</td>\n",
       "      <td>1.473628</td>\n",
       "      <td>-0.414707</td>\n",
       "      <td>0.996326</td>\n",
       "      <td>-0.874700</td>\n",
       "      <td>-1.259469</td>\n",
       "      <td>1.114733</td>\n",
       "      <td>-0.402529</td>\n",
       "      <td>0.033142</td>\n",
       "      <td>1.034642</td>\n",
       "      <td>...</td>\n",
       "      <td>-1.414394</td>\n",
       "      <td>-0.941397</td>\n",
       "      <td>-1.505821</td>\n",
       "      <td>-1.481688</td>\n",
       "      <td>-1.700126</td>\n",
       "      <td>-1.270830</td>\n",
       "      <td>-1.866564</td>\n",
       "      <td>-1.942350</td>\n",
       "      <td>0.466993</td>\n",
       "      <td>1</td>\n",
       "    </tr>\n",
       "    <tr>\n",
       "      <th>2</th>\n",
       "      <td>0.279850</td>\n",
       "      <td>0.690845</td>\n",
       "      <td>0.414707</td>\n",
       "      <td>0.599052</td>\n",
       "      <td>-0.056923</td>\n",
       "      <td>-0.470927</td>\n",
       "      <td>0.419754</td>\n",
       "      <td>0.203240</td>\n",
       "      <td>-0.300286</td>\n",
       "      <td>0.225777</td>\n",
       "      <td>...</td>\n",
       "      <td>-0.598510</td>\n",
       "      <td>-0.733711</td>\n",
       "      <td>-0.961252</td>\n",
       "      <td>-0.655690</td>\n",
       "      <td>-0.975868</td>\n",
       "      <td>-0.504840</td>\n",
       "      <td>-1.039772</td>\n",
       "      <td>-1.112992</td>\n",
       "      <td>0.505925</td>\n",
       "      <td>2</td>\n",
       "    </tr>\n",
       "    <tr>\n",
       "      <th>3</th>\n",
       "      <td>-0.534613</td>\n",
       "      <td>-0.057717</td>\n",
       "      <td>1.310148</td>\n",
       "      <td>0.426496</td>\n",
       "      <td>0.874700</td>\n",
       "      <td>0.470927</td>\n",
       "      <td>-0.171165</td>\n",
       "      <td>1.056702</td>\n",
       "      <td>-0.392872</td>\n",
       "      <td>-0.582878</td>\n",
       "      <td>...</td>\n",
       "      <td>0.334855</td>\n",
       "      <td>-0.226773</td>\n",
       "      <td>-0.153071</td>\n",
       "      <td>0.262540</td>\n",
       "      <td>-0.051643</td>\n",
       "      <td>0.434125</td>\n",
       "      <td>-0.170367</td>\n",
       "      <td>-0.221008</td>\n",
       "      <td>0.256258</td>\n",
       "      <td>3</td>\n",
       "    </tr>\n",
       "    <tr>\n",
       "      <th>4</th>\n",
       "      <td>0.631057</td>\n",
       "      <td>1.100492</td>\n",
       "      <td>0.173274</td>\n",
       "      <td>1.197416</td>\n",
       "      <td>-0.203175</td>\n",
       "      <td>-0.529965</td>\n",
       "      <td>0.922193</td>\n",
       "      <td>0.402529</td>\n",
       "      <td>0.300286</td>\n",
       "      <td>0.582878</td>\n",
       "      <td>...</td>\n",
       "      <td>-0.737082</td>\n",
       "      <td>-0.261778</td>\n",
       "      <td>-0.704994</td>\n",
       "      <td>-0.846271</td>\n",
       "      <td>-0.918703</td>\n",
       "      <td>-0.516908</td>\n",
       "      <td>-1.324138</td>\n",
       "      <td>-1.360804</td>\n",
       "      <td>-0.054709</td>\n",
       "      <td>4</td>\n",
       "    </tr>\n",
       "  </tbody>\n",
       "</table>\n",
       "<p>5 rows × 4951 columns</p>\n",
       "</div>"
      ],
      "text/plain": [
       "   cut_index_0  cut_index_1  cut_index_2  cut_index_3  cut_index_4  \\\n",
       "0    -1.090885    -0.690845     1.718715    -0.426496     1.152544   \n",
       "1     1.090885     1.473628    -0.414707     0.996326    -0.874700   \n",
       "2     0.279850     0.690845     0.414707     0.599052    -0.056923   \n",
       "3    -0.534613    -0.057717     1.310148     0.426496     0.874700   \n",
       "4     0.631057     1.100492     0.173274     1.197416    -0.203175   \n",
       "\n",
       "   cut_index_5  cut_index_6  cut_index_7  cut_index_8  cut_index_9  ...  \\\n",
       "0     0.627203    -0.922193     0.843638    -1.242728    -1.146966  ...   \n",
       "1    -1.259469     1.114733    -0.402529     0.033142     1.034642  ...   \n",
       "2    -0.470927     0.419754     0.203240    -0.300286     0.225777  ...   \n",
       "3     0.470927    -0.171165     1.056702    -0.392872    -0.582878  ...   \n",
       "4    -0.529965     0.922193     0.402529     0.300286     0.582878  ...   \n",
       "\n",
       "   cut_index_4941  cut_index_4942  cut_index_4943  cut_index_4944  \\\n",
       "0        0.602061       -0.849392       -0.449595        0.601536   \n",
       "1       -1.414394       -0.941397       -1.505821       -1.481688   \n",
       "2       -0.598510       -0.733711       -0.961252       -0.655690   \n",
       "3        0.334855       -0.226773       -0.153071        0.262540   \n",
       "4       -0.737082       -0.261778       -0.704994       -0.846271   \n",
       "\n",
       "   cut_index_4945  cut_index_4946  cut_index_4947  cut_index_4948  \\\n",
       "0       -0.059781        0.524275        0.296407        0.196240   \n",
       "1       -1.700126       -1.270830       -1.866564       -1.942350   \n",
       "2       -0.975868       -0.504840       -1.039772       -1.112992   \n",
       "3       -0.051643        0.434125       -0.170367       -0.221008   \n",
       "4       -0.918703       -0.516908       -1.324138       -1.360804   \n",
       "\n",
       "   cut_index_4949  point_index  \n",
       "0        1.023390            0  \n",
       "1        0.466993            1  \n",
       "2        0.505925            2  \n",
       "3        0.256258            3  \n",
       "4       -0.054709            4  \n",
       "\n",
       "[5 rows x 4951 columns]"
      ]
     },
     "execution_count": 10,
     "metadata": {},
     "output_type": "execute_result"
    }
   ],
   "source": [
    "print('number of rows = number of samples = ',len(point_cut_distance))\n",
    "print('number of columns = number of hyperplanes + 1 = ',len(point_cut_distance.columns))\n",
    "point_cut_distance.head()"
   ]
  },
  {
   "cell_type": "markdown",
   "id": "124a1812",
   "metadata": {},
   "source": [
    "## MONDRIAN CLUSTERING TREE"
   ]
  },
  {
   "cell_type": "code",
   "execution_count": 4,
   "id": "aed4a613",
   "metadata": {},
   "outputs": [],
   "source": [
    "# parameter setting\n",
    "t0 = 0\n",
    "lifetime = 5\n",
    "exp = 5\n",
    "metric = 'min_corr'  # 'variance','centroid_diff','centroid_ratio','min'"
   ]
  },
  {
   "cell_type": "code",
   "execution_count": 5,
   "id": "c6cc612a",
   "metadata": {
    "scrolled": true
   },
   "outputs": [
    {
     "name": "stdout",
     "output_type": "stream",
     "text": [
      "PARTITIONING:\n",
      "split  1\n",
      "split  2\n",
      "split  3\n",
      "split  4\n",
      "split  5\n",
      "split  6\n",
      "split  7\n",
      "split  8\n",
      "split  9\n",
      "split  10\n",
      "split  11\n",
      "split  12\n",
      "split  13\n",
      "split  14\n",
      "split  15\n",
      "split  16\n",
      "split  17\n",
      "split  18\n",
      "split  19\n",
      "split  20\n",
      "split  21\n",
      "split  22\n",
      "split  23\n",
      "split  24\n",
      "total number of splits: 24\n",
      "MERGING:\n",
      "range of possible number of clusters: 1-15\n"
     ]
    }
   ],
   "source": [
    "part,m,list_p,list_m_leaf = Mondrian.mondrian_tree(X,t0,lifetime,exp,metric)"
   ]
  },
  {
   "cell_type": "markdown",
   "id": "092270e1",
   "metadata": {},
   "source": [
    "### OUTCOME OF THE PARTITIONING PHASE:"
   ]
  },
  {
   "cell_type": "markdown",
   "id": "5a8e3dd3",
   "metadata": {},
   "source": [
    "*part* is a dataframe. Each row corresponds to a polytope that has been created during the hierarchical splitting. Each polytope is associated to its creation time, its characterization number, the characterization number of the father, the boolean information of being a leaf, the polytope object created by the Polytope package."
   ]
  },
  {
   "cell_type": "code",
   "execution_count": 6,
   "id": "d7985049",
   "metadata": {},
   "outputs": [
    {
     "name": "stdout",
     "output_type": "stream",
     "text": [
      "total number of polytopes:  47\n"
     ]
    },
    {
     "data": {
      "text/html": [
       "<div>\n",
       "<style scoped>\n",
       "    .dataframe tbody tr th:only-of-type {\n",
       "        vertical-align: middle;\n",
       "    }\n",
       "\n",
       "    .dataframe tbody tr th {\n",
       "        vertical-align: top;\n",
       "    }\n",
       "\n",
       "    .dataframe thead th {\n",
       "        text-align: right;\n",
       "    }\n",
       "</style>\n",
       "<table border=\"1\" class=\"dataframe\">\n",
       "  <thead>\n",
       "    <tr style=\"text-align: right;\">\n",
       "      <th></th>\n",
       "      <th>time</th>\n",
       "      <th>father</th>\n",
       "      <th>part_number</th>\n",
       "      <th>leaf</th>\n",
       "      <th>polytope</th>\n",
       "    </tr>\n",
       "  </thead>\n",
       "  <tbody>\n",
       "    <tr>\n",
       "      <th>0</th>\n",
       "      <td>0.000000</td>\n",
       "      <td>nan</td>\n",
       "      <td>0</td>\n",
       "      <td>False</td>\n",
       "      <td>Single polytope \\n  [[ 1.  0.] |    [[2.16184]...</td>\n",
       "    </tr>\n",
       "    <tr>\n",
       "      <th>1</th>\n",
       "      <td>0.041649</td>\n",
       "      <td>0</td>\n",
       "      <td>1</td>\n",
       "      <td>False</td>\n",
       "      <td>Single polytope \\n  [[ 1.       0.     ] |    ...</td>\n",
       "    </tr>\n",
       "    <tr>\n",
       "      <th>2</th>\n",
       "      <td>0.041649</td>\n",
       "      <td>0</td>\n",
       "      <td>2</td>\n",
       "      <td>False</td>\n",
       "      <td>Single polytope \\n  [[-1.       0.     ] |    ...</td>\n",
       "    </tr>\n",
       "    <tr>\n",
       "      <th>3</th>\n",
       "      <td>0.048504</td>\n",
       "      <td>1</td>\n",
       "      <td>3</td>\n",
       "      <td>False</td>\n",
       "      <td>Single polytope \\n  [[ 1.       0.     ] |    ...</td>\n",
       "    </tr>\n",
       "    <tr>\n",
       "      <th>4</th>\n",
       "      <td>0.048504</td>\n",
       "      <td>1</td>\n",
       "      <td>4</td>\n",
       "      <td>False</td>\n",
       "      <td>Single polytope \\n  [[ 0.       1.     ] |    ...</td>\n",
       "    </tr>\n",
       "  </tbody>\n",
       "</table>\n",
       "</div>"
      ],
      "text/plain": [
       "       time father  part_number   leaf  \\\n",
       "0  0.000000    nan            0  False   \n",
       "1  0.041649      0            1  False   \n",
       "2  0.041649      0            2  False   \n",
       "3  0.048504      1            3  False   \n",
       "4  0.048504      1            4  False   \n",
       "\n",
       "                                            polytope  \n",
       "0  Single polytope \\n  [[ 1.  0.] |    [[2.16184]...  \n",
       "1  Single polytope \\n  [[ 1.       0.     ] |    ...  \n",
       "2  Single polytope \\n  [[-1.       0.     ] |    ...  \n",
       "3  Single polytope \\n  [[ 1.       0.     ] |    ...  \n",
       "4  Single polytope \\n  [[ 0.       1.     ] |    ...  "
      ]
     },
     "execution_count": 6,
     "metadata": {},
     "output_type": "execute_result"
    }
   ],
   "source": [
    "print('total number of polytopes: ',len(part))\n",
    "part.head()"
   ]
  },
  {
   "cell_type": "markdown",
   "id": "4ec816e0",
   "metadata": {},
   "source": [
    "*m* is a list of dataframes. Each dataframe corresponds to a polytope of the *part* dataframe and stores the indexed samples contained in it."
   ]
  },
  {
   "cell_type": "code",
   "execution_count": 8,
   "id": "c83f4414",
   "metadata": {},
   "outputs": [
    {
     "name": "stdout",
     "output_type": "stream",
     "text": [
      "number of elements of the list:  47\n"
     ]
    },
    {
     "data": {
      "text/plain": [
       "[[0,\n",
       "  1,\n",
       "  2,\n",
       "  3,\n",
       "  4,\n",
       "  5,\n",
       "  6,\n",
       "  7,\n",
       "  8,\n",
       "  9,\n",
       "  10,\n",
       "  11,\n",
       "  12,\n",
       "  13,\n",
       "  14,\n",
       "  15,\n",
       "  16,\n",
       "  17,\n",
       "  18,\n",
       "  19,\n",
       "  20,\n",
       "  21,\n",
       "  22,\n",
       "  23,\n",
       "  24,\n",
       "  25,\n",
       "  26,\n",
       "  27,\n",
       "  28,\n",
       "  29,\n",
       "  30,\n",
       "  31,\n",
       "  32,\n",
       "  33,\n",
       "  34,\n",
       "  35,\n",
       "  36,\n",
       "  37,\n",
       "  38,\n",
       "  39],\n",
       " [3,\n",
       "  6,\n",
       "  9,\n",
       "  11,\n",
       "  12,\n",
       "  13,\n",
       "  14,\n",
       "  15,\n",
       "  16,\n",
       "  18,\n",
       "  19,\n",
       "  21,\n",
       "  24,\n",
       "  25,\n",
       "  26,\n",
       "  27,\n",
       "  30,\n",
       "  32,\n",
       "  36,\n",
       "  37,\n",
       "  38,\n",
       "  39],\n",
       " [0, 1, 2, 4, 5, 7, 8, 10, 17, 20, 22, 23, 28, 29, 31, 33, 34, 35],\n",
       " [6, 9, 11, 12, 14, 15, 16, 18, 24, 26, 27, 30, 37, 39],\n",
       " [3, 13, 19, 21, 25, 32, 36, 38],\n",
       " [2, 10, 28, 31, 33],\n",
       " [0, 1, 4, 5, 7, 8, 17, 20, 22, 23, 29, 34, 35],\n",
       " [11, 12, 14, 16, 18, 24, 26, 37],\n",
       " [6, 9, 15, 27, 30, 39],\n",
       " [13],\n",
       " [3, 19, 21, 25, 32, 36, 38],\n",
       " [10, 28],\n",
       " [2, 31, 33],\n",
       " [0, 1, 34],\n",
       " [4, 5, 7, 8, 17, 20, 22, 23, 29, 35],\n",
       " [11, 16, 18, 24, 26],\n",
       " [12, 14, 37],\n",
       " [15, 30],\n",
       " [6, 9, 27, 39],\n",
       " [3, 21, 38],\n",
       " [19, 25, 32, 36],\n",
       " [2],\n",
       " [31, 33],\n",
       " [1],\n",
       " [0, 34],\n",
       " [8, 35],\n",
       " [4, 5, 7, 17, 20, 22, 23, 29],\n",
       " [11, 16, 18, 24],\n",
       " [26],\n",
       " [12, 37],\n",
       " [14],\n",
       " [6, 9],\n",
       " [27, 39],\n",
       " [3, 21],\n",
       " [38],\n",
       " [32],\n",
       " [19, 25, 36],\n",
       " [4, 5, 7, 20, 23, 29],\n",
       " [17, 22],\n",
       " [11, 18],\n",
       " [16, 24],\n",
       " [19, 25],\n",
       " [36],\n",
       " [4, 7],\n",
       " [5, 20, 23, 29],\n",
       " [20, 29],\n",
       " [5, 23]]"
      ]
     },
     "execution_count": 8,
     "metadata": {},
     "output_type": "execute_result"
    }
   ],
   "source": [
    "print('number of elements of the list: ',len(m))\n",
    "m"
   ]
  },
  {
   "cell_type": "markdown",
   "id": "2f37f934",
   "metadata": {},
   "source": [
    "### OUTCOME OF THE MERGING PHASE: "
   ]
  },
  {
   "cell_type": "markdown",
   "id": "2a8817f2",
   "metadata": {},
   "source": [
    "*list_p* is a list of dataframes. Each dataframe describes a configuration of the space division during the merging procedure. Each row corresponds to a polytope and stores the information about the neighboring polytopes and the subspaces that have been merged in order to obtain that configuration. The number of clusters is equal to the number of polytopes/rows.\n",
    "The last element of the list describes the initial condition after the connection of the single data subspaces with the nearest ones. The first element describes the final condition, in which all the subspaces are merged and all the samples belongs to the same class."
   ]
  },
  {
   "cell_type": "code",
   "execution_count": 9,
   "id": "35d1f2a2",
   "metadata": {},
   "outputs": [
    {
     "data": {
      "text/html": [
       "<div>\n",
       "<style scoped>\n",
       "    .dataframe tbody tr th:only-of-type {\n",
       "        vertical-align: middle;\n",
       "    }\n",
       "\n",
       "    .dataframe tbody tr th {\n",
       "        vertical-align: top;\n",
       "    }\n",
       "\n",
       "    .dataframe thead th {\n",
       "        text-align: right;\n",
       "    }\n",
       "</style>\n",
       "<table border=\"1\" class=\"dataframe\">\n",
       "  <thead>\n",
       "    <tr style=\"text-align: right;\">\n",
       "      <th></th>\n",
       "      <th>part_number</th>\n",
       "      <th>neighbors</th>\n",
       "      <th>merged_part</th>\n",
       "    </tr>\n",
       "  </thead>\n",
       "  <tbody>\n",
       "    <tr>\n",
       "      <th>0</th>\n",
       "      <td>11</td>\n",
       "      <td>[17, 22, 31, 32]</td>\n",
       "      <td>[]</td>\n",
       "    </tr>\n",
       "    <tr>\n",
       "      <th>1</th>\n",
       "      <td>17</td>\n",
       "      <td>[11, 31, 32, 40]</td>\n",
       "      <td>[28]</td>\n",
       "    </tr>\n",
       "    <tr>\n",
       "      <th>2</th>\n",
       "      <td>22</td>\n",
       "      <td>[11, 24, 33, 32]</td>\n",
       "      <td>[21]</td>\n",
       "    </tr>\n",
       "    <tr>\n",
       "      <th>3</th>\n",
       "      <td>24</td>\n",
       "      <td>[22, 25, 38, 41, 43, 45, 33]</td>\n",
       "      <td>[23]</td>\n",
       "    </tr>\n",
       "    <tr>\n",
       "      <th>4</th>\n",
       "      <td>25</td>\n",
       "      <td>[24, 38]</td>\n",
       "      <td>[]</td>\n",
       "    </tr>\n",
       "    <tr>\n",
       "      <th>5</th>\n",
       "      <td>29</td>\n",
       "      <td>[39, 32]</td>\n",
       "      <td>[30]</td>\n",
       "    </tr>\n",
       "    <tr>\n",
       "      <th>6</th>\n",
       "      <td>31</td>\n",
       "      <td>[11, 17, 32]</td>\n",
       "      <td>[]</td>\n",
       "    </tr>\n",
       "    <tr>\n",
       "      <th>7</th>\n",
       "      <td>32</td>\n",
       "      <td>[11, 17, 31, 39, 40, 22, 33, 29]</td>\n",
       "      <td>[9, 34]</td>\n",
       "    </tr>\n",
       "    <tr>\n",
       "      <th>8</th>\n",
       "      <td>33</td>\n",
       "      <td>[22, 32, 24, 41]</td>\n",
       "      <td>[35]</td>\n",
       "    </tr>\n",
       "    <tr>\n",
       "      <th>9</th>\n",
       "      <td>38</td>\n",
       "      <td>[24, 25, 45, 46]</td>\n",
       "      <td>[]</td>\n",
       "    </tr>\n",
       "    <tr>\n",
       "      <th>10</th>\n",
       "      <td>39</td>\n",
       "      <td>[29, 32, 40]</td>\n",
       "      <td>[]</td>\n",
       "    </tr>\n",
       "    <tr>\n",
       "      <th>11</th>\n",
       "      <td>40</td>\n",
       "      <td>[17, 32, 39]</td>\n",
       "      <td>[]</td>\n",
       "    </tr>\n",
       "    <tr>\n",
       "      <th>12</th>\n",
       "      <td>41</td>\n",
       "      <td>[24, 33]</td>\n",
       "      <td>[42]</td>\n",
       "    </tr>\n",
       "    <tr>\n",
       "      <th>13</th>\n",
       "      <td>43</td>\n",
       "      <td>[45, 24]</td>\n",
       "      <td>[]</td>\n",
       "    </tr>\n",
       "    <tr>\n",
       "      <th>14</th>\n",
       "      <td>45</td>\n",
       "      <td>[38, 43, 46, 24]</td>\n",
       "      <td>[]</td>\n",
       "    </tr>\n",
       "    <tr>\n",
       "      <th>15</th>\n",
       "      <td>46</td>\n",
       "      <td>[38, 45]</td>\n",
       "      <td>[]</td>\n",
       "    </tr>\n",
       "  </tbody>\n",
       "</table>\n",
       "</div>"
      ],
      "text/plain": [
       "    part_number                         neighbors merged_part\n",
       "0            11                  [17, 22, 31, 32]          []\n",
       "1            17                  [11, 31, 32, 40]        [28]\n",
       "2            22                  [11, 24, 33, 32]        [21]\n",
       "3            24      [22, 25, 38, 41, 43, 45, 33]        [23]\n",
       "4            25                          [24, 38]          []\n",
       "5            29                          [39, 32]        [30]\n",
       "6            31                      [11, 17, 32]          []\n",
       "7            32  [11, 17, 31, 39, 40, 22, 33, 29]     [9, 34]\n",
       "8            33                  [22, 32, 24, 41]        [35]\n",
       "9            38                  [24, 25, 45, 46]          []\n",
       "10           39                      [29, 32, 40]          []\n",
       "11           40                      [17, 32, 39]          []\n",
       "12           41                          [24, 33]        [42]\n",
       "13           43                          [45, 24]          []\n",
       "14           45                  [38, 43, 46, 24]          []\n",
       "15           46                          [38, 45]          []"
      ]
     },
     "execution_count": 9,
     "metadata": {},
     "output_type": "execute_result"
    }
   ],
   "source": [
    "#last element of the list: the subspaces number 16, 25, 34 and 36 contain single samples and are already merged\n",
    "list_p[-1]"
   ]
  },
  {
   "cell_type": "code",
   "execution_count": 10,
   "id": "5221aba8",
   "metadata": {},
   "outputs": [
    {
     "data": {
      "text/html": [
       "<div>\n",
       "<style scoped>\n",
       "    .dataframe tbody tr th:only-of-type {\n",
       "        vertical-align: middle;\n",
       "    }\n",
       "\n",
       "    .dataframe tbody tr th {\n",
       "        vertical-align: top;\n",
       "    }\n",
       "\n",
       "    .dataframe thead th {\n",
       "        text-align: right;\n",
       "    }\n",
       "</style>\n",
       "<table border=\"1\" class=\"dataframe\">\n",
       "  <thead>\n",
       "    <tr style=\"text-align: right;\">\n",
       "      <th></th>\n",
       "      <th>part_number</th>\n",
       "      <th>neighbors</th>\n",
       "      <th>merged_part</th>\n",
       "    </tr>\n",
       "  </thead>\n",
       "  <tbody>\n",
       "    <tr>\n",
       "      <th>0</th>\n",
       "      <td>25</td>\n",
       "      <td>[]</td>\n",
       "      <td>[46, 45, 38, 43, 9, 34, 35, 42, 41, 33, 21, 23...</td>\n",
       "    </tr>\n",
       "  </tbody>\n",
       "</table>\n",
       "</div>"
      ],
      "text/plain": [
       "   part_number neighbors                                        merged_part\n",
       "0           25        []  [46, 45, 38, 43, 9, 34, 35, 42, 41, 33, 21, 23..."
      ]
     },
     "execution_count": 10,
     "metadata": {},
     "output_type": "execute_result"
    }
   ],
   "source": [
    "# first element of the list: all the subspaces are merged\n",
    "list_p[0]"
   ]
  },
  {
   "cell_type": "code",
   "execution_count": 11,
   "id": "9be27f70",
   "metadata": {},
   "outputs": [
    {
     "data": {
      "text/html": [
       "<div>\n",
       "<style scoped>\n",
       "    .dataframe tbody tr th:only-of-type {\n",
       "        vertical-align: middle;\n",
       "    }\n",
       "\n",
       "    .dataframe tbody tr th {\n",
       "        vertical-align: top;\n",
       "    }\n",
       "\n",
       "    .dataframe thead th {\n",
       "        text-align: right;\n",
       "    }\n",
       "</style>\n",
       "<table border=\"1\" class=\"dataframe\">\n",
       "  <thead>\n",
       "    <tr style=\"text-align: right;\">\n",
       "      <th></th>\n",
       "      <th>part_number</th>\n",
       "      <th>neighbors</th>\n",
       "      <th>merged_part</th>\n",
       "    </tr>\n",
       "  </thead>\n",
       "  <tbody>\n",
       "    <tr>\n",
       "      <th>0</th>\n",
       "      <td>11</td>\n",
       "      <td>[17, 32, 33, 25]</td>\n",
       "      <td>[21, 23, 24, 22]</td>\n",
       "    </tr>\n",
       "    <tr>\n",
       "      <th>1</th>\n",
       "      <td>17</td>\n",
       "      <td>[11, 32]</td>\n",
       "      <td>[28, 31, 30, 39, 40, 29]</td>\n",
       "    </tr>\n",
       "    <tr>\n",
       "      <th>2</th>\n",
       "      <td>25</td>\n",
       "      <td>[11]</td>\n",
       "      <td>[46, 45, 38, 43]</td>\n",
       "    </tr>\n",
       "    <tr>\n",
       "      <th>3</th>\n",
       "      <td>32</td>\n",
       "      <td>[11, 17, 33]</td>\n",
       "      <td>[9, 34]</td>\n",
       "    </tr>\n",
       "    <tr>\n",
       "      <th>4</th>\n",
       "      <td>33</td>\n",
       "      <td>[32, 11]</td>\n",
       "      <td>[35, 42, 41]</td>\n",
       "    </tr>\n",
       "  </tbody>\n",
       "</table>\n",
       "</div>"
      ],
      "text/plain": [
       "   part_number         neighbors               merged_part\n",
       "0           11  [17, 32, 33, 25]          [21, 23, 24, 22]\n",
       "1           17          [11, 32]  [28, 31, 30, 39, 40, 29]\n",
       "2           25              [11]          [46, 45, 38, 43]\n",
       "3           32      [11, 17, 33]                   [9, 34]\n",
       "4           33          [32, 11]              [35, 42, 41]"
      ]
     },
     "execution_count": 11,
     "metadata": {},
     "output_type": "execute_result"
    }
   ],
   "source": [
    "# fifth element of the list:\n",
    "list_p[4]"
   ]
  },
  {
   "cell_type": "markdown",
   "id": "c09f14e5",
   "metadata": {},
   "source": [
    "*list_m_leaf* is a list of lists of dataframes. Each element of the main list has the same structure of *m* and corresponds to an element of *list_p*. Each dataframe stores the samples contained in the corresponding polytope."
   ]
  },
  {
   "cell_type": "code",
   "execution_count": 12,
   "id": "a46cc4a8",
   "metadata": {},
   "outputs": [
    {
     "data": {
      "text/plain": [
       "[[1, 0, 34, 2, 31, 33, 10, 28],\n",
       " [11, 18, 16, 24, 14, 12, 37, 6, 9, 26, 15, 30],\n",
       " [5, 23, 20, 29, 17, 22, 4, 7, 8, 35],\n",
       " [38, 13, 27, 39],\n",
       " [36, 19, 25, 32, 3, 21]]"
      ]
     },
     "execution_count": 12,
     "metadata": {},
     "output_type": "execute_result"
    }
   ],
   "source": [
    "list_m_leaf[4]"
   ]
  },
  {
   "cell_type": "markdown",
   "id": "dfaf0fdc",
   "metadata": {},
   "source": [
    "## VISUALIZATION OF THE RESULTS"
   ]
  },
  {
   "cell_type": "markdown",
   "id": "89453fe2",
   "metadata": {},
   "source": [
    "### PLOT OF THE FINAL SPACE PARTITIONS "
   ]
  },
  {
   "cell_type": "code",
   "execution_count": 8,
   "id": "2721f30f",
   "metadata": {},
   "outputs": [
    {
     "data": {
      "image/png": "[encoded data removed]",
      "text/plain": [
       "<Figure size 432x288 with 1 Axes>"
      ]
     },
     "metadata": {
      "needs_background": "light"
     },
     "output_type": "display_data"
    }
   ],
   "source": [
    "Plot.plot2D_partitioning(data,part)"
   ]
  },
  {
   "cell_type": "markdown",
   "id": "156706f6",
   "metadata": {},
   "source": [
    "### PLOT OF THE SPACE CLASSIFICATION FOR 2, 3 AND 6 NUMBER OF CLUSTERS"
   ]
  },
  {
   "cell_type": "code",
   "execution_count": 9,
   "id": "7ac355ce",
   "metadata": {},
   "outputs": [
    {
     "data": {
      "image/png": "[encoded data removed]",
      "text/plain": [
       "<Figure size 432x288 with 1 Axes>"
      ]
     },
     "metadata": {
      "needs_background": "light"
     },
     "output_type": "display_data"
    }
   ],
   "source": [
    "number_of_clusters = 2\n",
    "Plot.plot2D_merging(data,part,list_p,number_of_clusters)"
   ]
  },
  {
   "cell_type": "code",
   "execution_count": 10,
   "id": "52089b47",
   "metadata": {},
   "outputs": [
    {
     "data": {
      "image/png": "[encoded data removed]",
      "text/plain": [
       "<Figure size 432x288 with 1 Axes>"
      ]
     },
     "metadata": {
      "needs_background": "light"
     },
     "output_type": "display_data"
    }
   ],
   "source": [
    "number_of_clusters = 3\n",
    "Plot.plot2D_merging(data,part,list_p,number_of_clusters)"
   ]
  },
  {
   "cell_type": "code",
   "execution_count": 11,
   "id": "8b4bd131",
   "metadata": {},
   "outputs": [
    {
     "data": {
      "image/png": "[encoded data removed]",
      "text/plain": [
       "<Figure size 432x288 with 1 Axes>"
      ]
     },
     "metadata": {
      "needs_background": "light"
     },
     "output_type": "display_data"
    }
   ],
   "source": [
    "number_of_clusters = 6\n",
    "Plot.plot2D_merging(data,part,list_p,number_of_clusters)"
   ]
  },
  {
   "cell_type": "code",
   "execution_count": null,
   "id": "9e6e2744",
   "metadata": {},
   "outputs": [],
   "source": []
  },
  {
   "cell_type": "code",
   "execution_count": null,
   "id": "75ea9549",
   "metadata": {},
   "outputs": [],
   "source": []
  },
  {
   "cell_type": "code",
   "execution_count": null,
   "id": "7031693a",
   "metadata": {},
   "outputs": [],
   "source": [
    "import sys\n",
    "print(sys.getsizeof(df))"
   ]
  },
  {
   "cell_type": "code",
   "execution_count": 16,
   "id": "2f9a0b8a",
   "metadata": {},
   "outputs": [
    {
     "name": "stdout",
     "output_type": "stream",
     "text": [
      "0.1340065999999922\n"
     ]
    }
   ],
   "source": [
    "import time\n",
    "start = time.perf_counter()\n",
    "classified_data = class_assignment(list_m_leaf)\n",
    "end = time.perf_counter()\n",
    "print(end - start)"
   ]
  },
  {
   "cell_type": "code",
   "execution_count": 6,
   "id": "5beaec67",
   "metadata": {},
   "outputs": [],
   "source": [
    "Mondrian.save_tree('prova',part,m,list_p,list_m_leaf)"
   ]
  },
  {
   "cell_type": "code",
   "execution_count": 7,
   "id": "427c87fd",
   "metadata": {},
   "outputs": [],
   "source": [
    "part_read,m_read,list_p_read,list_m_leaf_read = Mondrian.read_tree('prova')"
   ]
  },
  {
   "cell_type": "code",
   "execution_count": 8,
   "id": "4a7911b0",
   "metadata": {},
   "outputs": [
    {
     "name": "stdout",
     "output_type": "stream",
     "text": [
      "total number of splits: 25\n",
      "range of possible number of clusters: 1-14\n"
     ]
    },
    {
     "ename": "TypeError",
     "evalue": "list indices must be integers or slices, not str",
     "output_type": "error",
     "traceback": [
      "\u001b[1;31m---------------------------------------------------------------------------\u001b[0m",
      "\u001b[1;31mTypeError\u001b[0m                                 Traceback (most recent call last)",
      "\u001b[1;32m<ipython-input-8-31a86cbefc82>\u001b[0m in \u001b[0;36m<module>\u001b[1;34m\u001b[0m\n\u001b[0;32m      5\u001b[0m \u001b[1;33m\u001b[0m\u001b[0m\n\u001b[0;32m      6\u001b[0m \u001b[0mpart\u001b[0m\u001b[1;33m,\u001b[0m\u001b[0mm\u001b[0m\u001b[1;33m,\u001b[0m\u001b[0mm_index\u001b[0m \u001b[1;33m=\u001b[0m \u001b[0mPartitioning\u001b[0m\u001b[1;33m.\u001b[0m\u001b[0mpartitioning\u001b[0m\u001b[1;33m(\u001b[0m\u001b[0mcut_ensemble\u001b[0m\u001b[1;33m,\u001b[0m\u001b[0mt0\u001b[0m\u001b[1;33m,\u001b[0m\u001b[0mlifetime\u001b[0m\u001b[1;33m,\u001b[0m\u001b[0mmetric\u001b[0m\u001b[1;33m,\u001b[0m\u001b[0mexp\u001b[0m\u001b[1;33m)\u001b[0m\u001b[1;33m\u001b[0m\u001b[1;33m\u001b[0m\u001b[0m\n\u001b[1;32m----> 7\u001b[1;33m \u001b[0mlist_p\u001b[0m\u001b[1;33m,\u001b[0m\u001b[0mlist_m_leaf_index\u001b[0m \u001b[1;33m=\u001b[0m \u001b[0mMerging\u001b[0m\u001b[1;33m.\u001b[0m\u001b[0mmerging\u001b[0m\u001b[1;33m(\u001b[0m\u001b[0mpart\u001b[0m\u001b[1;33m,\u001b[0m\u001b[0mm\u001b[0m\u001b[1;33m,\u001b[0m\u001b[0mmetric\u001b[0m\u001b[1;33m)\u001b[0m\u001b[1;33m\u001b[0m\u001b[1;33m\u001b[0m\u001b[0m\n\u001b[0m\u001b[0;32m      8\u001b[0m \u001b[0mlist_p\u001b[0m\u001b[1;33m.\u001b[0m\u001b[0mreverse\u001b[0m\u001b[1;33m(\u001b[0m\u001b[1;33m)\u001b[0m\u001b[1;33m\u001b[0m\u001b[1;33m\u001b[0m\u001b[0m\n\u001b[0;32m      9\u001b[0m \u001b[0mlist_m_leaf\u001b[0m\u001b[1;33m.\u001b[0m\u001b[0mreverse\u001b[0m\u001b[1;33m(\u001b[0m\u001b[1;33m)\u001b[0m\u001b[1;33m\u001b[0m\u001b[1;33m\u001b[0m\u001b[0m\n",
      "\u001b[1;32m~\\Desktop\\Fisica\\TESI\\tesi\\Merging.py\u001b[0m in \u001b[0;36mmerging\u001b[1;34m(part, m, metric)\u001b[0m\n\u001b[0;32m    357\u001b[0m         \u001b[0mlist_p\u001b[0m\u001b[1;33m.\u001b[0m\u001b[0mappend\u001b[0m\u001b[1;33m(\u001b[0m\u001b[0mp\u001b[0m\u001b[1;33m)\u001b[0m\u001b[1;33m\u001b[0m\u001b[1;33m\u001b[0m\u001b[0m\n\u001b[0;32m    358\u001b[0m         \u001b[0mlist_m_leaf\u001b[0m\u001b[1;33m.\u001b[0m\u001b[0mappend\u001b[0m\u001b[1;33m(\u001b[0m\u001b[0mm_leaf\u001b[0m\u001b[1;33m)\u001b[0m\u001b[1;33m\u001b[0m\u001b[1;33m\u001b[0m\u001b[0m\n\u001b[1;32m--> 359\u001b[1;33m         \u001b[0mlist_m_leaf_index\u001b[0m\u001b[1;33m.\u001b[0m\u001b[0mappend\u001b[0m\u001b[1;33m(\u001b[0m\u001b[0mm_leaf\u001b[0m\u001b[1;33m[\u001b[0m\u001b[1;34m'index'\u001b[0m\u001b[1;33m]\u001b[0m\u001b[1;33m.\u001b[0m\u001b[0mtolist\u001b[0m\u001b[1;33m(\u001b[0m\u001b[1;33m)\u001b[0m\u001b[1;33m)\u001b[0m\u001b[1;33m\u001b[0m\u001b[1;33m\u001b[0m\u001b[0m\n\u001b[0m\u001b[0;32m    360\u001b[0m \u001b[1;33m\u001b[0m\u001b[0m\n\u001b[0;32m    361\u001b[0m         \u001b[0ml\u001b[0m \u001b[1;33m=\u001b[0m \u001b[0mlen\u001b[0m\u001b[1;33m(\u001b[0m\u001b[0mp\u001b[0m\u001b[1;33m)\u001b[0m\u001b[1;33m-\u001b[0m\u001b[1;36m1\u001b[0m\u001b[1;33m\u001b[0m\u001b[1;33m\u001b[0m\u001b[0m\n",
      "\u001b[1;31mTypeError\u001b[0m: list indices must be integers or slices, not str"
     ]
    }
   ],
   "source": [
    "import Matrix\n",
    "import Partitioning\n",
    "import Merging\n",
    "\n",
    "cut_ensemble = Matrix.cut_ensemble(X)\n",
    "\n",
    "part,m,m_index = Partitioning.partitioning(cut_ensemble,t0,lifetime,metric,exp)\n",
    "list_p,list_m_leaf_index = Merging.merging(part,m,metric)\n",
    "list_p.reverse()\n",
    "list_m_leaf.reverse()"
   ]
  }
 ],
 "metadata": {
  "kernelspec": {
   "display_name": "Python 3",
   "language": "python",
   "name": "python3"
  },
  "language_info": {
   "codemirror_mode": {
    "name": "ipython",
    "version": 3
   },
   "file_extension": ".py",
   "mimetype": "text/x-python",
   "name": "python",
   "nbconvert_exporter": "python",
   "pygments_lexer": "ipython3",
   "version": "3.7.11"
  }
 },
 "nbformat": 4,
 "nbformat_minor": 5
}
