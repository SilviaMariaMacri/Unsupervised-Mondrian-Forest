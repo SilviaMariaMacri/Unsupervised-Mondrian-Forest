{
 "cells": [
  {
   "cell_type": "markdown",
   "id": "03f1c068",
   "metadata": {},
   "source": [
    "# MONDRIAN TREE: APPLICATION TO 2D MOONS DATASET"
   ]
  },
  {
   "cell_type": "code",
   "execution_count": 1,
   "id": "4b08a5a6",
   "metadata": {},
   "outputs": [
    {
     "name": "stdout",
     "output_type": "stream",
     "text": [
      "C:\\Users\\silvi\\Desktop\\Fisica\\TESI\\tesi\n"
     ]
    }
   ],
   "source": [
    "cd  \"C:\\Users\\silvi\\Desktop\\Fisica\\TESI\\tesi\""
   ]
  },
  {
   "cell_type": "code",
   "execution_count": 2,
   "id": "9a524cb8",
   "metadata": {},
   "outputs": [],
   "source": [
    "from sklearn import datasets\n",
    "import pandas as pd\n",
    "import pylab as plt\n",
    "\n",
    "import Mondrian\n",
    "import Plot"
   ]
  },
  {
   "cell_type": "markdown",
   "id": "fb2e2ec3",
   "metadata": {},
   "source": [
    "## moons dataset:"
   ]
  },
  {
   "cell_type": "code",
   "execution_count": 3,
   "id": "dc8f3a1c",
   "metadata": {},
   "outputs": [
    {
     "data": {
      "text/html": [
       "<div>\n",
       "<style scoped>\n",
       "    .dataframe tbody tr th:only-of-type {\n",
       "        vertical-align: middle;\n",
       "    }\n",
       "\n",
       "    .dataframe tbody tr th {\n",
       "        vertical-align: top;\n",
       "    }\n",
       "\n",
       "    .dataframe thead th {\n",
       "        text-align: right;\n",
       "    }\n",
       "</style>\n",
       "<table border=\"1\" class=\"dataframe\">\n",
       "  <thead>\n",
       "    <tr style=\"text-align: right;\">\n",
       "      <th></th>\n",
       "      <th>X1</th>\n",
       "      <th>X2</th>\n",
       "      <th>y</th>\n",
       "    </tr>\n",
       "  </thead>\n",
       "  <tbody>\n",
       "    <tr>\n",
       "      <th>0</th>\n",
       "      <td>0.033882</td>\n",
       "      <td>0.188623</td>\n",
       "      <td>1</td>\n",
       "    </tr>\n",
       "    <tr>\n",
       "      <th>1</th>\n",
       "      <td>-0.067786</td>\n",
       "      <td>0.494295</td>\n",
       "      <td>1</td>\n",
       "    </tr>\n",
       "    <tr>\n",
       "      <th>2</th>\n",
       "      <td>0.280507</td>\n",
       "      <td>-0.200442</td>\n",
       "      <td>1</td>\n",
       "    </tr>\n",
       "    <tr>\n",
       "      <th>3</th>\n",
       "      <td>0.769201</td>\n",
       "      <td>0.572853</td>\n",
       "      <td>0</td>\n",
       "    </tr>\n",
       "    <tr>\n",
       "      <th>4</th>\n",
       "      <td>-0.103367</td>\n",
       "      <td>0.970359</td>\n",
       "      <td>0</td>\n",
       "    </tr>\n",
       "  </tbody>\n",
       "</table>\n",
       "</div>"
      ],
      "text/plain": [
       "         X1        X2  y\n",
       "0  0.033882  0.188623  1\n",
       "1 -0.067786  0.494295  1\n",
       "2  0.280507 -0.200442  1\n",
       "3  0.769201  0.572853  0\n",
       "4 -0.103367  0.970359  0"
      ]
     },
     "execution_count": 3,
     "metadata": {},
     "output_type": "execute_result"
    }
   ],
   "source": [
    "moons = datasets.make_moons(n_samples=40,noise=0.05,random_state=0)\n",
    "X = moons[0] # data\n",
    "y = moons[1] # true labels\n",
    "\n",
    "df_moons = {'X1':X[:,0],'X2':X[:,1],'y':y}\n",
    "df_moons = pd.DataFrame(df_moons)\n",
    "df_moons.head()"
   ]
  },
  {
   "cell_type": "code",
   "execution_count": 4,
   "id": "1d771b19",
   "metadata": {
    "scrolled": true
   },
   "outputs": [
    {
     "data": {
      "text/plain": [
       "<matplotlib.collections.PathCollection at 0x25fa2953708>"
      ]
     },
     "execution_count": 4,
     "metadata": {},
     "output_type": "execute_result"
    },
    {
     "data": {
      "image/png": "[encoded data removed]",
      "text/plain": [
       "<Figure size 432x288 with 1 Axes>"
      ]
     },
     "metadata": {
      "needs_background": "light"
     },
     "output_type": "display_data"
    }
   ],
   "source": [
    "fig,ax = plt.subplots()\n",
    "ax.scatter(df_moons.query('y==0')['X1'],df_moons.query('y==0')['X2'])\n",
    "ax.scatter(df_moons.query('y==1')['X1'],df_moons.query('y==1')['X2'])"
   ]
  },
  {
   "cell_type": "code",
   "execution_count": 5,
   "id": "ceb312b9",
   "metadata": {},
   "outputs": [],
   "source": [
    "import Matrix\n",
    "data,cut_matrix,point_cut_distance = Matrix.cut_ensemble(X)"
   ]
  },
  {
   "cell_type": "markdown",
   "id": "a3a5bc24",
   "metadata": {},
   "source": [
    "*data* stores the indexed data. *cut_matrix* stores the indexed cutting hyperplane for each pair of samples. *point_cut_distance* stores the distances between hyperplanes and samples."
   ]
  },
  {
   "cell_type": "code",
   "execution_count": 7,
   "id": "56474f6b",
   "metadata": {},
   "outputs": [
    {
     "data": {
      "text/html": [
       "<div>\n",
       "<style scoped>\n",
       "    .dataframe tbody tr th:only-of-type {\n",
       "        vertical-align: middle;\n",
       "    }\n",
       "\n",
       "    .dataframe tbody tr th {\n",
       "        vertical-align: top;\n",
       "    }\n",
       "\n",
       "    .dataframe thead th {\n",
       "        text-align: right;\n",
       "    }\n",
       "</style>\n",
       "<table border=\"1\" class=\"dataframe\">\n",
       "  <thead>\n",
       "    <tr style=\"text-align: right;\">\n",
       "      <th></th>\n",
       "      <th>0</th>\n",
       "      <th>1</th>\n",
       "      <th>index</th>\n",
       "    </tr>\n",
       "  </thead>\n",
       "  <tbody>\n",
       "    <tr>\n",
       "      <th>0</th>\n",
       "      <td>0.033882</td>\n",
       "      <td>0.188623</td>\n",
       "      <td>0</td>\n",
       "    </tr>\n",
       "    <tr>\n",
       "      <th>1</th>\n",
       "      <td>-0.067786</td>\n",
       "      <td>0.494295</td>\n",
       "      <td>1</td>\n",
       "    </tr>\n",
       "    <tr>\n",
       "      <th>2</th>\n",
       "      <td>0.280507</td>\n",
       "      <td>-0.200442</td>\n",
       "      <td>2</td>\n",
       "    </tr>\n",
       "    <tr>\n",
       "      <th>3</th>\n",
       "      <td>0.769201</td>\n",
       "      <td>0.572853</td>\n",
       "      <td>3</td>\n",
       "    </tr>\n",
       "    <tr>\n",
       "      <th>4</th>\n",
       "      <td>-0.103367</td>\n",
       "      <td>0.970359</td>\n",
       "      <td>4</td>\n",
       "    </tr>\n",
       "  </tbody>\n",
       "</table>\n",
       "</div>"
      ],
      "text/plain": [
       "          0         1  index\n",
       "0  0.033882  0.188623      0\n",
       "1 -0.067786  0.494295      1\n",
       "2  0.280507 -0.200442      2\n",
       "3  0.769201  0.572853      3\n",
       "4 -0.103367  0.970359      4"
      ]
     },
     "execution_count": 7,
     "metadata": {},
     "output_type": "execute_result"
    }
   ],
   "source": [
    "data.head()"
   ]
  },
  {
   "cell_type": "code",
   "execution_count": 8,
   "id": "601611f6",
   "metadata": {},
   "outputs": [
    {
     "name": "stdout",
     "output_type": "stream",
     "text": [
      "number of hyperplanes:  780\n"
     ]
    },
    {
     "data": {
      "text/html": [
       "<div>\n",
       "<style scoped>\n",
       "    .dataframe tbody tr th:only-of-type {\n",
       "        vertical-align: middle;\n",
       "    }\n",
       "\n",
       "    .dataframe tbody tr th {\n",
       "        vertical-align: top;\n",
       "    }\n",
       "\n",
       "    .dataframe thead th {\n",
       "        text-align: right;\n",
       "    }\n",
       "</style>\n",
       "<table border=\"1\" class=\"dataframe\">\n",
       "  <thead>\n",
       "    <tr style=\"text-align: right;\">\n",
       "      <th></th>\n",
       "      <th>index1</th>\n",
       "      <th>index2</th>\n",
       "      <th>cut_index</th>\n",
       "      <th>magnitude_norm_vect</th>\n",
       "      <th>norm_vect_0</th>\n",
       "      <th>norm_vect_1</th>\n",
       "      <th>equivalent_cut_index</th>\n",
       "    </tr>\n",
       "  </thead>\n",
       "  <tbody>\n",
       "    <tr>\n",
       "      <th>0</th>\n",
       "      <td>1</td>\n",
       "      <td>0</td>\n",
       "      <td>0</td>\n",
       "      <td>0.329357</td>\n",
       "      <td>-0.315603</td>\n",
       "      <td>0.948891</td>\n",
       "      <td>0</td>\n",
       "    </tr>\n",
       "    <tr>\n",
       "      <th>1</th>\n",
       "      <td>2</td>\n",
       "      <td>0</td>\n",
       "      <td>1</td>\n",
       "      <td>0.089151</td>\n",
       "      <td>0.535389</td>\n",
       "      <td>-0.844605</td>\n",
       "      <td>1</td>\n",
       "    </tr>\n",
       "    <tr>\n",
       "      <th>2</th>\n",
       "      <td>2</td>\n",
       "      <td>1</td>\n",
       "      <td>2</td>\n",
       "      <td>-0.083678</td>\n",
       "      <td>0.448165</td>\n",
       "      <td>-0.893951</td>\n",
       "      <td>2</td>\n",
       "    </tr>\n",
       "    <tr>\n",
       "      <th>3</th>\n",
       "      <td>3</td>\n",
       "      <td>0</td>\n",
       "      <td>3</td>\n",
       "      <td>0.532212</td>\n",
       "      <td>0.886295</td>\n",
       "      <td>0.463120</td>\n",
       "      <td>3</td>\n",
       "    </tr>\n",
       "    <tr>\n",
       "      <th>4</th>\n",
       "      <td>3</td>\n",
       "      <td>1</td>\n",
       "      <td>4</td>\n",
       "      <td>0.399034</td>\n",
       "      <td>0.995624</td>\n",
       "      <td>0.093447</td>\n",
       "      <td>4</td>\n",
       "    </tr>\n",
       "    <tr>\n",
       "      <th>...</th>\n",
       "      <td>...</td>\n",
       "      <td>...</td>\n",
       "      <td>...</td>\n",
       "      <td>...</td>\n",
       "      <td>...</td>\n",
       "      <td>...</td>\n",
       "      <td>...</td>\n",
       "    </tr>\n",
       "    <tr>\n",
       "      <th>775</th>\n",
       "      <td>39</td>\n",
       "      <td>34</td>\n",
       "      <td>775</td>\n",
       "      <td>0.300261</td>\n",
       "      <td>0.867041</td>\n",
       "      <td>-0.498237</td>\n",
       "      <td>119</td>\n",
       "    </tr>\n",
       "    <tr>\n",
       "      <th>776</th>\n",
       "      <td>39</td>\n",
       "      <td>35</td>\n",
       "      <td>776</td>\n",
       "      <td>-0.087271</td>\n",
       "      <td>0.997277</td>\n",
       "      <td>-0.073743</td>\n",
       "      <td>52</td>\n",
       "    </tr>\n",
       "    <tr>\n",
       "      <th>777</th>\n",
       "      <td>39</td>\n",
       "      <td>36</td>\n",
       "      <td>777</td>\n",
       "      <td>-0.126221</td>\n",
       "      <td>0.524599</td>\n",
       "      <td>-0.851349</td>\n",
       "      <td>79</td>\n",
       "    </tr>\n",
       "    <tr>\n",
       "      <th>778</th>\n",
       "      <td>39</td>\n",
       "      <td>37</td>\n",
       "      <td>778</td>\n",
       "      <td>-1.326210</td>\n",
       "      <td>-0.917226</td>\n",
       "      <td>-0.398368</td>\n",
       "      <td>46</td>\n",
       "    </tr>\n",
       "    <tr>\n",
       "      <th>779</th>\n",
       "      <td>39</td>\n",
       "      <td>38</td>\n",
       "      <td>779</td>\n",
       "      <td>-0.295441</td>\n",
       "      <td>-0.159241</td>\n",
       "      <td>-0.987240</td>\n",
       "      <td>204</td>\n",
       "    </tr>\n",
       "  </tbody>\n",
       "</table>\n",
       "<p>780 rows × 7 columns</p>\n",
       "</div>"
      ],
      "text/plain": [
       "     index1  index2  cut_index  magnitude_norm_vect  norm_vect_0  norm_vect_1  \\\n",
       "0         1       0          0             0.329357    -0.315603     0.948891   \n",
       "1         2       0          1             0.089151     0.535389    -0.844605   \n",
       "2         2       1          2            -0.083678     0.448165    -0.893951   \n",
       "3         3       0          3             0.532212     0.886295     0.463120   \n",
       "4         3       1          4             0.399034     0.995624     0.093447   \n",
       "..      ...     ...        ...                  ...          ...          ...   \n",
       "775      39      34        775             0.300261     0.867041    -0.498237   \n",
       "776      39      35        776            -0.087271     0.997277    -0.073743   \n",
       "777      39      36        777            -0.126221     0.524599    -0.851349   \n",
       "778      39      37        778            -1.326210    -0.917226    -0.398368   \n",
       "779      39      38        779            -0.295441    -0.159241    -0.987240   \n",
       "\n",
       "     equivalent_cut_index  \n",
       "0                       0  \n",
       "1                       1  \n",
       "2                       2  \n",
       "3                       3  \n",
       "4                       4  \n",
       "..                    ...  \n",
       "775                   119  \n",
       "776                    52  \n",
       "777                    79  \n",
       "778                    46  \n",
       "779                   204  \n",
       "\n",
       "[780 rows x 7 columns]"
      ]
     },
     "execution_count": 8,
     "metadata": {},
     "output_type": "execute_result"
    }
   ],
   "source": [
    "print('number of hyperplanes: ',len(cut_matrix))\n",
    "cut_matrix#.head()"
   ]
  },
  {
   "cell_type": "code",
   "execution_count": 9,
   "id": "8b53d46f",
   "metadata": {},
   "outputs": [
    {
     "name": "stdout",
     "output_type": "stream",
     "text": [
      "number of rows = number of samples =  40\n",
      "number of columns = number of hyperplanes + 1 =  781\n"
     ]
    },
    {
     "data": {
      "text/html": [
       "<div>\n",
       "<style scoped>\n",
       "    .dataframe tbody tr th:only-of-type {\n",
       "        vertical-align: middle;\n",
       "    }\n",
       "\n",
       "    .dataframe tbody tr th {\n",
       "        vertical-align: top;\n",
       "    }\n",
       "\n",
       "    .dataframe thead th {\n",
       "        text-align: right;\n",
       "    }\n",
       "</style>\n",
       "<table border=\"1\" class=\"dataframe\">\n",
       "  <thead>\n",
       "    <tr style=\"text-align: right;\">\n",
       "      <th></th>\n",
       "      <th>cut_index_0</th>\n",
       "      <th>cut_index_1</th>\n",
       "      <th>cut_index_2</th>\n",
       "      <th>cut_index_3</th>\n",
       "      <th>cut_index_4</th>\n",
       "      <th>cut_index_5</th>\n",
       "      <th>cut_index_6</th>\n",
       "      <th>cut_index_7</th>\n",
       "      <th>cut_index_8</th>\n",
       "      <th>cut_index_9</th>\n",
       "      <th>...</th>\n",
       "      <th>cut_index_771</th>\n",
       "      <th>cut_index_772</th>\n",
       "      <th>cut_index_773</th>\n",
       "      <th>cut_index_774</th>\n",
       "      <th>cut_index_775</th>\n",
       "      <th>cut_index_776</th>\n",
       "      <th>cut_index_777</th>\n",
       "      <th>cut_index_778</th>\n",
       "      <th>cut_index_779</th>\n",
       "      <th>point_index</th>\n",
       "    </tr>\n",
       "  </thead>\n",
       "  <tbody>\n",
       "    <tr>\n",
       "      <th>0</th>\n",
       "      <td>-0.161068</td>\n",
       "      <td>-0.230323</td>\n",
       "      <td>-0.069757</td>\n",
       "      <td>-0.414828</td>\n",
       "      <td>-0.347675</td>\n",
       "      <td>-0.260247</td>\n",
       "      <td>-0.396846</td>\n",
       "      <td>-0.551095</td>\n",
       "      <td>-0.169525</td>\n",
       "      <td>0.030443</td>\n",
       "      <td>...</td>\n",
       "      <td>1.122848</td>\n",
       "      <td>-0.520687</td>\n",
       "      <td>-0.025649</td>\n",
       "      <td>-0.483868</td>\n",
       "      <td>-0.364863</td>\n",
       "      <td>0.107151</td>\n",
       "      <td>-0.016588</td>\n",
       "      <td>1.219991</td>\n",
       "      <td>0.103830</td>\n",
       "      <td>0</td>\n",
       "    </tr>\n",
       "    <tr>\n",
       "      <th>1</th>\n",
       "      <td>0.161068</td>\n",
       "      <td>-0.542927</td>\n",
       "      <td>-0.388577</td>\n",
       "      <td>-0.363372</td>\n",
       "      <td>-0.420333</td>\n",
       "      <td>-0.056162</td>\n",
       "      <td>-0.078199</td>\n",
       "      <td>-0.238696</td>\n",
       "      <td>0.152608</td>\n",
       "      <td>0.249683</td>\n",
       "      <td>...</td>\n",
       "      <td>1.400112</td>\n",
       "      <td>-0.611150</td>\n",
       "      <td>-0.347678</td>\n",
       "      <td>-0.665043</td>\n",
       "      <td>-0.605310</td>\n",
       "      <td>-0.016781</td>\n",
       "      <td>-0.330157</td>\n",
       "      <td>1.191473</td>\n",
       "      <td>-0.181752</td>\n",
       "      <td>1</td>\n",
       "    </tr>\n",
       "    <tr>\n",
       "      <th>2</th>\n",
       "      <td>-0.608084</td>\n",
       "      <td>0.230323</td>\n",
       "      <td>0.388577</td>\n",
       "      <td>-0.376428</td>\n",
       "      <td>-0.138486</td>\n",
       "      <td>-0.457386</td>\n",
       "      <td>-0.822697</td>\n",
       "      <td>-0.957459</td>\n",
       "      <td>-0.616063</td>\n",
       "      <td>-0.355285</td>\n",
       "      <td>...</td>\n",
       "      <td>0.681472</td>\n",
       "      <td>-0.288400</td>\n",
       "      <td>0.418348</td>\n",
       "      <td>-0.140486</td>\n",
       "      <td>0.042818</td>\n",
       "      <td>0.381796</td>\n",
       "      <td>0.444021</td>\n",
       "      <td>1.148771</td>\n",
       "      <td>0.448657</td>\n",
       "      <td>2</td>\n",
       "    </tr>\n",
       "    <tr>\n",
       "      <th>3</th>\n",
       "      <td>-0.028545</td>\n",
       "      <td>-0.161164</td>\n",
       "      <td>-0.083696</td>\n",
       "      <td>0.414828</td>\n",
       "      <td>0.420333</td>\n",
       "      <td>0.457386</td>\n",
       "      <td>-0.145559</td>\n",
       "      <td>-0.222739</td>\n",
       "      <td>-0.033511</td>\n",
       "      <td>-0.479423</td>\n",
       "      <td>...</td>\n",
       "      <td>0.819951</td>\n",
       "      <td>0.228144</td>\n",
       "      <td>-0.179258</td>\n",
       "      <td>0.118793</td>\n",
       "      <td>0.081251</td>\n",
       "      <td>0.812134</td>\n",
       "      <td>0.042046</td>\n",
       "      <td>0.392472</td>\n",
       "      <td>-0.392590</td>\n",
       "      <td>3</td>\n",
       "    </tr>\n",
       "    <tr>\n",
       "      <th>4</th>\n",
       "      <td>0.624030</td>\n",
       "      <td>-0.964063</td>\n",
       "      <td>-0.830101</td>\n",
       "      <td>-0.174432</td>\n",
       "      <td>-0.411271</td>\n",
       "      <td>0.327266</td>\n",
       "      <td>0.396846</td>\n",
       "      <td>0.238696</td>\n",
       "      <td>0.616063</td>\n",
       "      <td>0.479423</td>\n",
       "      <td>...</td>\n",
       "      <td>1.739282</td>\n",
       "      <td>-0.629362</td>\n",
       "      <td>-0.813492</td>\n",
       "      <td>-0.829106</td>\n",
       "      <td>-0.873353</td>\n",
       "      <td>-0.087371</td>\n",
       "      <td>-0.754119</td>\n",
       "      <td>1.034460</td>\n",
       "      <td>-0.646075</td>\n",
       "      <td>4</td>\n",
       "    </tr>\n",
       "  </tbody>\n",
       "</table>\n",
       "<p>5 rows × 781 columns</p>\n",
       "</div>"
      ],
      "text/plain": [
       "   cut_index_0  cut_index_1  cut_index_2  cut_index_3  cut_index_4  \\\n",
       "0    -0.161068    -0.230323    -0.069757    -0.414828    -0.347675   \n",
       "1     0.161068    -0.542927    -0.388577    -0.363372    -0.420333   \n",
       "2    -0.608084     0.230323     0.388577    -0.376428    -0.138486   \n",
       "3    -0.028545    -0.161164    -0.083696     0.414828     0.420333   \n",
       "4     0.624030    -0.964063    -0.830101    -0.174432    -0.411271   \n",
       "\n",
       "   cut_index_5  cut_index_6  cut_index_7  cut_index_8  cut_index_9  ...  \\\n",
       "0    -0.260247    -0.396846    -0.551095    -0.169525     0.030443  ...   \n",
       "1    -0.056162    -0.078199    -0.238696     0.152608     0.249683  ...   \n",
       "2    -0.457386    -0.822697    -0.957459    -0.616063    -0.355285  ...   \n",
       "3     0.457386    -0.145559    -0.222739    -0.033511    -0.479423  ...   \n",
       "4     0.327266     0.396846     0.238696     0.616063     0.479423  ...   \n",
       "\n",
       "   cut_index_771  cut_index_772  cut_index_773  cut_index_774  cut_index_775  \\\n",
       "0       1.122848      -0.520687      -0.025649      -0.483868      -0.364863   \n",
       "1       1.400112      -0.611150      -0.347678      -0.665043      -0.605310   \n",
       "2       0.681472      -0.288400       0.418348      -0.140486       0.042818   \n",
       "3       0.819951       0.228144      -0.179258       0.118793       0.081251   \n",
       "4       1.739282      -0.629362      -0.813492      -0.829106      -0.873353   \n",
       "\n",
       "   cut_index_776  cut_index_777  cut_index_778  cut_index_779  point_index  \n",
       "0       0.107151      -0.016588       1.219991       0.103830            0  \n",
       "1      -0.016781      -0.330157       1.191473      -0.181752            1  \n",
       "2       0.381796       0.444021       1.148771       0.448657            2  \n",
       "3       0.812134       0.042046       0.392472      -0.392590            3  \n",
       "4      -0.087371      -0.754119       1.034460      -0.646075            4  \n",
       "\n",
       "[5 rows x 781 columns]"
      ]
     },
     "execution_count": 9,
     "metadata": {},
     "output_type": "execute_result"
    }
   ],
   "source": [
    "print('number of rows = number of samples = ',len(point_cut_distance))\n",
    "print('number of columns = number of hyperplanes + 1 = ',len(point_cut_distance.columns))\n",
    "point_cut_distance.head()"
   ]
  },
  {
   "cell_type": "markdown",
   "id": "124a1812",
   "metadata": {},
   "source": [
    "## MONDRIAN CLUSTERING TREE"
   ]
  },
  {
   "cell_type": "code",
   "execution_count": 6,
   "id": "aed4a613",
   "metadata": {},
   "outputs": [],
   "source": [
    "# parameter setting\n",
    "t0 = 0\n",
    "lifetime = 10\n",
    "exp = 5\n",
    "metric = 'min_corr'  # 'variance','centroid_diff','centroid_ratio','min'"
   ]
  },
  {
   "cell_type": "code",
   "execution_count": 7,
   "id": "c6cc612a",
   "metadata": {
    "scrolled": true
   },
   "outputs": [
    {
     "name": "stdout",
     "output_type": "stream",
     "text": [
      "PARTITIONING:\n",
      "total number of splits: 23\n",
      "MERGING:\n",
      "range of possible number of clusters: 1-17\n"
     ]
    }
   ],
   "source": [
    "data,part,m,list_p,classified_data = Mondrian.mondrian_tree(X,t0,lifetime,exp,metric)"
   ]
  },
  {
   "cell_type": "code",
   "execution_count": 9,
   "id": "2c728d13",
   "metadata": {},
   "outputs": [],
   "source": [
    "#namefile = 'example/prova'\n",
    "#Mondrian.save_tree(namefile,data,part,m,list_p,list_m_leaf)"
   ]
  },
  {
   "cell_type": "code",
   "execution_count": 10,
   "id": "44eaffb4",
   "metadata": {},
   "outputs": [],
   "source": [
    "#data_read,part_read,m_read,list_p_read,list_m_leaf_read = Mondrian.read_tree(namefile)"
   ]
  },
  {
   "cell_type": "markdown",
   "id": "092270e1",
   "metadata": {},
   "source": [
    "### OUTCOME OF THE PARTITIONING PHASE:"
   ]
  },
  {
   "cell_type": "markdown",
   "id": "5a8e3dd3",
   "metadata": {},
   "source": [
    "*part* is a dataframe. Each row corresponds to a polytope that has been created during the hierarchical splitting. Each polytope is associated to its creation time, its characterization number, the characterization number of the father, the boolean information of being a leaf, the polytope object created by the Polytope package."
   ]
  },
  {
   "cell_type": "code",
   "execution_count": 8,
   "id": "d7985049",
   "metadata": {},
   "outputs": [
    {
     "name": "stdout",
     "output_type": "stream",
     "text": [
      "total number of polytopes:  47\n"
     ]
    },
    {
     "data": {
      "text/html": [
       "<div>\n",
       "<style scoped>\n",
       "    .dataframe tbody tr th:only-of-type {\n",
       "        vertical-align: middle;\n",
       "    }\n",
       "\n",
       "    .dataframe tbody tr th {\n",
       "        vertical-align: top;\n",
       "    }\n",
       "\n",
       "    .dataframe thead th {\n",
       "        text-align: right;\n",
       "    }\n",
       "</style>\n",
       "<table border=\"1\" class=\"dataframe\">\n",
       "  <thead>\n",
       "    <tr style=\"text-align: right;\">\n",
       "      <th></th>\n",
       "      <th>time</th>\n",
       "      <th>father</th>\n",
       "      <th>part_number</th>\n",
       "      <th>leaf</th>\n",
       "      <th>polytope</th>\n",
       "    </tr>\n",
       "  </thead>\n",
       "  <tbody>\n",
       "    <tr>\n",
       "      <th>0</th>\n",
       "      <td>0.000000</td>\n",
       "      <td>nan</td>\n",
       "      <td>0</td>\n",
       "      <td>False</td>\n",
       "      <td>Single polytope \\n  [[ 1.  0.] |    [[2.16184]...</td>\n",
       "    </tr>\n",
       "    <tr>\n",
       "      <th>1</th>\n",
       "      <td>0.018235</td>\n",
       "      <td>0</td>\n",
       "      <td>1</td>\n",
       "      <td>False</td>\n",
       "      <td>Single polytope \\n  [[-1.       0.     ] |    ...</td>\n",
       "    </tr>\n",
       "    <tr>\n",
       "      <th>2</th>\n",
       "      <td>0.018235</td>\n",
       "      <td>0</td>\n",
       "      <td>2</td>\n",
       "      <td>False</td>\n",
       "      <td>Single polytope \\n  [[ 1.       0.     ] |    ...</td>\n",
       "    </tr>\n",
       "    <tr>\n",
       "      <th>3</th>\n",
       "      <td>0.018399</td>\n",
       "      <td>1</td>\n",
       "      <td>3</td>\n",
       "      <td>False</td>\n",
       "      <td>Single polytope \\n  [[-1.       0.     ] |    ...</td>\n",
       "    </tr>\n",
       "    <tr>\n",
       "      <th>4</th>\n",
       "      <td>0.018399</td>\n",
       "      <td>1</td>\n",
       "      <td>4</td>\n",
       "      <td>False</td>\n",
       "      <td>Single polytope \\n  [[ 0.       1.     ] |    ...</td>\n",
       "    </tr>\n",
       "  </tbody>\n",
       "</table>\n",
       "</div>"
      ],
      "text/plain": [
       "       time father  part_number   leaf  \\\n",
       "0  0.000000    nan            0  False   \n",
       "1  0.018235      0            1  False   \n",
       "2  0.018235      0            2  False   \n",
       "3  0.018399      1            3  False   \n",
       "4  0.018399      1            4  False   \n",
       "\n",
       "                                            polytope  \n",
       "0  Single polytope \\n  [[ 1.  0.] |    [[2.16184]...  \n",
       "1  Single polytope \\n  [[-1.       0.     ] |    ...  \n",
       "2  Single polytope \\n  [[ 1.       0.     ] |    ...  \n",
       "3  Single polytope \\n  [[-1.       0.     ] |    ...  \n",
       "4  Single polytope \\n  [[ 0.       1.     ] |    ...  "
      ]
     },
     "execution_count": 8,
     "metadata": {},
     "output_type": "execute_result"
    }
   ],
   "source": [
    "print('total number of polytopes: ',len(part))\n",
    "part.head()"
   ]
  },
  {
   "cell_type": "markdown",
   "id": "4ec816e0",
   "metadata": {},
   "source": [
    "*m* is a list of lists. Each sublist corresponds to a polytope of the *part* dataframe and stores the indexes of the samples contained in it."
   ]
  },
  {
   "cell_type": "code",
   "execution_count": 9,
   "id": "c83f4414",
   "metadata": {},
   "outputs": [
    {
     "name": "stdout",
     "output_type": "stream",
     "text": [
      "number of elements of the list:  47\n"
     ]
    },
    {
     "data": {
      "text/plain": [
       "[[0,\n",
       "  1,\n",
       "  2,\n",
       "  3,\n",
       "  4,\n",
       "  5,\n",
       "  6,\n",
       "  7,\n",
       "  8,\n",
       "  9,\n",
       "  10,\n",
       "  11,\n",
       "  12,\n",
       "  13,\n",
       "  14,\n",
       "  15,\n",
       "  16,\n",
       "  17,\n",
       "  18,\n",
       "  19,\n",
       "  20,\n",
       "  21,\n",
       "  22,\n",
       "  23,\n",
       "  24,\n",
       "  25,\n",
       "  26,\n",
       "  27,\n",
       "  28,\n",
       "  29,\n",
       "  30,\n",
       "  31,\n",
       "  32,\n",
       "  33,\n",
       "  34,\n",
       "  35,\n",
       "  36,\n",
       "  37,\n",
       "  38,\n",
       "  39],\n",
       " [0, 1, 3, 4, 5, 7, 8, 17, 19, 20, 21, 22, 23, 25, 29, 32, 33, 34, 35, 36],\n",
       " [2, 6, 9, 10, 11, 12, 13, 14, 15, 16, 18, 24, 26, 27, 28, 30, 31, 37, 38, 39],\n",
       " [5, 8, 17, 20, 22, 23, 29, 35],\n",
       " [0, 1, 3, 4, 7, 19, 21, 25, 32, 33, 34, 36],\n",
       " [11, 12, 14, 16, 18, 24, 26, 30, 37],\n",
       " [2, 6, 9, 10, 13, 15, 27, 28, 31, 38, 39],\n",
       " [5, 20, 23, 29],\n",
       " [8, 17, 22, 35],\n",
       " [0, 1, 33, 34],\n",
       " [3, 4, 7, 19, 21, 25, 32, 36],\n",
       " [11, 12, 14, 16, 18, 37],\n",
       " [24, 26, 30],\n",
       " [2, 6, 10, 28, 31],\n",
       " [9, 13, 15, 27, 38, 39],\n",
       " [20, 29],\n",
       " [5, 23],\n",
       " [17, 22],\n",
       " [8, 35],\n",
       " [0, 33],\n",
       " [1, 34],\n",
       " [3, 19, 21, 25, 32],\n",
       " [4, 7, 36],\n",
       " [11, 16],\n",
       " [12, 14, 18, 37],\n",
       " [24],\n",
       " [26, 30],\n",
       " [2, 6, 10, 28],\n",
       " [31],\n",
       " [9, 15, 39],\n",
       " [13, 27, 38],\n",
       " [19, 25],\n",
       " [3, 21, 32],\n",
       " [4, 7],\n",
       " [36],\n",
       " [12, 14, 37],\n",
       " [18],\n",
       " [6, 10],\n",
       " [2, 28],\n",
       " [9, 15],\n",
       " [39],\n",
       " [13, 38],\n",
       " [27],\n",
       " [3, 21],\n",
       " [32],\n",
       " [12, 37],\n",
       " [14]]"
      ]
     },
     "execution_count": 9,
     "metadata": {},
     "output_type": "execute_result"
    }
   ],
   "source": [
    "print('number of elements of the list: ',len(m))\n",
    "m"
   ]
  },
  {
   "cell_type": "markdown",
   "id": "2f37f934",
   "metadata": {},
   "source": [
    "### OUTCOME OF THE MERGING PHASE: "
   ]
  },
  {
   "cell_type": "markdown",
   "id": "2a8817f2",
   "metadata": {},
   "source": [
    "*list_p* is a list of dataframes. Each dataframe describes a configuration of the space division during the merging procedure. Each row corresponds to a polytope and stores the information about the neighboring polytopes and the subspaces that have been merged in order to obtain that configuration. The number of clusters is equal to the number of polytopes/rows.\n",
    "The last element of the list describes the initial condition after the connection of the single data subspaces with the nearest ones. The first element describes the final condition, in which all the subspaces are merged and all the samples belongs to the same class."
   ]
  },
  {
   "cell_type": "code",
   "execution_count": 10,
   "id": "35d1f2a2",
   "metadata": {},
   "outputs": [
    {
     "data": {
      "text/html": [
       "<div>\n",
       "<style scoped>\n",
       "    .dataframe tbody tr th:only-of-type {\n",
       "        vertical-align: middle;\n",
       "    }\n",
       "\n",
       "    .dataframe tbody tr th {\n",
       "        vertical-align: top;\n",
       "    }\n",
       "\n",
       "    .dataframe thead th {\n",
       "        text-align: right;\n",
       "    }\n",
       "</style>\n",
       "<table border=\"1\" class=\"dataframe\">\n",
       "  <thead>\n",
       "    <tr style=\"text-align: right;\">\n",
       "      <th></th>\n",
       "      <th>part_number</th>\n",
       "      <th>neighbors</th>\n",
       "      <th>merged_part</th>\n",
       "    </tr>\n",
       "  </thead>\n",
       "  <tbody>\n",
       "    <tr>\n",
       "      <th>0</th>\n",
       "      <td>15</td>\n",
       "      <td>[16, 17, 19, 20, 33]</td>\n",
       "      <td>[]</td>\n",
       "    </tr>\n",
       "    <tr>\n",
       "      <th>1</th>\n",
       "      <td>16</td>\n",
       "      <td>[15, 17]</td>\n",
       "      <td>[]</td>\n",
       "    </tr>\n",
       "    <tr>\n",
       "      <th>2</th>\n",
       "      <td>17</td>\n",
       "      <td>[15, 16, 18, 19, 38]</td>\n",
       "      <td>[]</td>\n",
       "    </tr>\n",
       "    <tr>\n",
       "      <th>3</th>\n",
       "      <td>18</td>\n",
       "      <td>[17, 38]</td>\n",
       "      <td>[]</td>\n",
       "    </tr>\n",
       "    <tr>\n",
       "      <th>4</th>\n",
       "      <td>19</td>\n",
       "      <td>[15, 17, 20, 41, 43, 38]</td>\n",
       "      <td>[]</td>\n",
       "    </tr>\n",
       "    <tr>\n",
       "      <th>5</th>\n",
       "      <td>20</td>\n",
       "      <td>[15, 19, 31, 33, 43]</td>\n",
       "      <td>[]</td>\n",
       "    </tr>\n",
       "    <tr>\n",
       "      <th>6</th>\n",
       "      <td>23</td>\n",
       "      <td>[42, 26, 39, 45]</td>\n",
       "      <td>[25, 36]</td>\n",
       "    </tr>\n",
       "    <tr>\n",
       "      <th>7</th>\n",
       "      <td>26</td>\n",
       "      <td>[37, 39, 23]</td>\n",
       "      <td>[]</td>\n",
       "    </tr>\n",
       "    <tr>\n",
       "      <th>8</th>\n",
       "      <td>31</td>\n",
       "      <td>[20, 33, 43]</td>\n",
       "      <td>[34]</td>\n",
       "    </tr>\n",
       "    <tr>\n",
       "      <th>9</th>\n",
       "      <td>33</td>\n",
       "      <td>[15, 20, 31]</td>\n",
       "      <td>[]</td>\n",
       "    </tr>\n",
       "    <tr>\n",
       "      <th>10</th>\n",
       "      <td>37</td>\n",
       "      <td>[26, 38, 39, 42]</td>\n",
       "      <td>[]</td>\n",
       "    </tr>\n",
       "    <tr>\n",
       "      <th>11</th>\n",
       "      <td>38</td>\n",
       "      <td>[18, 37, 17, 19, 41, 42]</td>\n",
       "      <td>[28]</td>\n",
       "    </tr>\n",
       "    <tr>\n",
       "      <th>12</th>\n",
       "      <td>39</td>\n",
       "      <td>[26, 37, 23, 42]</td>\n",
       "      <td>[]</td>\n",
       "    </tr>\n",
       "    <tr>\n",
       "      <th>13</th>\n",
       "      <td>41</td>\n",
       "      <td>[19, 42, 43, 38, 45]</td>\n",
       "      <td>[]</td>\n",
       "    </tr>\n",
       "    <tr>\n",
       "      <th>14</th>\n",
       "      <td>42</td>\n",
       "      <td>[23, 41, 37, 38, 39, 45]</td>\n",
       "      <td>[40]</td>\n",
       "    </tr>\n",
       "    <tr>\n",
       "      <th>15</th>\n",
       "      <td>43</td>\n",
       "      <td>[19, 20, 41, 31]</td>\n",
       "      <td>[44]</td>\n",
       "    </tr>\n",
       "    <tr>\n",
       "      <th>16</th>\n",
       "      <td>45</td>\n",
       "      <td>[23, 41, 42]</td>\n",
       "      <td>[46]</td>\n",
       "    </tr>\n",
       "  </tbody>\n",
       "</table>\n",
       "</div>"
      ],
      "text/plain": [
       "    part_number                 neighbors merged_part\n",
       "0            15      [16, 17, 19, 20, 33]          []\n",
       "1            16                  [15, 17]          []\n",
       "2            17      [15, 16, 18, 19, 38]          []\n",
       "3            18                  [17, 38]          []\n",
       "4            19  [15, 17, 20, 41, 43, 38]          []\n",
       "5            20      [15, 19, 31, 33, 43]          []\n",
       "6            23          [42, 26, 39, 45]    [25, 36]\n",
       "7            26              [37, 39, 23]          []\n",
       "8            31              [20, 33, 43]        [34]\n",
       "9            33              [15, 20, 31]          []\n",
       "10           37          [26, 38, 39, 42]          []\n",
       "11           38  [18, 37, 17, 19, 41, 42]        [28]\n",
       "12           39          [26, 37, 23, 42]          []\n",
       "13           41      [19, 42, 43, 38, 45]          []\n",
       "14           42  [23, 41, 37, 38, 39, 45]        [40]\n",
       "15           43          [19, 20, 41, 31]        [44]\n",
       "16           45              [23, 41, 42]        [46]"
      ]
     },
     "execution_count": 10,
     "metadata": {},
     "output_type": "execute_result"
    }
   ],
   "source": [
    "#last element of the list: the subspaces number 16, 25, 34 and 36 contain single samples and are already merged\n",
    "list_p[-1]"
   ]
  },
  {
   "cell_type": "code",
   "execution_count": 11,
   "id": "5221aba8",
   "metadata": {},
   "outputs": [
    {
     "data": {
      "text/html": [
       "<div>\n",
       "<style scoped>\n",
       "    .dataframe tbody tr th:only-of-type {\n",
       "        vertical-align: middle;\n",
       "    }\n",
       "\n",
       "    .dataframe tbody tr th {\n",
       "        vertical-align: top;\n",
       "    }\n",
       "\n",
       "    .dataframe thead th {\n",
       "        text-align: right;\n",
       "    }\n",
       "</style>\n",
       "<table border=\"1\" class=\"dataframe\">\n",
       "  <thead>\n",
       "    <tr style=\"text-align: right;\">\n",
       "      <th></th>\n",
       "      <th>part_number</th>\n",
       "      <th>neighbors</th>\n",
       "      <th>merged_part</th>\n",
       "    </tr>\n",
       "  </thead>\n",
       "  <tbody>\n",
       "    <tr>\n",
       "      <th>0</th>\n",
       "      <td>18</td>\n",
       "      <td>[]</td>\n",
       "      <td>[15, 16, 17, 33, 40, 42, 34, 44, 43, 31, 41, 2...</td>\n",
       "    </tr>\n",
       "  </tbody>\n",
       "</table>\n",
       "</div>"
      ],
      "text/plain": [
       "   part_number neighbors                                        merged_part\n",
       "0           18        []  [15, 16, 17, 33, 40, 42, 34, 44, 43, 31, 41, 2..."
      ]
     },
     "execution_count": 11,
     "metadata": {},
     "output_type": "execute_result"
    }
   ],
   "source": [
    "# first element of the list: all the subspaces are merged\n",
    "list_p[0]"
   ]
  },
  {
   "cell_type": "code",
   "execution_count": 12,
   "id": "9be27f70",
   "metadata": {},
   "outputs": [
    {
     "data": {
      "text/html": [
       "<div>\n",
       "<style scoped>\n",
       "    .dataframe tbody tr th:only-of-type {\n",
       "        vertical-align: middle;\n",
       "    }\n",
       "\n",
       "    .dataframe tbody tr th {\n",
       "        vertical-align: top;\n",
       "    }\n",
       "\n",
       "    .dataframe thead th {\n",
       "        text-align: right;\n",
       "    }\n",
       "</style>\n",
       "<table border=\"1\" class=\"dataframe\">\n",
       "  <thead>\n",
       "    <tr style=\"text-align: right;\">\n",
       "      <th></th>\n",
       "      <th>part_number</th>\n",
       "      <th>neighbors</th>\n",
       "      <th>merged_part</th>\n",
       "    </tr>\n",
       "  </thead>\n",
       "  <tbody>\n",
       "    <tr>\n",
       "      <th>0</th>\n",
       "      <td>18</td>\n",
       "      <td>[38, 19, 41]</td>\n",
       "      <td>[15, 16, 17, 33]</td>\n",
       "    </tr>\n",
       "    <tr>\n",
       "      <th>1</th>\n",
       "      <td>19</td>\n",
       "      <td>[41, 38, 18]</td>\n",
       "      <td>[20]</td>\n",
       "    </tr>\n",
       "    <tr>\n",
       "      <th>2</th>\n",
       "      <td>26</td>\n",
       "      <td>[38, 41]</td>\n",
       "      <td>[25, 36, 46, 45, 23]</td>\n",
       "    </tr>\n",
       "    <tr>\n",
       "      <th>3</th>\n",
       "      <td>38</td>\n",
       "      <td>[18, 19, 41, 26]</td>\n",
       "      <td>[28, 39, 37]</td>\n",
       "    </tr>\n",
       "    <tr>\n",
       "      <th>4</th>\n",
       "      <td>41</td>\n",
       "      <td>[19, 38, 26, 18]</td>\n",
       "      <td>[40, 42, 34, 44, 43, 31]</td>\n",
       "    </tr>\n",
       "  </tbody>\n",
       "</table>\n",
       "</div>"
      ],
      "text/plain": [
       "   part_number         neighbors               merged_part\n",
       "0           18      [38, 19, 41]          [15, 16, 17, 33]\n",
       "1           19      [41, 38, 18]                      [20]\n",
       "2           26          [38, 41]      [25, 36, 46, 45, 23]\n",
       "3           38  [18, 19, 41, 26]              [28, 39, 37]\n",
       "4           41  [19, 38, 26, 18]  [40, 42, 34, 44, 43, 31]"
      ]
     },
     "execution_count": 12,
     "metadata": {},
     "output_type": "execute_result"
    }
   ],
   "source": [
    "# fifth element of the list:\n",
    "list_p[4]"
   ]
  },
  {
   "cell_type": "markdown",
   "id": "c09f14e5",
   "metadata": {},
   "source": [
    "*classified_data* is a list of lists. Each sublist contains the labels to associate to each sample in the configuration described by the corresponding element of *list_p*."
   ]
  },
  {
   "cell_type": "code",
   "execution_count": 13,
   "id": "a46cc4a8",
   "metadata": {},
   "outputs": [
    {
     "data": {
      "text/plain": [
       "[1,\n",
       " 1,\n",
       " 3,\n",
       " 4,\n",
       " 0,\n",
       " 0,\n",
       " 3,\n",
       " 0,\n",
       " 0,\n",
       " 3,\n",
       " 3,\n",
       " 2,\n",
       " 2,\n",
       " 4,\n",
       " 2,\n",
       " 3,\n",
       " 2,\n",
       " 0,\n",
       " 2,\n",
       " 4,\n",
       " 0,\n",
       " 4,\n",
       " 0,\n",
       " 0,\n",
       " 2,\n",
       " 4,\n",
       " 2,\n",
       " 4,\n",
       " 3,\n",
       " 0,\n",
       " 2,\n",
       " 3,\n",
       " 4,\n",
       " 1,\n",
       " 1,\n",
       " 0,\n",
       " 4,\n",
       " 2,\n",
       " 4,\n",
       " 4]"
      ]
     },
     "execution_count": 13,
     "metadata": {},
     "output_type": "execute_result"
    }
   ],
   "source": [
    "classified_data[4]"
   ]
  },
  {
   "cell_type": "markdown",
   "id": "dfaf0fdc",
   "metadata": {},
   "source": [
    "## VISUALIZATION OF THE RESULTS"
   ]
  },
  {
   "cell_type": "markdown",
   "id": "89453fe2",
   "metadata": {},
   "source": [
    "### PLOT OF THE FINAL SPACE PARTITIONS "
   ]
  },
  {
   "cell_type": "code",
   "execution_count": 14,
   "id": "2721f30f",
   "metadata": {},
   "outputs": [
    {
     "data": {
      "image/png": "[encoded data removed]",
      "text/plain": [
       "<Figure size 432x288 with 1 Axes>"
      ]
     },
     "metadata": {
      "needs_background": "light"
     },
     "output_type": "display_data"
    }
   ],
   "source": [
    "Plot.plot2D_partitioning(data,part)"
   ]
  },
  {
   "cell_type": "markdown",
   "id": "156706f6",
   "metadata": {},
   "source": [
    "### PLOT OF THE SPACE CLASSIFICATION FOR 2, 3 AND 6 NUMBER OF CLUSTERS"
   ]
  },
  {
   "cell_type": "code",
   "execution_count": 15,
   "id": "7ac355ce",
   "metadata": {},
   "outputs": [
    {
     "data": {
      "image/png": "[encoded data removed]",
      "text/plain": [
       "<Figure size 432x288 with 1 Axes>"
      ]
     },
     "metadata": {
      "needs_background": "light"
     },
     "output_type": "display_data"
    }
   ],
   "source": [
    "number_of_clusters = 2\n",
    "Plot.plot2D_merging(data,part,list_p,number_of_clusters)"
   ]
  },
  {
   "cell_type": "code",
   "execution_count": 16,
   "id": "52089b47",
   "metadata": {},
   "outputs": [
    {
     "data": {
      "image/png": "[encoded data removed]",
      "text/plain": [
       "<Figure size 432x288 with 1 Axes>"
      ]
     },
     "metadata": {
      "needs_background": "light"
     },
     "output_type": "display_data"
    }
   ],
   "source": [
    "number_of_clusters = 3\n",
    "Plot.plot2D_merging(data,part,list_p,number_of_clusters)"
   ]
  },
  {
   "cell_type": "code",
   "execution_count": 17,
   "id": "8b4bd131",
   "metadata": {},
   "outputs": [
    {
     "data": {
      "image/png": "[encoded data removed]",
      "text/plain": [
       "<Figure size 432x288 with 1 Axes>"
      ]
     },
     "metadata": {
      "needs_background": "light"
     },
     "output_type": "display_data"
    }
   ],
   "source": [
    "number_of_clusters = 6\n",
    "Plot.plot2D_merging(data,part,list_p,number_of_clusters)"
   ]
  },
  {
   "cell_type": "code",
   "execution_count": null,
   "id": "7031693a",
   "metadata": {},
   "outputs": [],
   "source": [
    "import sys\n",
    "print(sys.getsizeof(df))"
   ]
  },
  {
   "cell_type": "code",
   "execution_count": 16,
   "id": "2f9a0b8a",
   "metadata": {},
   "outputs": [
    {
     "name": "stdout",
     "output_type": "stream",
     "text": [
      "0.1340065999999922\n"
     ]
    }
   ],
   "source": [
    "import time\n",
    "start = time.perf_counter()\n",
    "classified_data = class_assignment(list_m_leaf)\n",
    "end = time.perf_counter()\n",
    "print(end - start)"
   ]
  }
 ],
 "metadata": {
  "kernelspec": {
   "display_name": "Python 3",
   "language": "python",
   "name": "python3"
  },
  "language_info": {
   "codemirror_mode": {
    "name": "ipython",
    "version": 3
   },
   "file_extension": ".py",
   "mimetype": "text/x-python",
   "name": "python",
   "nbconvert_exporter": "python",
   "pygments_lexer": "ipython3",
   "version": "3.7.11"
  }
 },
 "nbformat": 4,
 "nbformat_minor": 5
}
